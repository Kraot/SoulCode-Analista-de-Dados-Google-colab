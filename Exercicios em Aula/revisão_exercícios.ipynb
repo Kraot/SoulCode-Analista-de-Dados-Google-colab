{
  "nbformat": 4,
  "nbformat_minor": 0,
  "metadata": {
    "colab": {
      "provenance": [],
      "include_colab_link": true
    },
    "kernelspec": {
      "name": "python3",
      "display_name": "Python 3"
    },
    "language_info": {
      "name": "python"
    }
  },
  "cells": [
    {
      "cell_type": "markdown",
      "metadata": {
        "id": "view-in-github",
        "colab_type": "text"
      },
      "source": [
        "<a href=\"https://colab.research.google.com/github/Kraot/SoulCode-Analista-de-Dados-Google-colab/blob/main/Exercicios%20em%20Aula/revis%C3%A3o_exerc%C3%ADcios.ipynb\" target=\"_parent\"><img src=\"https://colab.research.google.com/assets/colab-badge.svg\" alt=\"Open In Colab\"/></a>"
      ]
    },
    {
      "cell_type": "code",
      "source": [
        "'''\n",
        "Elabore um programa que receba do usuário em um único input\n",
        "uma sequência de números e calcule e exiba:\n",
        "a) a média aritmética\n",
        "b) a variância\n",
        "c) o desvio padrão\n",
        "'''\n",
        "dados = input('Informe os valores numéricos separados por espaços: ') # recebe uma string com todos os valores desejados\n",
        "lista = dados.split() # converte a string em uma lista contendo strings numérica separadas\n",
        "n = len(lista)\n",
        "for i in range(n):\n",
        "  lista[i] = float(lista[i])\n",
        "media = sum(lista)/n\n",
        "quad = []\n",
        "for i in range(n):\n",
        "  quad.append((lista[i] - media)**2)\n",
        "var = sum(quad)/(n-1)\n",
        "desvio = var**(1/2)\n",
        "print(f'A média é {media:.2f}')\n",
        "print(f'A variância é {var:.2f}')\n",
        "print(f'O desvio padrão é {desvio:.2f}')"
      ],
      "metadata": {
        "colab": {
          "base_uri": "https://localhost:8080/"
        },
        "id": "ORrOc3hguyzG",
        "outputId": "db8f520c-1cc5-44cc-bd7c-9986389b6240"
      },
      "execution_count": null,
      "outputs": [
        {
          "output_type": "stream",
          "name": "stdout",
          "text": [
            "Informe os valores numéricos separados por espaços: 5 9 7 6 8\n",
            "A média é 7.00\n",
            "A variância é 2.50\n",
            "O desvio padrão é 1.58\n"
          ]
        }
      ]
    },
    {
      "cell_type": "code",
      "source": [
        "'''\n",
        "Elabore um programa que receba do usuário em um único input\n",
        "uma sequência de números e calcule e exiba:\n",
        "a) a média aritmética\n",
        "b) a variância\n",
        "c) o desvio padrão\n",
        "'''\n",
        "dados = input('Informe os valores numéricos separados por espaços: ') # recebe uma string com todos os valores desejados\n",
        "lista = dados.split() # converte a string em uma lista contendo strings numérica separadas\n",
        "n = len(lista)\n",
        "for i,v in enumerate(lista):\n",
        "  lista[i] = float(lista[i])\n",
        "media = sum(lista)/n\n",
        "quad = []\n",
        "for i,v in enumerate(lista):\n",
        "  quad.append((lista[i] - media)**2)\n",
        "var = sum(quad)/(n-1)\n",
        "desvio = var**(1/2)\n",
        "print(f'A média é {media:.2f}')\n",
        "print(f'A variância é {var:.2f}')\n",
        "print(f'O desvio padrão é {desvio:.2f}')"
      ],
      "metadata": {
        "colab": {
          "base_uri": "https://localhost:8080/"
        },
        "id": "r56wyKvU68nu",
        "outputId": "1686a34c-92a0-44cc-d4b5-7442f1e72a3c"
      },
      "execution_count": null,
      "outputs": [
        {
          "output_type": "stream",
          "name": "stdout",
          "text": [
            "Informe os valores numéricos separados por espaços: 5 9 7 6 8\n",
            "A média é 7.00\n",
            "A variância é 2.50\n",
            "O desvio padrão é 1.58\n"
          ]
        }
      ]
    },
    {
      "cell_type": "code",
      "source": [
        "# alternativa usando função com args\n",
        "def media(*args):\n",
        "  soma = 0\n",
        "  quad = []\n",
        "  n = len(args)\n",
        "  for arg in args:\n",
        "    soma += arg\n",
        "  media = soma / n\n",
        "  for arg in args:\n",
        "    quad.append((arg-media)**2)\n",
        "  var = sum(quad)/(n-1)\n",
        "  desvio = var**(1/2)\n",
        "  return media, var, desvio"
      ],
      "metadata": {
        "id": "nhrUIdKT8uyG"
      },
      "execution_count": null,
      "outputs": []
    },
    {
      "cell_type": "code",
      "source": [
        "# Como ordenar de forma crescente os valores de uma lista:\n",
        "\n",
        "lista = [10, 5, 6, 9, 8, 7]\n",
        "lista = sorted(lista)\n",
        "print(lista)"
      ],
      "metadata": {
        "colab": {
          "base_uri": "https://localhost:8080/"
        },
        "id": "0MJlbXHmIX_K",
        "outputId": "632b397e-c1ca-4cc4-a2ef-a1dc3782efba"
      },
      "execution_count": null,
      "outputs": [
        {
          "output_type": "stream",
          "name": "stdout",
          "text": [
            "[5, 6, 7, 8, 9, 10]\n"
          ]
        }
      ]
    },
    {
      "cell_type": "code",
      "source": [
        "# para n ímpar\n",
        "nomes = ['Douglas', 'Daniela', 'Maria', 'Pedro', 'Eduardo']\n",
        "n = len(nomes)\n",
        "print(n)\n",
        "print(f'O nome que separa a lista em duas partes é {nomes[(int((n+1)/2))-1]}')"
      ],
      "metadata": {
        "colab": {
          "base_uri": "https://localhost:8080/"
        },
        "id": "ESOSlC19L2e2",
        "outputId": "d5837320-5b7a-46c1-8156-d779d585185a"
      },
      "execution_count": null,
      "outputs": [
        {
          "output_type": "stream",
          "name": "stdout",
          "text": [
            "5\n",
            "O nome que separa a lista em duas partes é Maria\n"
          ]
        }
      ]
    },
    {
      "cell_type": "code",
      "source": [
        "# para n par\n",
        "nomes2 = ['Douglas', 'Daniela', 'Maria', 'Pedro', 'Eduardo','Ester']\n",
        "n = len(nomes2)\n",
        "print(n)\n",
        "print(f'Os nomes centrais {nomes2[int(n/2)-1]} e {nomes2[int(n/2)]}')"
      ],
      "metadata": {
        "colab": {
          "base_uri": "https://localhost:8080/"
        },
        "id": "_sMt0gysNeUo",
        "outputId": "4e0ad637-8bfb-446b-ed9b-6b89afe1a327"
      },
      "execution_count": null,
      "outputs": [
        {
          "output_type": "stream",
          "name": "stdout",
          "text": [
            "6\n",
            "Os nomes centrais Maria e Pedro\n"
          ]
        }
      ]
    },
    {
      "cell_type": "code",
      "source": [
        "'''\n",
        "Implente a seguinte funcionalidade no programa:\n",
        "cálculo e exibição da mediana\n",
        "'''\n",
        "'''\n",
        "Elabore um programa que receba do usuário em um único input\n",
        "uma sequência de números e calcule e exiba:\n",
        "a) a média aritmética\n",
        "b) a variância\n",
        "c) o desvio padrão\n",
        "'''\n",
        "dados = input('Informe os valores numéricos separados por espaços: ') # recebe uma string com todos os valores desejados\n",
        "lista = dados.split() # converte a string em uma lista contendo strings numérica separadas\n",
        "n = len(lista)\n",
        "for i in range(n):\n",
        "  lista[i] = float(lista[i])\n",
        "media = sum(lista)/n\n",
        "quad = []\n",
        "for i in range(n):\n",
        "  quad.append((lista[i] - media)**2)\n",
        "var = sum(quad)/(n-1)\n",
        "desvio = var**(1/2)\n",
        "lista = sorted(lista)\n",
        "if n % 2 == 0:\n",
        "  mediana = (lista[int(n/2)-1] + lista[int(n/2)])/2\n",
        "else:\n",
        "  mediana = lista[int((n+1)/2)-1]\n",
        "print(f'A média é {media:.2f}')\n",
        "print(f'A variância é {var:.2f}')\n",
        "print(f'O desvio padrão é {desvio:.2f}')\n",
        "print(f'O Valor da mediana é {mediana:.2f}')"
      ],
      "metadata": {
        "colab": {
          "base_uri": "https://localhost:8080/"
        },
        "id": "drOXWM7pGf4U",
        "outputId": "7ede46d0-2120-4258-c39c-4c92c86fdce5"
      },
      "execution_count": null,
      "outputs": [
        {
          "output_type": "stream",
          "name": "stdout",
          "text": [
            "Informe os valores numéricos separados por espaços: 5 9 7 6 8 10\n",
            "A média é 7.50\n",
            "A variância é 3.50\n",
            "O desvio padrão é 1.87\n",
            "O Valor da mediana é 7.50\n"
          ]
        }
      ]
    }
  ]
}