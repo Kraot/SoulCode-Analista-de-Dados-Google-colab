{
  "nbformat": 4,
  "nbformat_minor": 0,
  "metadata": {
    "colab": {
      "provenance": [],
      "authorship_tag": "ABX9TyPYIETa4glHzkUBnbqVF/3S",
      "include_colab_link": true
    },
    "kernelspec": {
      "name": "python3",
      "display_name": "Python 3"
    },
    "language_info": {
      "name": "python"
    }
  },
  "cells": [
    {
      "cell_type": "markdown",
      "metadata": {
        "id": "view-in-github",
        "colab_type": "text"
      },
      "source": [
        "<a href=\"https://colab.research.google.com/github/Kraot/SoulCode-Analista-de-Dados-Google-colab/blob/main/Exercicios%20em%20Aula/Exercicios_aula_13_04_2024.ipynb\" target=\"_parent\"><img src=\"https://colab.research.google.com/assets/colab-badge.svg\" alt=\"Open In Colab\"/></a>"
      ]
    },
    {
      "cell_type": "code",
      "execution_count": null,
      "metadata": {
        "colab": {
          "base_uri": "https://localhost:8080/"
        },
        "id": "0gTU_No_6Dxj",
        "outputId": "b0f093d1-1515-4d30-b376-3024ac6eeeea"
      },
      "outputs": [
        {
          "output_type": "stream",
          "name": "stdout",
          "text": [
            "Digite apenas os primeiros nomes, separando-os por espaços: matheus  bia\n",
            "Nomes armazenados: ['matheus', 'bia']\n",
            "bia\n"
          ]
        }
      ],
      "source": [
        "\n",
        "'''\n",
        "Crie um programa que receba do usuário dois ou mais nomes separados\n",
        "por espaços e no mesmo input e os armazene em uma variável chamada nomes\n",
        "'''\n",
        "\n",
        "nome = input(\"Digite apenas os primeiros nomes, separando-os por espaços: \")\n",
        "nomes = nome.split()\n",
        "print(\"Nomes armazenados:\", nomes)\n",
        "\n",
        "print(nomes[1])\n",
        "\n"
      ]
    },
    {
      "cell_type": "code",
      "source": [
        "'''\n",
        "Elabore um programa que receba do usuário um número inteiro e positivo\n",
        "de no máximo 5, e automaticamente, exiba o nome do produto correspondente,\n",
        "seu preço, sua quantidade vendida, o valor faturado em R$, e quantas unidades\n",
        "ainda restam em estoque desse produto.\n",
        "'''\n",
        "n = int(input('digite um numero de 0 a 5: '))\n",
        "\n",
        "produtos = ['monitor', 'celular', 'notebook', 'desktop', 'impressora', 'teclado']\n",
        "precos = [600, 2000, 5000, 3000, 1500, 200]\n",
        "vendas = [300, 500, 100, 700, 500, 1000]\n",
        "estoques = [5000] * 6\n",
        "\n",
        "valorF = vendas[n] * precos[n]\n",
        "\n",
        "estoqueR = estoques[n] - vendas[n]\n",
        "\n",
        "print(f'o nome do produto correspondente:{produtos[n]}')\n",
        "print(f'Preço do produto selecionado: {precos[n]:,.2f}')\n",
        "print(f'quantidades vendidas : {vendas[n]} unidades')\n",
        "print(f'produtos no estoque antes das vendas :{estoques[n]} unidades')\n",
        "\n",
        "print(f'o valor faturado em R$ {valorF:,.2f}')\n",
        "print(f'unidades ainda restam em estoque desse produto {estoqueR}')\n",
        "\n",
        "# ou\n",
        "\n",
        "i = int(input('Informe um número inteiro e positivos de 0 a 5: ')) # recebe do usuário um número inteiro e positivo e o armazena na variável i\n",
        "print(f'O produto escolhido foi: {produtos[i]}') # Exibe o nome do produto referente ao número informado pelo usuário\n",
        "print(f'seu preço é de: R$ {precos[i]:,.2f}')\n",
        "print(f'sua quantidade vendida fou de {vendas[i]} unidades')\n",
        "print(f'o seu faturamento foi de R$ {(vendas[i]*precos[i]):,.2f} ')\n",
        "print(f'e ainda restam {estoques[i]-vendas[i]} unidades em estoque')"
      ],
      "metadata": {
        "colab": {
          "base_uri": "https://localhost:8080/"
        },
        "id": "esH9RrCRSQQY",
        "outputId": "87b77a56-9c3d-4f43-a033-0903e5d6dffd"
      },
      "execution_count": 18,
      "outputs": [
        {
          "output_type": "stream",
          "name": "stdout",
          "text": [
            "digite um numero de 0 a 5: 0\n",
            "o nome do produto correspondente:monitor\n",
            "Preço do produto selecionado: 600.00\n",
            "quantidades vendidas : 300 unidades\n",
            "produtos no estoque antes das vendas :5000 unidades\n",
            "o valor faturado em R$ 180,000.00\n",
            "unidades ainda restam em estoque desse produto 4700\n"
          ]
        }
      ]
    }
  ]
}