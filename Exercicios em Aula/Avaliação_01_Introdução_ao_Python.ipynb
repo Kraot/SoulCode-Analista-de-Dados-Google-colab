{
  "nbformat": 4,
  "nbformat_minor": 0,
  "metadata": {
    "colab": {
      "provenance": [],
      "authorship_tag": "ABX9TyOPhxvXhnPMcd3RzNEY2qYN",
      "include_colab_link": true
    },
    "kernelspec": {
      "name": "python3",
      "display_name": "Python 3"
    },
    "language_info": {
      "name": "python"
    }
  },
  "cells": [
    {
      "cell_type": "markdown",
      "metadata": {
        "id": "view-in-github",
        "colab_type": "text"
      },
      "source": [
        "<a href=\"https://colab.research.google.com/github/Kraot/SoulCode-Analista-de-Dados-Google-colab/blob/main/Exercicios%20em%20Aula/Avalia%C3%A7%C3%A3o_01_Introdu%C3%A7%C3%A3o_ao_Python.ipynb\" target=\"_parent\"><img src=\"https://colab.research.google.com/assets/colab-badge.svg\" alt=\"Open In Colab\"/></a>"
      ]
    },
    {
      "cell_type": "code",
      "execution_count": null,
      "metadata": {
        "colab": {
          "base_uri": "https://localhost:8080/"
        },
        "id": "01WI-JvI0N3e",
        "outputId": "7e2d6fed-ed2a-42c7-ab02-699e9216d73e"
      },
      "outputs": [
        {
          "output_type": "stream",
          "name": "stdout",
          "text": [
            "x é :True\n",
            "y é :False\n"
          ]
        }
      ],
      "source": [
        "'''\n",
        "O operador 'or' retorna True se pelo menos um dos operandos for True.\n",
        "\n",
        "'''\n",
        "a = 10\n",
        "b = 5\n",
        "\n",
        "x = a > b or  a < b\n",
        "y = True and False\n",
        "\n",
        "print(f'x é :{x}')\n",
        "\n",
        "# Qual é o resultado da expressão \"True and False\"?\n",
        "\n",
        "print(f'y é :{y}')\n",
        "\n"
      ]
    },
    {
      "cell_type": "code",
      "source": [
        "'''\n",
        "Qual é a forma correta de acessar o terceiro caractere de uma string chamada 'texto'?\n",
        "\n",
        "'''\n",
        "x = 'texto'\n",
        "\n",
        "print(x[2])"
      ],
      "metadata": {
        "colab": {
          "base_uri": "https://localhost:8080/"
        },
        "id": "CTjT07DU2pF3",
        "outputId": "9592213c-6e11-4676-e5a9-5e1a74a87af1"
      },
      "execution_count": null,
      "outputs": [
        {
          "output_type": "stream",
          "name": "stdout",
          "text": [
            "x\n"
          ]
        }
      ]
    },
    {
      "cell_type": "code",
      "source": [
        "'''\n",
        "Qual é a função do índice -1 ao acessar um caractere em uma string em Python?\n",
        "\n",
        "'''\n",
        "x = 'texto'\n",
        "\n",
        "print(x[-1])"
      ],
      "metadata": {
        "colab": {
          "base_uri": "https://localhost:8080/"
        },
        "id": "o34dzGSs4M8u",
        "outputId": "bdba99d1-c442-4d7a-fdab-6be63043bbc4"
      },
      "execution_count": null,
      "outputs": [
        {
          "output_type": "stream",
          "name": "stdout",
          "text": [
            "o\n"
          ]
        }
      ]
    },
    {
      "cell_type": "code",
      "source": [
        "'''\n",
        "Qual método é utilizado para adicionar um elemento no final de uma lista em Python?\n",
        "'''\n",
        "lista = [1 , 2 ,3]\n",
        "lista.append(4)\n",
        "print(lista)"
      ],
      "metadata": {
        "colab": {
          "base_uri": "https://localhost:8080/"
        },
        "id": "iENIT-xo4u_1",
        "outputId": "0e403d0c-3e38-43d1-9155-f07b0cc03c0b"
      },
      "execution_count": null,
      "outputs": [
        {
          "output_type": "stream",
          "name": "stdout",
          "text": [
            "[1, 2, 3, 4]\n"
          ]
        }
      ]
    },
    {
      "cell_type": "code",
      "source": [
        "'''\n",
        "O operador '==' verifica se dois valores são iguais.\n",
        "\n",
        "'''\n",
        "a = 5\n",
        "b = 5\n",
        "c = 4\n",
        "x = a == b\n",
        "\n",
        "#O operador '=<' é válido em Python.  false\n",
        "\n",
        "y = c <= 5\n",
        "\n",
        "\n",
        "print(f'x é :{x}')\n",
        "print(f'y é :{y}')\n"
      ],
      "metadata": {
        "colab": {
          "base_uri": "https://localhost:8080/"
        },
        "id": "dOL3jfLZ5mY1",
        "outputId": "6183e3b3-484c-411c-9371-a1b0cc020f0d"
      },
      "execution_count": null,
      "outputs": [
        {
          "output_type": "stream",
          "name": "stdout",
          "text": [
            "x é :True\n",
            "y é :True\n"
          ]
        }
      ]
    },
    {
      "cell_type": "code",
      "source": [
        "'''\n",
        "Qual método que separa uma string por caracteres específicos, se não for especificado o caracter ela assume espaço como separador?\n",
        "'''\n",
        "x = 't e x t o'\n",
        "\n",
        "x = x.split()\n",
        "\n",
        "print(x)"
      ],
      "metadata": {
        "colab": {
          "base_uri": "https://localhost:8080/"
        },
        "id": "0ZpsAnR_6sB9",
        "outputId": "ba309d8a-63af-4751-f230-84d79fab5ae7"
      },
      "execution_count": null,
      "outputs": [
        {
          "output_type": "stream",
          "name": "stdout",
          "text": [
            "['t', 'e', 'x', 't', 'o']\n"
          ]
        }
      ]
    },
    {
      "cell_type": "code",
      "source": [
        "'''\n",
        "Como percorrer uma sequência de números inteiros de 0 até 4 usando um loop for?\n",
        "'''\n",
        "\n",
        "for i in range(5):\n",
        "  print(i)"
      ],
      "metadata": {
        "colab": {
          "base_uri": "https://localhost:8080/"
        },
        "id": "2I6hfsqq7yb1",
        "outputId": "61943ff1-cea8-4fab-804c-37b6cce5ea36"
      },
      "execution_count": null,
      "outputs": [
        {
          "output_type": "stream",
          "name": "stdout",
          "text": [
            "0\n",
            "1\n",
            "2\n",
            "3\n",
            "4\n"
          ]
        }
      ]
    },
    {
      "cell_type": "code",
      "source": [
        "'''\n",
        "O que o método count() faz em uma string?\n",
        "\n",
        "'''\n",
        "\n",
        "texto = 'banana'\n",
        "x = texto.count('a')\n",
        "print(\"x é: \", x)\n",
        "\n",
        "# Qual método é utilizado para transformar uma string em letras maiúsculas?\n",
        "texto = texto.upper()\n",
        "\n",
        "print(f'tudo maiusculo: {texto}')"
      ],
      "metadata": {
        "colab": {
          "base_uri": "https://localhost:8080/"
        },
        "id": "eMfNIwew8bg1",
        "outputId": "d0d446bc-d16d-4263-c643-8fc3b28e60bb"
      },
      "execution_count": null,
      "outputs": [
        {
          "output_type": "stream",
          "name": "stdout",
          "text": [
            "x é:  3\n",
            "tudo maiusculo: BANANA\n"
          ]
        }
      ]
    },
    {
      "cell_type": "code",
      "source": [
        "'''\n",
        "Como você percorre os elementos (valores dos dados) de uma lista usando um loop 'for' em Python?\n",
        "'''\n",
        "\n",
        "lista = [1, 2, 3]\n",
        "\n",
        "for i in lista:\n",
        "    print(i)"
      ],
      "metadata": {
        "colab": {
          "base_uri": "https://localhost:8080/"
        },
        "id": "2Yu-FTyM9RU0",
        "outputId": "798b89ba-1200-41d8-8961-a8661a8aabc5"
      },
      "execution_count": null,
      "outputs": [
        {
          "output_type": "stream",
          "name": "stdout",
          "text": [
            "1\n",
            "2\n",
            "3\n"
          ]
        }
      ]
    },
    {
      "cell_type": "code",
      "source": [
        "'''\n",
        "O que o operador % faz?\n",
        "\n",
        "'''\n",
        "x = 10 % 3\n",
        "print(x)"
      ],
      "metadata": {
        "colab": {
          "base_uri": "https://localhost:8080/"
        },
        "id": "no2VlGqlBZ8L",
        "outputId": "42a73e90-9431-446f-9908-d439a84c84f6"
      },
      "execution_count": null,
      "outputs": [
        {
          "output_type": "stream",
          "name": "stdout",
          "text": [
            "1\n"
          ]
        }
      ]
    },
    {
      "cell_type": "code",
      "source": [
        "'''\n",
        "Como você converte uma variável inteira para uma string em Python?\n",
        "\n",
        "'''\n",
        "x = 42\n",
        "\n",
        "x = str(x)\n",
        "\n",
        "print(type(x))"
      ],
      "metadata": {
        "colab": {
          "base_uri": "https://localhost:8080/"
        },
        "id": "ifxL8_PPCGf0",
        "outputId": "648ed410-196a-484c-bb37-86dc7bc9f5d2"
      },
      "execution_count": null,
      "outputs": [
        {
          "output_type": "stream",
          "name": "stdout",
          "text": [
            "42\n",
            "<class 'str'>\n"
          ]
        }
      ]
    },
    {
      "cell_type": "code",
      "source": [
        "'''\n",
        "Qual é a saída do código print(\"Python\"[1])?\n",
        "\n",
        "'''\n",
        "print(\"Python\"[1])"
      ],
      "metadata": {
        "colab": {
          "base_uri": "https://localhost:8080/"
        },
        "id": "mjwuYCjtDqCj",
        "outputId": "fda0b86c-712b-4e53-94b3-57e8e88f973e"
      },
      "execution_count": null,
      "outputs": [
        {
          "output_type": "stream",
          "name": "stdout",
          "text": [
            "y\n"
          ]
        }
      ]
    },
    {
      "cell_type": "code",
      "source": [
        "'''\n",
        "Qual é a função da estrutura de repetição 'while' em Python?\n",
        "'''\n",
        "\n"
      ],
      "metadata": {
        "id": "i6bbaCRfEDua"
      },
      "execution_count": null,
      "outputs": []
    }
  ]
}