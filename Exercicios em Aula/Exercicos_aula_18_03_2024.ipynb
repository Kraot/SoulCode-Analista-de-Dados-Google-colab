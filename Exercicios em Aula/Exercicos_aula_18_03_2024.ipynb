{
  "nbformat": 4,
  "nbformat_minor": 0,
  "metadata": {
    "colab": {
      "provenance": [],
      "authorship_tag": "ABX9TyPuRLGshhD+JMKA0rfJjuvg",
      "include_colab_link": true
    },
    "kernelspec": {
      "name": "python3",
      "display_name": "Python 3"
    },
    "language_info": {
      "name": "python"
    }
  },
  "cells": [
    {
      "cell_type": "markdown",
      "metadata": {
        "id": "view-in-github",
        "colab_type": "text"
      },
      "source": [
        "<a href=\"https://colab.research.google.com/github/Kraot/SoulCode-Analista-de-Dados-Google-colab/blob/main/Exercicios%20em%20Aula/Exercicos_aula_18_03_2024.ipynb\" target=\"_parent\"><img src=\"https://colab.research.google.com/assets/colab-badge.svg\" alt=\"Open In Colab\"/></a>"
      ]
    },
    {
      "cell_type": "code",
      "source": [
        "'''\n",
        "Crie um programa que receba do usuário n notas (1 ou mais notas), calcule a\n",
        "média aritmética delase caso a média seja maior ou igual a 6 exiba a mensagem\n",
        "Parabéns, você foi aprovado, caso a média seja menor que 6 mas maior ou igual a\n",
        "4 exiba a mensagem você está em recuperação, caso a média seja menor que 4 exiba\n",
        "a mensagem  Infelizmente você não foi aprovado e caso a média seja igual a\n",
        "10 exiba a mensagem Parabéns você foi aprovado com nota máxima.\n",
        " Obd.: as n notas digitadas pelo usuário deverão ser informadas em um único input\n",
        " separadas por espaços.\n",
        "'''\n",
        "# correção professor\n",
        "notas = input('Informe as notas de 0 a 10 separadas por espaços: ')\n",
        "notas = notas.split()\n",
        "for i, v in enumerate(notas):\n",
        "  notas[i] = float(v)\n",
        "media = sum(notas)/len(notas)\n",
        "print(media)\n",
        "if media == 10:\n",
        "  print('Parabéns você foi aprovado com nota máxima!')\n",
        "else:\n",
        "  if media >= 6:\n",
        "    print('Parabéns você foi aprovado!')\n",
        "  elif media >= 4:\n",
        "    print('Você ficou de recuperação!')\n",
        "  else:\n",
        "    print('Infelizmento você não foi aprovado!')\n",
        "\n"
      ],
      "metadata": {
        "colab": {
          "base_uri": "https://localhost:8080/"
        },
        "id": "4Cb-diQqDwM6",
        "outputId": "6a0413f4-3ca9-4c9a-c193-5f74defc27e6"
      },
      "execution_count": null,
      "outputs": [
        {
          "output_type": "stream",
          "name": "stdout",
          "text": [
            "Informe as notas de 0 a 10 separadas por espaços:  6 7 8\n",
            "7.0\n",
            "Parabéns você foi aprovado!\n"
          ]
        }
      ]
    },
    {
      "cell_type": "code",
      "source": [
        "'''\n",
        "Alternativa usando o range\n",
        "'''\n",
        "notas = input('Informe as notas de 0 a 10 separadas por espaços: ')\n",
        "notas = notas.split()\n",
        "for i in range(len(notas)):\n",
        "  notas[i] = float(notas[i])\n",
        "media = sum(notas)/len(notas)\n",
        "print(media)\n",
        "if media == 10:\n",
        "  print('Parabéns você foi aprovado com nota máxima!')\n",
        "else:\n",
        "  if media >= 6:\n",
        "    print('Parabéns você foi aprovado!')\n",
        "  elif media >= 4:\n",
        "    print('Você ficou de recuperação!')\n",
        "  else:\n",
        "    print('Infelizmente você não foi aprovado!')"
      ],
      "metadata": {
        "colab": {
          "base_uri": "https://localhost:8080/"
        },
        "id": "UPDhH2Svd7Wg",
        "outputId": "cf2174f5-61cf-45f5-f271-c26d2c8e4376"
      },
      "execution_count": null,
      "outputs": [
        {
          "output_type": "stream",
          "name": "stdout",
          "text": [
            "Informe as notas de 0 a 10 separadas por espaços: 1 1 1\n",
            "1.0\n",
            "Infelizmente você não foi aprovado!\n"
          ]
        }
      ]
    },
    {
      "cell_type": "code",
      "execution_count": null,
      "metadata": {
        "colab": {
          "base_uri": "https://localhost:8080/"
        },
        "id": "g4jwHRoB7IWg",
        "outputId": "4707b46c-5623-420c-92ce-f1f32e3867c3"
      },
      "outputs": [
        {
          "output_type": "stream",
          "name": "stdout",
          "text": [
            "Digite as notas separadas por espaço: 4 3 10\n",
            "Você está em recuperação.\n"
          ]
        }
      ],
      "source": [
        "\n",
        "# Modelo 1\n",
        "\n",
        "# Recebendo as notas do usuário em um único input\n",
        "notas_str = input(\"Digite as notas separadas por espaço: \")\n",
        "\n",
        "# Convertendo as notas de string para float\n",
        "notas = [float(nota) for nota in notas_str.split()]\n",
        "\n",
        "# Calculando a média das notas\n",
        "media = sum(notas) / len(notas)\n",
        "\n",
        "# Verificando a situação do aluno com base na média\n",
        "if media == 10:\n",
        "    print(\"Parabéns, você foi aprovado com nota máxima.\")\n",
        "elif media >= 6:\n",
        "    print(\"Parabéns, você foi aprovado.\")\n",
        "elif media >= 4:\n",
        "    print(\"Você está em recuperação.\")\n",
        "else:\n",
        "    print(\"Infelizmente você não foi aprovado.\")"
      ]
    },
    {
      "cell_type": "code",
      "source": [
        "# Modelo 2\n",
        "\n",
        "notas = input('Digite as notas separadas por espaços:')\n",
        "\n",
        "notas = notas.split()\n",
        "\n",
        "notas = [float(nota) for nota in notas]\n",
        "\n",
        "lista = notas\n",
        "\n",
        "print(lista)\n",
        "\n",
        "media = sum(lista) / len(lista)\n",
        "\n",
        "print(f'sua media é : {media}')\n",
        "\n",
        "if media == 10:\n",
        "    print(\"Parabéns, você foi aprovado com nota máxima.\")\n",
        "elif media >= 6:\n",
        "    print(\"Parabéns, você foi aprovado.\")\n",
        "elif media >= 4:\n",
        "    print(\"Você está em recuperação.\")\n",
        "else:\n",
        "    print(\"Infelizmente você não foi aprovado.\")"
      ],
      "metadata": {
        "colab": {
          "base_uri": "https://localhost:8080/"
        },
        "id": "AM6YfXYD78-E",
        "outputId": "a7bbb940-82f0-4eae-9b13-f5401cb96e10"
      },
      "execution_count": null,
      "outputs": [
        {
          "output_type": "stream",
          "name": "stdout",
          "text": [
            "Digite as notas separadas por espaços:10 10 10\n",
            "[10.0, 10.0, 10.0]\n",
            "sua media é : 10.0\n",
            "Parabéns, você foi aprovado com nota máxima.\n"
          ]
        }
      ]
    },
    {
      "cell_type": "code",
      "source": [
        "'''\n",
        "crie uma entrade de dados numéricos (notas de 0 a 10) em um único input onde os\n",
        "valores são informados e separados por espaços, e armazene isso tudo\n",
        "em uma variável chamada nota, a seguir verifique qual tipo de dados\n",
        "está armazenado nessa variável.\n",
        "'''\n",
        "nota = input('Informe as notas de 0 a 10 separadas por espaços: ')\n",
        "print(type(nota))\n",
        "\n",
        "'''\n",
        "Agora separe os valores armazenados em nota utilizando os espaços como\n",
        "separadores e armazene tudo em um objeto chamado notas.\n",
        "'''\n",
        "notas = nota.split()\n",
        "\n",
        "'''\n",
        "Agora converta cada valor do objeto notas em número do tipo float,\n",
        "e na sequência exiba o objeto notas e a soma de todos os valores deste\n",
        "objeto\n",
        "'''\n",
        "\n",
        "for i in range(len(notas)):\n",
        "  notas[i] = float(notas[i])\n",
        "print(sum(notas))\n",
        "\n",
        "# Alternativa usando o enumerate\n",
        "\n",
        "for i, v in enumerate(notas):\n",
        "  notas[i] = float(v)\n",
        "print(sum(notas))\n",
        "\n",
        "'''\n",
        "Agora elabore um código que a partir dos valores da lista notas calcule a\n",
        "média aritmética e exiba o valor dessa média\n",
        "'''\n",
        "\n",
        "media = sum(notas)/len(notas)\n",
        "print(media)\n",
        "\n",
        "'''\n",
        "Agora crie um código que caso a média seja maior ou igual a 6 exiba a mensagem\n",
        "Parabéns, você foi aprovado, caso a média seja menor que 6 mas maior ou igual a\n",
        "4 exiba a mensagem você está em recuperação, caso a média seja menor que 4 exiba\n",
        "a mensagem  Infelizmente você não foi aprovado e caso a média seja igual a\n",
        "10 exiba a mensagem Parabéns você foi aprovado com nota máxima.\n",
        "'''\n",
        "\n",
        "if media == 10:\n",
        "  print('Parabéns você foi aprovado com nota máxima!')\n",
        "else:\n",
        "  if media >= 6:\n",
        "    print('Parabéns você foi aprovado!')\n",
        "  elif media >= 4:\n",
        "    print('Você ficou de recuperação!')\n",
        "  else:\n",
        "    print('Infelizmente você não foi aprovado!')\n",
        "\n",
        "\n"
      ],
      "metadata": {
        "id": "kG1Bpgw0eXb_",
        "colab": {
          "base_uri": "https://localhost:8080/"
        },
        "outputId": "672a53c4-1e0e-4018-fcbb-00e31bf29fba"
      },
      "execution_count": 24,
      "outputs": [
        {
          "output_type": "stream",
          "name": "stdout",
          "text": [
            "Informe as notas de 0 a 10 separadas por espaços: 10 10 10\n",
            "<class 'str'>\n",
            "30.0\n",
            "30.0\n",
            "10.0\n",
            "Parabéns você foi aprovado com nota máxima!\n"
          ]
        }
      ]
    }
  ]
}