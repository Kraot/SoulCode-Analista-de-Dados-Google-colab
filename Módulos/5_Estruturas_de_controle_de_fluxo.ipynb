{
  "nbformat": 4,
  "nbformat_minor": 0,
  "metadata": {
    "colab": {
      "provenance": [],
      "include_colab_link": true
    },
    "kernelspec": {
      "name": "python3",
      "display_name": "Python 3"
    },
    "language_info": {
      "name": "python"
    }
  },
  "cells": [
    {
      "cell_type": "markdown",
      "metadata": {
        "id": "view-in-github",
        "colab_type": "text"
      },
      "source": [
        "<a href=\"https://colab.research.google.com/github/Kraot/SoulCode-Analista-de-Dados-Google-colab/blob/main/M%C3%B3dulos/5_Estruturas_de_controle_de_fluxo.ipynb\" target=\"_parent\"><img src=\"https://colab.research.google.com/assets/colab-badge.svg\" alt=\"Open In Colab\"/></a>"
      ]
    },
    {
      "cell_type": "markdown",
      "source": [
        "# 5 - Estruturas de controle de fluxo"
      ],
      "metadata": {
        "id": "bbPX2bh-mMPQ"
      }
    },
    {
      "cell_type": "markdown",
      "source": [
        "## 5.1 - IF ELIF ELSE"
      ],
      "metadata": {
        "id": "1tOYC_NumRfX"
      }
    },
    {
      "cell_type": "code",
      "source": [
        "'''\n",
        "Imagine que você deseja pedir ao usuário que digite uma nota de 0 a 10\n",
        "e caso a nota seja maior ou igual 6 seja exibida a mensagem: Parabéns você foi\n",
        "aprovado!, caso contrário exiba: Infelizmente você não foi aprovado dessa vez!\n",
        "continue tentando.\n",
        "'''\n",
        "nota = float(input('Informe uma nota de 0 a 10: '))\n",
        "if nota >= 6:\n",
        "  print('Parabéns você foi aprovado!')\n",
        "else:\n",
        "  print('Infelizmente você não foi aprovado dessa vez! continue tentando.')"
      ],
      "metadata": {
        "colab": {
          "base_uri": "https://localhost:8080/"
        },
        "id": "MjvY_ccvmX58",
        "outputId": "af3399cc-b7c4-410c-9caa-4ddcc457669c"
      },
      "execution_count": null,
      "outputs": [
        {
          "output_type": "stream",
          "name": "stdout",
          "text": [
            "Informe uma nota de 0 a 10: 5.99999\n",
            "Infelizmente você não foi aprovado dessa vez! continue tentando.\n"
          ]
        }
      ]
    },
    {
      "cell_type": "code",
      "source": [
        "'''\n",
        "Agora imagine que você tem três possibilidades:\n",
        "1ª Nota maior ou igual a 6: 'Parabéns você foi aprovado!'\n",
        "2ª Nota menor que 6, mas maior ou igual a 4: 'Você deverá fazer uma prova de recuperação'\n",
        "3ª Nota menor que 4:'Infelizmente você não foi aprovado dessa vez! continue tentando.'\n",
        "'''\n",
        "nota = float(input('Informe uma nota de 0 a 10: '))\n",
        "if nota >= 6:\n",
        "  print('Parabéns você foi aprovado!')\n",
        "elif nota >= 4:\n",
        "  print('Você deverá fazer uma prova de recuperação')\n",
        "else:\n",
        "  print('Infelizmente você não foi aprovado dessa vez! continue tentando.')"
      ],
      "metadata": {
        "colab": {
          "base_uri": "https://localhost:8080/"
        },
        "id": "ezSyN1wos0vf",
        "outputId": "61a84f3e-a089-4042-8159-2217b055d037"
      },
      "execution_count": null,
      "outputs": [
        {
          "output_type": "stream",
          "name": "stdout",
          "text": [
            "Informe uma nota de 0 a 10: 3.999\n",
            "Infelizmente você não foi aprovado dessa vez! continue tentando.\n"
          ]
        }
      ]
    },
    {
      "cell_type": "code",
      "source": [
        "'''\n",
        "Agora imagine que você tem quatro possibilidades:\n",
        "1ª Nota maior ou igual a 6: 'Parabéns você foi aprovado!'\n",
        "2ª Nota menor que 6, mas maior ou igual a 4: 'Você deverá fazer uma prova de recuperação online'\n",
        "3ª Nota menor 4, mas maio ou igual a 2: 'Você deverá fazer uma prova de recuperação presencial'\n",
        "4ª Nota menor que 2:'Infelizmente você não foi aprovado dessa vez! continue tentando.'\n",
        "'''\n",
        "nota = float(input('Informe uma nota de 0 a 10: '))\n",
        "if nota >= 6:\n",
        "  print('Parabéns você foi aprovado!')\n",
        "elif nota >= 4:\n",
        "  print('Você deverá fazer uma prova de recuperação online')\n",
        "elif nota >= 2:\n",
        "  print('Você deverá fazer uma prova de recuperação presencial')\n",
        "else:\n",
        "  print('Infelizmente você não foi aprovado dessa vez! continue tentando.')"
      ],
      "metadata": {
        "colab": {
          "base_uri": "https://localhost:8080/"
        },
        "id": "34yjARJcubGF",
        "outputId": "e30f73d1-ad6d-4373-d9c8-01b9ef85d1e7"
      },
      "execution_count": null,
      "outputs": [
        {
          "output_type": "stream",
          "name": "stdout",
          "text": [
            "Informe uma nota de 0 a 10: 1.99\n",
            "Infelizmente você não foi aprovado dessa vez! continue tentando.\n"
          ]
        }
      ]
    },
    {
      "cell_type": "code",
      "source": [
        "'''\n",
        "Igine que no exemplo das notas, você deseja diferenciar a mensagem para o aluno\n",
        "que tirar nota máxima, como por exemplo escrever:\n",
        "Parabéns, você foi aprovado com nota máxima!\n",
        "'''\n",
        "nota = float(input('Informe uma nota de 0 a 10: '))\n",
        "if nota == 10:\n",
        "  print('Parabéns, você foi aprovado com nota máxima!')\n",
        "else:\n",
        "  if nota >= 6:\n",
        "    print('Parabéns você foi aprovado!')\n",
        "  elif nota >= 4:\n",
        "    print('Você deverá fazer uma prova de recuperação online')\n",
        "  elif nota >= 2:\n",
        "    print('Você deverá fazer uma prova de recuperação presencial')\n",
        "  else:\n",
        "    print('Infelizmente você não foi aprovado dessa vez! continue tentando.')"
      ],
      "metadata": {
        "colab": {
          "base_uri": "https://localhost:8080/"
        },
        "id": "UdRY6TZsfVVu",
        "outputId": "3c4ed282-ee09-4cc4-d518-61b5e1a7322b"
      },
      "execution_count": null,
      "outputs": [
        {
          "output_type": "stream",
          "name": "stdout",
          "text": [
            "Informe uma nota de 0 a 10: 1.9\n",
            "Infelizmente você não foi aprovado dessa vez! continue tentando.\n"
          ]
        }
      ]
    },
    {
      "cell_type": "code",
      "source": [
        "'''\n",
        "Igine que no exemplo das notas, você deseja diferenciar a mensagem para o aluno\n",
        "que tirar nota máxima, como por exemplo escrever:\n",
        "Parabéns, você foi aprovado com nota máxima!\n",
        "'''\n",
        "nota = float(input('Informe uma nota de 0 a 10: '))\n",
        "if nota != 10:\n",
        "  if nota >= 6:\n",
        "    print('Parabéns você foi aprovado!')\n",
        "  elif nota >= 4:\n",
        "    print('Você deverá fazer uma prova de recuperação online')\n",
        "  elif nota >= 2:\n",
        "    print('Você deverá fazer uma prova de recuperação presencial')\n",
        "  else:\n",
        "    print('Infelizmente você não foi aprovado dessa vez! continue tentando.')\n",
        "else:\n",
        "  print('Parabéns, você foi aprovado com nota máxima!')"
      ],
      "metadata": {
        "colab": {
          "base_uri": "https://localhost:8080/"
        },
        "id": "rDLf4bsMgS3d",
        "outputId": "4e55d317-ae82-42f2-b760-8a4f12b04ef4"
      },
      "execution_count": null,
      "outputs": [
        {
          "output_type": "stream",
          "name": "stdout",
          "text": [
            "Informe uma nota de 0 a 10: 10\n",
            "Parabéns, você foi aprovado com nota máxima!\n"
          ]
        }
      ]
    },
    {
      "cell_type": "code",
      "source": [
        "'''\n",
        "Imagine que você deseja que um usuário digite dois números quaisquer, e na\n",
        "sequência o programa exibe o maior deles\n",
        "'''\n",
        "a = float(input('Informe um número qualquer: '))\n",
        "b = float(input('Informe outro número qualquer: '))\n",
        "if a == b:\n",
        "  print('Você informou dois números iguais!')\n",
        "else:\n",
        "  if a > b:\n",
        "    print(f'O maior número informado é chamado de \"a\" e é igual a {a}')\n",
        "  else:\n",
        "    print(f'O maior número informado é chamado de \"b\" e é igual a {b}')"
      ],
      "metadata": {
        "colab": {
          "base_uri": "https://localhost:8080/"
        },
        "id": "z_nMZdgmc5ts",
        "outputId": "28bf46ec-b95e-4548-d3bd-0c4197a5cc2b"
      },
      "execution_count": null,
      "outputs": [
        {
          "output_type": "stream",
          "name": "stdout",
          "text": [
            "Informe um número qualquer: 5\n",
            "Informe outro número qualquer: 5\n",
            "Você informou dois números iguais!\n"
          ]
        }
      ]
    },
    {
      "cell_type": "code",
      "source": [
        "'''\n",
        "if comparação for verdadeira:\n",
        "  o que deve ser feito caso o resultado da comparação do if for True\n",
        "else:\n",
        "  o que deve ser feito caso o resultado do if seja False\n",
        "'''"
      ],
      "metadata": {
        "id": "fVrfVQ1kk1Y1"
      },
      "execution_count": null,
      "outputs": []
    },
    {
      "cell_type": "code",
      "source": [
        "'''\n",
        "if comparação for verdadeira:\n",
        "  o que deve ser feito caso o resultado da comparação do if for True\n",
        "elif segunda comparação for verdadeira:\n",
        "  o que deve ser feito caso o resultado da 2ª comparação do if for True\n",
        "else:\n",
        "  o que deve ser feito caso o resultado do if seja False e do elif também seja False\n",
        "'''"
      ],
      "metadata": {
        "id": "x1mnj6mNnBFw"
      },
      "execution_count": null,
      "outputs": []
    },
    {
      "cell_type": "markdown",
      "source": [
        "## 5.2 - Estrutura de repetição - FOR"
      ],
      "metadata": {
        "id": "49f3RC2mq-IQ"
      }
    },
    {
      "cell_type": "code",
      "source": [
        "palavra = 'love' # cria a variável palvra que recebe o texto love\n",
        "for letra in palavra: # declara o seguinte: para cada letra em palavra faça algo:\n",
        "  print(letra) # define o \"algo\" da linha anterior como exiba cada letra"
      ],
      "metadata": {
        "colab": {
          "base_uri": "https://localhost:8080/"
        },
        "id": "yOAoq8WGrPWs",
        "outputId": "261f615d-4aff-4db3-e958-a7fd26b59b53"
      },
      "execution_count": null,
      "outputs": [
        {
          "output_type": "stream",
          "name": "stdout",
          "text": [
            "l\n",
            "o\n",
            "v\n",
            "e\n"
          ]
        }
      ]
    },
    {
      "cell_type": "code",
      "source": [
        "palavra = 'love' # cria a variável palvra que recebe o texto love\n",
        "for a in palavra: # declara o seguinte: para cada letra em palavra faça algo:\n",
        "  print(a) # declara o seguinte: para cada letra em palavra faça algo:"
      ],
      "metadata": {
        "colab": {
          "base_uri": "https://localhost:8080/"
        },
        "id": "3DTFoVGotuse",
        "outputId": "f1eb9918-3944-4a5f-eedc-76e7b944fac4"
      },
      "execution_count": null,
      "outputs": [
        {
          "output_type": "stream",
          "name": "stdout",
          "text": [
            "l\n",
            "o\n",
            "v\n",
            "e\n"
          ]
        }
      ]
    },
    {
      "cell_type": "code",
      "source": [
        "lista = ['a','b','c','d'] # cria uma lista com as letras a,b,c,d\n",
        "for item in lista: # declara que para cada item encontrado na lista faça algo\n",
        "  print(item) # difine o que deve ser feito com cada item encontrado (exibí-lo)"
      ],
      "metadata": {
        "colab": {
          "base_uri": "https://localhost:8080/"
        },
        "id": "pMCHsDU6skHW",
        "outputId": "5200142f-a348-4ec3-cc6a-e074565688a6"
      },
      "execution_count": null,
      "outputs": [
        {
          "output_type": "stream",
          "name": "stdout",
          "text": [
            "a\n",
            "b\n",
            "c\n",
            "d\n"
          ]
        }
      ]
    },
    {
      "cell_type": "code",
      "source": [
        "tupla = (1,2,3,4) # Cria uma tupla com os números 1,2,3,4\n",
        "for numero in tupla: # declara que para cada numero encontrado seja feito algo\n",
        "  print(numero) # Define o que deve ser feito com cada número encontrado"
      ],
      "metadata": {
        "colab": {
          "base_uri": "https://localhost:8080/"
        },
        "id": "1SYe5IA4s3Ov",
        "outputId": "37ec87f1-9b05-48e5-98e6-657d1a5a61ac"
      },
      "execution_count": null,
      "outputs": [
        {
          "output_type": "stream",
          "name": "stdout",
          "text": [
            "1\n",
            "2\n",
            "3\n",
            "4\n"
          ]
        }
      ]
    },
    {
      "cell_type": "code",
      "source": [
        "for i in range(4):# declara que para cada i (índice) encontrado em uma sequencia de qutro números (começando em 0) seja feito algo\n",
        "  print(i) # exiba cada número gerado na sequência declarada anteriormente"
      ],
      "metadata": {
        "colab": {
          "base_uri": "https://localhost:8080/"
        },
        "id": "IeqYkT7wvoo7",
        "outputId": "bff43849-18f8-4635-bd96-7a9a468b8bc2"
      },
      "execution_count": null,
      "outputs": [
        {
          "output_type": "stream",
          "name": "stdout",
          "text": [
            "0\n",
            "1\n",
            "2\n",
            "3\n"
          ]
        }
      ]
    },
    {
      "cell_type": "code",
      "source": [
        "'''\n",
        "crie uma estrutura que percorra uma sequência e imprima os índices dessa sequência\n",
        "'''\n",
        "palavra = 'love'# cria a variável palvra que recebe o texto love\n",
        "for i in range(4):# declara que para cada i (índice) encontrado em uma sequencia de qutro números (começando em 0) seja feito algo\n",
        "  print(palavra[i]) # define que seja exibida cada letra da palavra associada a cada índice gerando na declaração for"
      ],
      "metadata": {
        "colab": {
          "base_uri": "https://localhost:8080/"
        },
        "id": "xVfnMz0muJyR",
        "outputId": "b25e0e44-4668-4ff4-c2f1-7f54181bfd50"
      },
      "execution_count": null,
      "outputs": [
        {
          "output_type": "stream",
          "name": "stdout",
          "text": [
            "l\n",
            "o\n",
            "v\n",
            "e\n"
          ]
        }
      ]
    },
    {
      "cell_type": "code",
      "source": [
        "palavra = 'love'# cria a variável palvra que recebe o texto love\n",
        "for i in range(len(palavra)):# declara que para cada i (índice) encontrado em uma sequencia de n números (começando em 0) seja feito algo\n",
        "  print(palavra[i]) # define que seja exibida cada letra da palavra associada a cada índice gerando na declaração for"
      ],
      "metadata": {
        "colab": {
          "base_uri": "https://localhost:8080/"
        },
        "id": "VF2LdTHlwdgP",
        "outputId": "8f0b1d9c-f94e-4b18-df08-f99247b3876d"
      },
      "execution_count": null,
      "outputs": [
        {
          "output_type": "stream",
          "name": "stdout",
          "text": [
            "l\n",
            "o\n",
            "v\n",
            "e\n"
          ]
        }
      ]
    },
    {
      "cell_type": "code",
      "source": [
        "palavra = 'love' # cria a variável palvra que recebe o texto love\n",
        "for i, v in enumerate(palavra):# declara que para cada i (índice) encontrado em uma sequencia de n números (começando em 0) seja feito algo\n",
        "  print(i,v) # define que seja exibida cada letra da palavra associada a cada índice gerando na declaração for"
      ],
      "metadata": {
        "colab": {
          "base_uri": "https://localhost:8080/"
        },
        "id": "GM0LSYSQwplf",
        "outputId": "66319768-fc7e-4296-eab0-22d70437893c"
      },
      "execution_count": null,
      "outputs": [
        {
          "output_type": "stream",
          "name": "stdout",
          "text": [
            "0 l\n",
            "1 o\n",
            "2 v\n",
            "3 e\n"
          ]
        }
      ]
    },
    {
      "cell_type": "code",
      "source": [
        "cidade = 'botucatu' # cria a variável cidade que recebe o texto botucatu\n",
        "for i in range(1,8,2):# declara que para cada i (índice) encontrado em uma sequencia de n números (começando em 1, parando em 8 e de 2 em 2) seja feito algo\n",
        "  print(cidade[i]) # define que seja exibida cada letra da palavra associada a cada índice gerando na declaração for"
      ],
      "metadata": {
        "colab": {
          "base_uri": "https://localhost:8080/"
        },
        "id": "dfPihzu8yExJ",
        "outputId": "8ddf4af1-d253-47ad-9bcd-4acc2c470956"
      },
      "execution_count": null,
      "outputs": [
        {
          "output_type": "stream",
          "name": "stdout",
          "text": [
            "o\n",
            "u\n",
            "a\n",
            "u\n"
          ]
        }
      ]
    },
    {
      "cell_type": "markdown",
      "source": [
        "### 5.2.1 - Método sum"
      ],
      "metadata": {
        "id": "rqHa9-l2BN85"
      }
    },
    {
      "cell_type": "code",
      "source": [
        "# método sum\n",
        "'''\n",
        "soma os vamlores de uma sequência, caso ela seja numérica\n",
        "exemplo:\n",
        "'''\n",
        "numeros = [1,2,3,4]\n",
        "print(sum(numeros))"
      ],
      "metadata": {
        "colab": {
          "base_uri": "https://localhost:8080/"
        },
        "id": "7KO--UPmAuCx",
        "outputId": "feb80d18-0019-4e12-d8a4-552dd725731c"
      },
      "execution_count": null,
      "outputs": [
        {
          "output_type": "stream",
          "name": "stdout",
          "text": [
            "10\n"
          ]
        }
      ]
    },
    {
      "cell_type": "code",
      "source": [
        "'''\n",
        "Crie um programa que receba do usuário n notas (1 ou mais notas), calcule a\n",
        "média aritmética delas e caso a média seja maior ou igual a 6 exiba a mensagem\n",
        "Parabéns, você foi aprovado, caso a média seja menor que 6 mas maior ou igual a\n",
        "4 exiba a mensagem você está em recuperação, caso a média seja menor que 4 exiba\n",
        "a mensagem  Infelizmente você não foi aprovado e caso a média seja igual a\n",
        "10 exiba a mensagem Parabéns você foi aprovado com nota máxima.\n",
        " Obd.: as n notas digitadas pelo usuário deverão ser informadas em um único input\n",
        " separadas por espaços.\n",
        "'''\n",
        "notas = input('Informe as notas de 0 a 10 separadas por espaços: ')\n",
        "notas = notas.split()\n",
        "for i, v in enumerate(notas):\n",
        "  notas[i] = float(v)\n",
        "media = sum(notas)/len(notas)\n",
        "print(media)\n",
        "if media == 10:\n",
        "  print('Parabéns você foi aprovado com nota máxima!')\n",
        "else:\n",
        "  if media >= 6:\n",
        "    print('Parabéns você foi aprovado!')\n",
        "  elif media >= 4:\n",
        "    print('Você ficou de recuperação!')\n",
        "  else:\n",
        "    print('Infelizmente você não foi aprovado!')"
      ],
      "metadata": {
        "colab": {
          "base_uri": "https://localhost:8080/"
        },
        "id": "oeu2Jo5o49Bg",
        "outputId": "d2176cc7-381f-4e8d-9ef1-a606d485addb"
      },
      "execution_count": null,
      "outputs": [
        {
          "output_type": "stream",
          "name": "stdout",
          "text": [
            "Informe as notas de 0 a 10 separadas por espaços: 6 6 6 6\n",
            "6.0\n",
            "Parabéns você foi aprovado!\n"
          ]
        }
      ]
    },
    {
      "cell_type": "code",
      "source": [
        "'''\n",
        "Alternativa usando o range\n",
        "'''\n",
        "notas = input('Informe as notas de 0 a 10 separadas por espaços: ')\n",
        "notas = notas.split()\n",
        "for i in range(len(notas)):\n",
        "  notas[i] = float(notas[i])\n",
        "media = sum(notas)/len(notas)\n",
        "print(media)\n",
        "if media == 10:\n",
        "  print('Parabéns você foi aprovado com nota máxima!')\n",
        "else:\n",
        "  if media >= 6:\n",
        "    print('Parabéns você foi aprovado!')\n",
        "  elif media >= 4:\n",
        "    print('Você ficou de recuperação!')\n",
        "  else:\n",
        "    print('Infelizmente você não foi aprovado!')"
      ],
      "metadata": {
        "id": "dSRB1xnnGa5E"
      },
      "execution_count": null,
      "outputs": []
    },
    {
      "cell_type": "code",
      "source": [
        "'''\n",
        "Crie uma lista com o nome de idades com os seguintes números 48, 55, 62 77 78 80\n",
        "'''\n",
        "idades = [48,55,62,77,78,80]\n",
        "\n",
        "'''\n",
        "Agora converta cada valor da lista em uma string\n",
        "'''\n",
        "\n",
        "for i in range(len(idades)):\n",
        "  idades[i] = str(idades[i])\n",
        "print(idades)\n",
        "\n",
        "'''\n",
        "alternativa utilizando o enumerate\n",
        "'''\n",
        "for i, v in enumerate(idades):\n",
        "  idades[i] = str(v)\n",
        "print(idades)"
      ],
      "metadata": {
        "colab": {
          "base_uri": "https://localhost:8080/"
        },
        "id": "TioSQkudZuF6",
        "outputId": "09b51c02-9ce0-4ab1-d13d-02cdb1bc894a"
      },
      "execution_count": null,
      "outputs": [
        {
          "output_type": "stream",
          "name": "stdout",
          "text": [
            "['48', '55', '62', '77', '78', '80']\n",
            "['48', '55', '62', '77', '78', '80']\n"
          ]
        }
      ]
    },
    {
      "cell_type": "code",
      "source": [
        "'''\n",
        "Crie uma entrada de dados numéricos (notas de 0 a 10) em um único input onde os\n",
        "valores são informados e separados por espaços, e armazene isso tudo\n",
        "em uma variável chamada nota, a seguir verifique qual tipo de dados\n",
        "está armazenado nessa variável.\n",
        "'''\n",
        "nota = input('Informe as notas de 0 a 10 separadas por espaços: ')\n",
        "print(type(nota))\n",
        "\n",
        "'''\n",
        "Agora separe os valores armazenados em nota utilizando os espaços como\n",
        "separadores e armazene tudo em um objeto chamado notas.\n",
        "'''\n",
        "notas = nota.split()\n",
        "\n",
        "'''\n",
        "Agora converta cada valor do objeto notas em número do tipo float,\n",
        "e na sequência exiba o objeto notas e a soma de todos os valores deste\n",
        "objeto\n",
        "'''\n",
        "\n",
        "for i in range(len(notas)):\n",
        "  notas[i] = float(notas[i])\n",
        "print(sum(notas))\n",
        "\n",
        "# Alternativa usando o enumerate\n",
        "\n",
        "for i, v in enumerate(notas):\n",
        "  notas[i] = float(v)\n",
        "print(sum(notas))\n",
        "\n",
        "'''\n",
        "Agora elabore um código que a partir dos valores da lista notas calcule a\n",
        "média aritmética e exiba o valor dessa média\n",
        "'''\n",
        "\n",
        "media = sum(notas)/len(notas)\n",
        "print(media)\n",
        "\n",
        "'''\n",
        "Agora crie um código que caso a média seja maior ou igual a 6 exiba a mensagem\n",
        "Parabéns, você foi aprovado, caso a média seja menor que 6 mas maior ou igual a\n",
        "4 exiba a mensagem você está em recuperação, caso a média seja menor que 4 exiba\n",
        "a mensagem  Infelizmente você não foi aprovado e caso a média seja igual a\n",
        "10 exiba a mensagem Parabéns você foi aprovado com nota máxima.\n",
        "'''\n",
        "\n",
        "if media == 10:\n",
        "  print('Parabéns você foi aprovado com nota máxima!')\n",
        "else:\n",
        "  if media >= 6:\n",
        "    print('Parabéns você foi aprovado!')\n",
        "  elif media >= 4:\n",
        "    print('Você ficou de recuperação!')\n",
        "  else:\n",
        "    print('Infelizmente você não foi aprovado!')"
      ],
      "metadata": {
        "colab": {
          "base_uri": "https://localhost:8080/"
        },
        "id": "OXNyS2rLdYi1",
        "outputId": "7632ec0d-c1ba-4c55-e7fd-568ae69a9fee"
      },
      "execution_count": null,
      "outputs": [
        {
          "output_type": "stream",
          "name": "stdout",
          "text": [
            "Informe as notas de 0 a 10 separadas por espaços: 10 10 10\n",
            "<class 'str'>\n",
            "30.0\n",
            "30.0\n",
            "10.0\n",
            "Parabéns você foi aprovado com nota máxima!\n"
          ]
        }
      ]
    },
    {
      "cell_type": "markdown",
      "source": [
        "## 5.3 - Laço While"
      ],
      "metadata": {
        "id": "wja0N1LPvDiD"
      }
    },
    {
      "cell_type": "code",
      "source": [
        "'''\n",
        "Imagine que você deseja criar um programa que inicialmente solicite ao usuário\n",
        "uma quantidade de notas que ele deseja informar armazenando-a em uma variável\n",
        "chamada n, e na sequência o programa execute um loop while solicitando nota por\n",
        "nota e armazendando-as em uma lista chamada notas, até que a quantidade de notas\n",
        "nessa lista seja igual a quantidade informada pelo usuário na variável n.\n",
        "'''\n",
        "n = int(input('''Informe um número inteiro que representa a\n",
        "quantidade de notas que deseja informar: '''))\n",
        "c = 0\n",
        "notas = []\n",
        "while c < n:\n",
        "  notas.append(float(input(f'Informe a {c+1}ª nota de 0 a 10: ')))\n",
        "  c += 1\n",
        "print(notas)"
      ],
      "metadata": {
        "id": "XqoYQldCuvQG"
      },
      "execution_count": null,
      "outputs": []
    }
  ]
}