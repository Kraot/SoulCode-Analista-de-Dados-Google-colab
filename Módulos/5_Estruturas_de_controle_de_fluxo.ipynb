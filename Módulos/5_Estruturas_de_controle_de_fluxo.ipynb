{
  "nbformat": 4,
  "nbformat_minor": 0,
  "metadata": {
    "colab": {
      "provenance": [],
      "include_colab_link": true
    },
    "kernelspec": {
      "name": "python3",
      "display_name": "Python 3"
    },
    "language_info": {
      "name": "python"
    }
  },
  "cells": [
    {
      "cell_type": "markdown",
      "metadata": {
        "id": "view-in-github",
        "colab_type": "text"
      },
      "source": [
        "<a href=\"https://colab.research.google.com/github/Kraot/SoulCode-Analista-de-Dados-Google-colab/blob/main/M%C3%B3dulos/5_Estruturas_de_controle_de_fluxo.ipynb\" target=\"_parent\"><img src=\"https://colab.research.google.com/assets/colab-badge.svg\" alt=\"Open In Colab\"/></a>"
      ]
    },
    {
      "cell_type": "markdown",
      "source": [
        "# 5 - Estruturas de controle de fluxo"
      ],
      "metadata": {
        "id": "bbPX2bh-mMPQ"
      }
    },
    {
      "cell_type": "markdown",
      "source": [
        "## 5.1 - IF ELIF ELSE"
      ],
      "metadata": {
        "id": "1tOYC_NumRfX"
      }
    },
    {
      "cell_type": "code",
      "source": [
        "'''\n",
        "Imagine que você deseja pedir ao usuário que digite uma nota de 0 a 10\n",
        "e caso a nota seja maior ou igual 6 seja exibida a mensagem: Parabéns você foi\n",
        "aprovado!, caso contrário exiba: Infelizmente você não foi aprovado dessa vez!\n",
        "continue tentando.\n",
        "'''\n",
        "nota = float(input('Informe uma nota de 0 a 10: '))\n",
        "if nota >= 6:\n",
        "  print('Parabéns você foi aprovado!')\n",
        "else:\n",
        "  print('Infelizmente você não foi aprovado dessa vez! continue tentando.')"
      ],
      "metadata": {
        "colab": {
          "base_uri": "https://localhost:8080/"
        },
        "id": "MjvY_ccvmX58",
        "outputId": "af3399cc-b7c4-410c-9caa-4ddcc457669c"
      },
      "execution_count": null,
      "outputs": [
        {
          "output_type": "stream",
          "name": "stdout",
          "text": [
            "Informe uma nota de 0 a 10: 5.99999\n",
            "Infelizmente você não foi aprovado dessa vez! continue tentando.\n"
          ]
        }
      ]
    },
    {
      "cell_type": "code",
      "source": [
        "'''\n",
        "Agora imagine que você tem três possibilidades:\n",
        "1ª Nota maior ou igual a 6: 'Parabéns você foi aprovado!'\n",
        "2ª Nota menor que 6, mas maior ou igual a 4: 'Você deverá fazer uma prova de recuperação'\n",
        "3ª Nota menor que 4:'Infelizmente você não foi aprovado dessa vez! continue tentando.'\n",
        "'''\n",
        "nota = float(input('Informe uma nota de 0 a 10: '))\n",
        "if nota >= 6:\n",
        "  print('Parabéns você foi aprovado!')\n",
        "elif nota >= 4:\n",
        "  print('Você deverá fazer uma prova de recuperação')\n",
        "else:\n",
        "  print('Infelizmente você não foi aprovado dessa vez! continue tentando.')"
      ],
      "metadata": {
        "colab": {
          "base_uri": "https://localhost:8080/"
        },
        "id": "ezSyN1wos0vf",
        "outputId": "61a84f3e-a089-4042-8159-2217b055d037"
      },
      "execution_count": null,
      "outputs": [
        {
          "output_type": "stream",
          "name": "stdout",
          "text": [
            "Informe uma nota de 0 a 10: 3.999\n",
            "Infelizmente você não foi aprovado dessa vez! continue tentando.\n"
          ]
        }
      ]
    },
    {
      "cell_type": "code",
      "source": [
        "'''\n",
        "Agora imagine que você tem quatro possibilidades:\n",
        "1ª Nota maior ou igual a 6: 'Parabéns você foi aprovado!'\n",
        "2ª Nota menor que 6, mas maior ou igual a 4: 'Você deverá fazer uma prova de recuperação online'\n",
        "3ª Nota menor 4, mas maio ou igual a 2: 'Você deverá fazer uma prova de recuperação presencial'\n",
        "4ª Nota menor que 2:'Infelizmente você não foi aprovado dessa vez! continue tentando.'\n",
        "'''\n",
        "nota = float(input('Informe uma nota de 0 a 10: '))\n",
        "if nota >= 6:\n",
        "  print('Parabéns você foi aprovado!')\n",
        "elif nota >= 4:\n",
        "  print('Você deverá fazer uma prova de recuperação online')\n",
        "elif nota >= 2:\n",
        "  print('Você deverá fazer uma prova de recuperação presencial')\n",
        "else:\n",
        "  print('Infelizmente você não foi aprovado dessa vez! continue tentando.')"
      ],
      "metadata": {
        "colab": {
          "base_uri": "https://localhost:8080/"
        },
        "id": "34yjARJcubGF",
        "outputId": "e30f73d1-ad6d-4373-d9c8-01b9ef85d1e7"
      },
      "execution_count": null,
      "outputs": [
        {
          "output_type": "stream",
          "name": "stdout",
          "text": [
            "Informe uma nota de 0 a 10: 1.99\n",
            "Infelizmente você não foi aprovado dessa vez! continue tentando.\n"
          ]
        }
      ]
    },
    {
      "cell_type": "code",
      "source": [
        "'''\n",
        "Igine que no exemplo das notas, você deseja diferenciar a mensagem para o aluno\n",
        "que tirar nota máxima, como por exemplo escrever:\n",
        "Parabéns, você foi aprovado com nota máxima!\n",
        "'''\n",
        "nota = float(input('Informe uma nota de 0 a 10: '))\n",
        "if nota == 10:\n",
        "  print('Parabéns, você foi aprovado com nota máxima!')\n",
        "else:\n",
        "  if nota >= 6:\n",
        "    print('Parabéns você foi aprovado!')\n",
        "  elif nota >= 4:\n",
        "    print('Você deverá fazer uma prova de recuperação online')\n",
        "  elif nota >= 2:\n",
        "    print('Você deverá fazer uma prova de recuperação presencial')\n",
        "  else:\n",
        "    print('Infelizmente você não foi aprovado dessa vez! continue tentando.')"
      ],
      "metadata": {
        "colab": {
          "base_uri": "https://localhost:8080/"
        },
        "id": "UdRY6TZsfVVu",
        "outputId": "3c4ed282-ee09-4cc4-d518-61b5e1a7322b"
      },
      "execution_count": null,
      "outputs": [
        {
          "output_type": "stream",
          "name": "stdout",
          "text": [
            "Informe uma nota de 0 a 10: 1.9\n",
            "Infelizmente você não foi aprovado dessa vez! continue tentando.\n"
          ]
        }
      ]
    },
    {
      "cell_type": "code",
      "source": [
        "'''\n",
        "Igine que no exemplo das notas, você deseja diferenciar a mensagem para o aluno\n",
        "que tirar nota máxima, como por exemplo escrever:\n",
        "Parabéns, você foi aprovado com nota máxima!\n",
        "'''\n",
        "nota = float(input('Informe uma nota de 0 a 10: '))\n",
        "if nota != 10:\n",
        "  if nota >= 6:\n",
        "    print('Parabéns você foi aprovado!')\n",
        "  elif nota >= 4:\n",
        "    print('Você deverá fazer uma prova de recuperação online')\n",
        "  elif nota >= 2:\n",
        "    print('Você deverá fazer uma prova de recuperação presencial')\n",
        "  else:\n",
        "    print('Infelizmente você não foi aprovado dessa vez! continue tentando.')\n",
        "else:\n",
        "  print('Parabéns, você foi aprovado com nota máxima!')"
      ],
      "metadata": {
        "colab": {
          "base_uri": "https://localhost:8080/"
        },
        "id": "rDLf4bsMgS3d",
        "outputId": "4e55d317-ae82-42f2-b760-8a4f12b04ef4"
      },
      "execution_count": null,
      "outputs": [
        {
          "output_type": "stream",
          "name": "stdout",
          "text": [
            "Informe uma nota de 0 a 10: 10\n",
            "Parabéns, você foi aprovado com nota máxima!\n"
          ]
        }
      ]
    },
    {
      "cell_type": "code",
      "source": [
        "'''\n",
        "Imagine que você deseja que um usuário digite dois números quaisquer, e na\n",
        "sequência o programa exibe o maior deles\n",
        "'''\n",
        "a = float(input('Informe um número qualquer: '))\n",
        "b = float(input('Informe outro número qualquer: '))\n",
        "if a == b:\n",
        "  print('Você informou dois números iguais!')\n",
        "else:\n",
        "  if a > b:\n",
        "    print(f'O maior número informado é chamado de \"a\" e é igual a {a}')\n",
        "  else:\n",
        "    print(f'O maior número informado é chamado de \"b\" e é igual a {b}')"
      ],
      "metadata": {
        "colab": {
          "base_uri": "https://localhost:8080/"
        },
        "id": "z_nMZdgmc5ts",
        "outputId": "28bf46ec-b95e-4548-d3bd-0c4197a5cc2b"
      },
      "execution_count": null,
      "outputs": [
        {
          "output_type": "stream",
          "name": "stdout",
          "text": [
            "Informe um número qualquer: 5\n",
            "Informe outro número qualquer: 5\n",
            "Você informou dois números iguais!\n"
          ]
        }
      ]
    },
    {
      "cell_type": "code",
      "source": [
        "'''\n",
        "if comparação for verdadeira:\n",
        "  o que deve ser feito caso o resultado da comparação do if for True\n",
        "else:\n",
        "  o que deve ser feito caso o resultado do if seja False\n",
        "'''"
      ],
      "metadata": {
        "id": "fVrfVQ1kk1Y1"
      },
      "execution_count": null,
      "outputs": []
    },
    {
      "cell_type": "code",
      "source": [
        "'''\n",
        "if comparação for verdadeira:\n",
        "  o que deve ser feito caso o resultado da comparação do if for True\n",
        "elif segunda comparação for verdadeira:\n",
        "  o que deve ser feito caso o resultado da 2ª comparação do if for True\n",
        "else:\n",
        "  o que deve ser feito caso o resultado do if seja False e do elif também seja False\n",
        "'''"
      ],
      "metadata": {
        "id": "x1mnj6mNnBFw"
      },
      "execution_count": null,
      "outputs": []
    },
    {
      "cell_type": "markdown",
      "source": [
        "## 5.2 - Estrutura de repetição - FOR"
      ],
      "metadata": {
        "id": "49f3RC2mq-IQ"
      }
    },
    {
      "cell_type": "code",
      "source": [
        "palavra = 'love' # cria a variável palvra que recebe o texto love\n",
        "for letra in palavra: # declara o seguinte: para cada letra em palavra faça algo:\n",
        "  print(letra) # define o \"algo\" da linha anterior como exiba cada letra"
      ],
      "metadata": {
        "colab": {
          "base_uri": "https://localhost:8080/"
        },
        "id": "yOAoq8WGrPWs",
        "outputId": "261f615d-4aff-4db3-e958-a7fd26b59b53"
      },
      "execution_count": null,
      "outputs": [
        {
          "output_type": "stream",
          "name": "stdout",
          "text": [
            "l\n",
            "o\n",
            "v\n",
            "e\n"
          ]
        }
      ]
    },
    {
      "cell_type": "code",
      "source": [
        "palavra = 'love' # cria a variável palvra que recebe o texto love\n",
        "for a in palavra: # declara o seguinte: para cada letra em palavra faça algo:\n",
        "  print(a) # declara o seguinte: para cada letra em palavra faça algo:"
      ],
      "metadata": {
        "colab": {
          "base_uri": "https://localhost:8080/"
        },
        "id": "3DTFoVGotuse",
        "outputId": "f1eb9918-3944-4a5f-eedc-76e7b944fac4"
      },
      "execution_count": null,
      "outputs": [
        {
          "output_type": "stream",
          "name": "stdout",
          "text": [
            "l\n",
            "o\n",
            "v\n",
            "e\n"
          ]
        }
      ]
    },
    {
      "cell_type": "code",
      "source": [
        "lista = ['a','b','c','d'] # cria uma lista com as letras a,b,c,d\n",
        "for item in lista: # declara que para cada item encontrado na lista faça algo\n",
        "  print(item) # difine o que deve ser feito com cada item encontrado (exibí-lo)"
      ],
      "metadata": {
        "colab": {
          "base_uri": "https://localhost:8080/"
        },
        "id": "pMCHsDU6skHW",
        "outputId": "5200142f-a348-4ec3-cc6a-e074565688a6"
      },
      "execution_count": null,
      "outputs": [
        {
          "output_type": "stream",
          "name": "stdout",
          "text": [
            "a\n",
            "b\n",
            "c\n",
            "d\n"
          ]
        }
      ]
    },
    {
      "cell_type": "code",
      "source": [
        "tupla = (1,2,3,4) # Cria uma tupla com os números 1,2,3,4\n",
        "for numero in tupla: # declara que para cada numero encontrado seja feito algo\n",
        "  print(numero) # Define o que deve ser feito com cada número encontrado"
      ],
      "metadata": {
        "colab": {
          "base_uri": "https://localhost:8080/"
        },
        "id": "1SYe5IA4s3Ov",
        "outputId": "37ec87f1-9b05-48e5-98e6-657d1a5a61ac"
      },
      "execution_count": null,
      "outputs": [
        {
          "output_type": "stream",
          "name": "stdout",
          "text": [
            "1\n",
            "2\n",
            "3\n",
            "4\n"
          ]
        }
      ]
    },
    {
      "cell_type": "code",
      "source": [
        "for i in range(4):# declara que para cada i (índice) encontrado em uma sequencia de qutro números (começando em 0) seja feito algo\n",
        "  print(i) # exiba cada número gerado na sequência declarada anteriormente"
      ],
      "metadata": {
        "colab": {
          "base_uri": "https://localhost:8080/"
        },
        "id": "IeqYkT7wvoo7",
        "outputId": "bff43849-18f8-4635-bd96-7a9a468b8bc2"
      },
      "execution_count": null,
      "outputs": [
        {
          "output_type": "stream",
          "name": "stdout",
          "text": [
            "0\n",
            "1\n",
            "2\n",
            "3\n"
          ]
        }
      ]
    },
    {
      "cell_type": "code",
      "source": [
        "'''\n",
        "crie uma estrutura que percorra uma sequência e imprima os índices dessa sequência\n",
        "'''\n",
        "palavra = 'love'# cria a variável palvra que recebe o texto love\n",
        "for i in range(4):# declara que para cada i (índice) encontrado em uma sequencia de qutro números (começando em 0) seja feito algo\n",
        "  print(palavra[i]) # define que seja exibida cada letra da palavra associada a cada índice gerando na declaração for"
      ],
      "metadata": {
        "colab": {
          "base_uri": "https://localhost:8080/"
        },
        "id": "xVfnMz0muJyR",
        "outputId": "b25e0e44-4668-4ff4-c2f1-7f54181bfd50"
      },
      "execution_count": null,
      "outputs": [
        {
          "output_type": "stream",
          "name": "stdout",
          "text": [
            "l\n",
            "o\n",
            "v\n",
            "e\n"
          ]
        }
      ]
    },
    {
      "cell_type": "code",
      "source": [
        "palavra = 'love'# cria a variável palvra que recebe o texto love\n",
        "for i in range(len(palavra)):# declara que para cada i (índice) encontrado em uma sequencia de n números (começando em 0) seja feito algo\n",
        "  print(palavra[i]) # define que seja exibida cada letra da palavra associada a cada índice gerando na declaração for"
      ],
      "metadata": {
        "colab": {
          "base_uri": "https://localhost:8080/"
        },
        "id": "VF2LdTHlwdgP",
        "outputId": "8f0b1d9c-f94e-4b18-df08-f99247b3876d"
      },
      "execution_count": null,
      "outputs": [
        {
          "output_type": "stream",
          "name": "stdout",
          "text": [
            "l\n",
            "o\n",
            "v\n",
            "e\n"
          ]
        }
      ]
    },
    {
      "cell_type": "code",
      "source": [
        "palavra = 'love' # cria a variável palvra que recebe o texto love\n",
        "for i, v in enumerate(palavra):# declara que para cada i (índice) encontrado em uma sequencia de n números (começando em 0) seja feito algo\n",
        "  print(i,v) # define que seja exibida cada letra da palavra associada a cada índice gerando na declaração for"
      ],
      "metadata": {
        "colab": {
          "base_uri": "https://localhost:8080/"
        },
        "id": "GM0LSYSQwplf",
        "outputId": "66319768-fc7e-4296-eab0-22d70437893c"
      },
      "execution_count": null,
      "outputs": [
        {
          "output_type": "stream",
          "name": "stdout",
          "text": [
            "0 l\n",
            "1 o\n",
            "2 v\n",
            "3 e\n"
          ]
        }
      ]
    },
    {
      "cell_type": "code",
      "source": [
        "cidade = 'botucatu' # cria a variável cidade que recebe o texto botucatu\n",
        "for i in range(1,8,2):# declara que para cada i (índice) encontrado em uma sequencia de n números (começando em 1, parando em 8 e de 2 em 2) seja feito algo\n",
        "  print(cidade[i]) # define que seja exibida cada letra da palavra associada a cada índice gerando na declaração for"
      ],
      "metadata": {
        "colab": {
          "base_uri": "https://localhost:8080/"
        },
        "id": "dfPihzu8yExJ",
        "outputId": "8ddf4af1-d253-47ad-9bcd-4acc2c470956"
      },
      "execution_count": null,
      "outputs": [
        {
          "output_type": "stream",
          "name": "stdout",
          "text": [
            "o\n",
            "u\n",
            "a\n",
            "u\n"
          ]
        }
      ]
    },
    {
      "cell_type": "markdown",
      "source": [
        "### 5.2.1 - Método sum"
      ],
      "metadata": {
        "id": "rqHa9-l2BN85"
      }
    },
    {
      "cell_type": "code",
      "source": [
        "# método sum\n",
        "'''\n",
        "soma os vamlores de uma sequência, caso ela seja numérica\n",
        "exemplo:\n",
        "'''\n",
        "numeros = [1,2,3,4]\n",
        "print(sum(numeros))"
      ],
      "metadata": {
        "colab": {
          "base_uri": "https://localhost:8080/"
        },
        "id": "7KO--UPmAuCx",
        "outputId": "feb80d18-0019-4e12-d8a4-552dd725731c"
      },
      "execution_count": null,
      "outputs": [
        {
          "output_type": "stream",
          "name": "stdout",
          "text": [
            "10\n"
          ]
        }
      ]
    },
    {
      "cell_type": "code",
      "source": [
        "'''\n",
        "Crie um programa que receba do usuário n notas (1 ou mais notas), calcule a\n",
        "média aritmética delas e caso a média seja maior ou igual a 6 exiba a mensagem\n",
        "Parabéns, você foi aprovado, caso a média seja menor que 6 mas maior ou igual a\n",
        "4 exiba a mensagem você está em recuperação, caso a média seja menor que 4 exiba\n",
        "a mensagem  Infelizmente você não foi aprovado e caso a média seja igual a\n",
        "10 exiba a mensagem Parabéns você foi aprovado com nota máxima.\n",
        " Obd.: as n notas digitadas pelo usuário deverão ser informadas em um único input\n",
        " separadas por espaços.\n",
        "'''\n",
        "notas = input('Informe as notas de 0 a 10 separadas por espaços: ')\n",
        "notas = notas.split()\n",
        "for i, v in enumerate(notas):\n",
        "  notas[i] = float(v)\n",
        "media = sum(notas)/len(notas)\n",
        "print(media)\n",
        "if media == 10:\n",
        "  print('Parabéns você foi aprovado com nota máxima!')\n",
        "else:\n",
        "  if media >= 6:\n",
        "    print('Parabéns você foi aprovado!')\n",
        "  elif media >= 4:\n",
        "    print('Você ficou de recuperação!')\n",
        "  else:\n",
        "    print('Infelizmente você não foi aprovado!')"
      ],
      "metadata": {
        "colab": {
          "base_uri": "https://localhost:8080/"
        },
        "id": "oeu2Jo5o49Bg",
        "outputId": "d2176cc7-381f-4e8d-9ef1-a606d485addb"
      },
      "execution_count": null,
      "outputs": [
        {
          "output_type": "stream",
          "name": "stdout",
          "text": [
            "Informe as notas de 0 a 10 separadas por espaços: 6 6 6 6\n",
            "6.0\n",
            "Parabéns você foi aprovado!\n"
          ]
        }
      ]
    },
    {
      "cell_type": "code",
      "source": [
        "'''\n",
        "Alternativa usando o range\n",
        "'''\n",
        "notas = input('Informe as notas de 0 a 10 separadas por espaços: ')\n",
        "notas = notas.split()\n",
        "for i in range(len(notas)):\n",
        "  notas[i] = float(notas[i])\n",
        "media = sum(notas)/len(notas)\n",
        "print(media)\n",
        "if media == 10:\n",
        "  print('Parabéns você foi aprovado com nota máxima!')\n",
        "else:\n",
        "  if media >= 6:\n",
        "    print('Parabéns você foi aprovado!')\n",
        "  elif media >= 4:\n",
        "    print('Você ficou de recuperação!')\n",
        "  else:\n",
        "    print('Infelizmente você não foi aprovado!')"
      ],
      "metadata": {
        "id": "dSRB1xnnGa5E"
      },
      "execution_count": null,
      "outputs": []
    },
    {
      "cell_type": "code",
      "source": [
        "'''\n",
        "Crie uma lista com o nome de idades com os seguintes números 48, 55, 62 77 78 80\n",
        "'''\n",
        "idades = [48,55,62,77,78,80]\n",
        "\n",
        "'''\n",
        "Agora converta cada valor da lista em uma string\n",
        "'''\n",
        "\n",
        "for i in range(len(idades)):\n",
        "  idades[i] = str(idades[i])\n",
        "print(idades)\n",
        "\n",
        "'''\n",
        "alternativa utilizando o enumerate\n",
        "'''\n",
        "for i, v in enumerate(idades):\n",
        "  idades[i] = str(v)\n",
        "print(idades)"
      ],
      "metadata": {
        "colab": {
          "base_uri": "https://localhost:8080/"
        },
        "id": "TioSQkudZuF6",
        "outputId": "09b51c02-9ce0-4ab1-d13d-02cdb1bc894a"
      },
      "execution_count": null,
      "outputs": [
        {
          "output_type": "stream",
          "name": "stdout",
          "text": [
            "['48', '55', '62', '77', '78', '80']\n",
            "['48', '55', '62', '77', '78', '80']\n"
          ]
        }
      ]
    },
    {
      "cell_type": "code",
      "source": [
        "'''\n",
        "Crie uma entrada de dados numéricos (notas de 0 a 10) em um único input onde os\n",
        "valores são informados e separados por espaços, e armazene isso tudo\n",
        "em uma variável chamada nota, a seguir verifique qual tipo de dados\n",
        "está armazenado nessa variável.\n",
        "'''\n",
        "nota = input('Informe as notas de 0 a 10 separadas por espaços: ')\n",
        "print(type(nota))\n",
        "\n",
        "'''\n",
        "Agora separe os valores armazenados em nota utilizando os espaços como\n",
        "separadores e armazene tudo em um objeto chamado notas.\n",
        "'''\n",
        "notas = nota.split()\n",
        "\n",
        "'''\n",
        "Agora converta cada valor do objeto notas em número do tipo float,\n",
        "e na sequência exiba o objeto notas e a soma de todos os valores deste\n",
        "objeto\n",
        "'''\n",
        "\n",
        "for i in range(len(notas)):\n",
        "  notas[i] = float(notas[i])\n",
        "print(sum(notas))\n",
        "\n",
        "# Alternativa usando o enumerate\n",
        "\n",
        "for i, v in enumerate(notas):\n",
        "  notas[i] = float(v)\n",
        "print(sum(notas))\n",
        "\n",
        "'''\n",
        "Agora elabore um código que a partir dos valores da lista notas calcule a\n",
        "média aritmética e exiba o valor dessa média\n",
        "'''\n",
        "\n",
        "media = sum(notas)/len(notas)\n",
        "print(media)\n",
        "\n",
        "'''\n",
        "Agora crie um código que caso a média seja maior ou igual a 6 exiba a mensagem\n",
        "Parabéns, você foi aprovado, caso a média seja menor que 6 mas maior ou igual a\n",
        "4 exiba a mensagem você está em recuperação, caso a média seja menor que 4 exiba\n",
        "a mensagem  Infelizmente você não foi aprovado e caso a média seja igual a\n",
        "10 exiba a mensagem Parabéns você foi aprovado com nota máxima.\n",
        "'''\n",
        "\n",
        "if media == 10:\n",
        "  print('Parabéns você foi aprovado com nota máxima!')\n",
        "else:\n",
        "  if media >= 6:\n",
        "    print('Parabéns você foi aprovado!')\n",
        "  elif media >= 4:\n",
        "    print('Você ficou de recuperação!')\n",
        "  else:\n",
        "    print('Infelizmente você não foi aprovado!')"
      ],
      "metadata": {
        "colab": {
          "base_uri": "https://localhost:8080/"
        },
        "id": "OXNyS2rLdYi1",
        "outputId": "7632ec0d-c1ba-4c55-e7fd-568ae69a9fee"
      },
      "execution_count": null,
      "outputs": [
        {
          "output_type": "stream",
          "name": "stdout",
          "text": [
            "Informe as notas de 0 a 10 separadas por espaços: 10 10 10\n",
            "<class 'str'>\n",
            "30.0\n",
            "30.0\n",
            "10.0\n",
            "Parabéns você foi aprovado com nota máxima!\n"
          ]
        }
      ]
    },
    {
      "cell_type": "markdown",
      "source": [
        "## 5.3 - Laço While"
      ],
      "metadata": {
        "id": "wja0N1LPvDiD"
      }
    },
    {
      "cell_type": "code",
      "source": [
        "'''\n",
        "Imagine que você deseja criar um programa que inicialmente solicite ao usuário\n",
        "uma quantidade de notas que ele deseja informar armazenando-a em uma variável\n",
        "chamada n, e na sequência o programa execute um loop while solicitando nota por\n",
        "nota e armazendando-as em uma lista chamada notas, até que a quantidade de notas\n",
        "nessa lista seja igual a quantidade informada pelo usuário na variável n.\n",
        "'''\n",
        "n = int(input('''Informe um número inteiro que representa a\n",
        "quantidade de notas que deseja informar: '''))\n",
        "c = 0\n",
        "notas = []\n",
        "while c < n:\n",
        "  notas.append(float(input(f'Informe a {c+1}ª nota de 0 a 10: ')))\n",
        "  c += 1\n",
        "print(notas)"
      ],
      "metadata": {
        "id": "XqoYQldCuvQG"
      },
      "execution_count": null,
      "outputs": []
    },
    {
      "cell_type": "code",
      "source": [
        "dadosx = input('Informe os valores de x separados por espaços: ')\n",
        "dadosy = input('''Informe os valores de y separados por espaços\n",
        "(informe a mesma quantidade de dados informados em x): ''')\n",
        "x = dadosx.split()\n",
        "y = dadosy.split()\n",
        "xq = []\n",
        "yq = []\n",
        "xy = []\n",
        "for i in range(len(x)):\n",
        "  x[i] = float(x[i])\n",
        "  y[i] = float(y[i])\n",
        "  xq.append(x[i]**2)\n",
        "  yq.append(y[i]**2)\n",
        "  xy.append(x[i]*y[i])\n",
        "n = len(x)\n",
        "sx = sum(x)\n",
        "sy = sum(y)\n",
        "sxq = sum(xq)\n",
        "syq = sum(yq)\n",
        "sxy = sum(xy)\n",
        "r = (sxy - (sx * sy / n)) / ((sxq - sx**2/n) * (syq - sy**2/n))**(1/2)\n",
        "rq = r**2\n",
        "if rq > 0.5:\n",
        "  if r > 0:\n",
        "    print(f'O coeficiente de correlação é {r:.4f} e indica forte correlação positiva')\n",
        "  else:\n",
        "    print(f'O coeficiente de correlação é {r:.4f} e indica que temos forte correlação negativa')\n",
        "else:\n",
        "  print(f'O coeficiente de correlação é {r:.4f} e indica baixa correlação')"
      ],
      "metadata": {
        "colab": {
          "base_uri": "https://localhost:8080/"
        },
        "id": "2riqqav1KDG5",
        "outputId": "c72d321e-9213-4ece-a53e-3393371f8f9f"
      },
      "execution_count": null,
      "outputs": [
        {
          "output_type": "stream",
          "name": "stdout",
          "text": [
            "Informe os valores de x separados por espaços: 1 2 3 4 5\n",
            "Informe os valores de y separados por espaços \n",
            "(informe a mesma quantidade de dados informados em x): 8 5 4 2 1\n",
            "O coeficiente de correlação é -0.9815 e indica que temos forte correlação negativa\n"
          ]
        }
      ]
    },
    {
      "cell_type": "markdown",
      "source": [
        "## 5.4 - Instrução Break"
      ],
      "metadata": {
        "id": "lT3jCpSPwXx4"
      }
    },
    {
      "cell_type": "code",
      "source": [
        "'''\n",
        "Imagine que você deseja utilizar uma estrutura for combinada com a função range\n",
        "para percorrer e imprimir uma sequência de tamanho 10, ou seja, que como saída\n",
        "tenhamos 10 prints de 10 números diferentes\n",
        "'''\n",
        "for i in range(10):\n",
        "  print(f'O {i+1}º valor é {i}')"
      ],
      "metadata": {
        "colab": {
          "base_uri": "https://localhost:8080/"
        },
        "id": "rIp0RYhbwerr",
        "outputId": "e3d50b18-c638-4931-b361-06e764c4efab"
      },
      "execution_count": null,
      "outputs": [
        {
          "output_type": "stream",
          "name": "stdout",
          "text": [
            "O 1º valor é 0\n",
            "O 2º valor é 1\n",
            "O 3º valor é 2\n",
            "O 4º valor é 3\n",
            "O 5º valor é 4\n",
            "O 6º valor é 5\n",
            "O 7º valor é 6\n",
            "O 8º valor é 7\n",
            "O 9º valor é 8\n",
            "O 10º valor é 9\n"
          ]
        }
      ]
    },
    {
      "cell_type": "code",
      "source": [
        "'''\n",
        "Imagine que na mesma situação do exercício anterior você\n",
        "deseja interromper o ciclo de impressões após o programa ter\n",
        "impresso 5 valores diferentes\n",
        "'''\n",
        "for i in range(10):\n",
        "  if i == 5:\n",
        "    break\n",
        "  print(f'O {i+1}º valor é {i}')"
      ],
      "metadata": {
        "colab": {
          "base_uri": "https://localhost:8080/"
        },
        "id": "-DB5d_EYESlS",
        "outputId": "9edc660e-31e0-46b0-e18c-0a3f21266f6b"
      },
      "execution_count": null,
      "outputs": [
        {
          "output_type": "stream",
          "name": "stdout",
          "text": [
            "O 1º valor é 0\n",
            "O 2º valor é 1\n",
            "O 3º valor é 2\n",
            "O 4º valor é 3\n",
            "O 5º valor é 4\n"
          ]
        }
      ]
    },
    {
      "cell_type": "markdown",
      "source": [
        "## 5.5 - Instrução continue"
      ],
      "metadata": {
        "id": "L38ATSCiMDv-"
      }
    },
    {
      "cell_type": "code",
      "source": [
        "'''\n",
        "Ainda imaginando a situação original, suponha que você deseja imprimir\n",
        "toda a sequencia exceto um determinado valor, por exemplo o 5\n",
        "'''\n",
        "for i in range(10):\n",
        "  if i == 5:\n",
        "    continue\n",
        "  print(f'O {i+1}º valor é {i}')"
      ],
      "metadata": {
        "colab": {
          "base_uri": "https://localhost:8080/"
        },
        "id": "RxiMWVTbGxf5",
        "outputId": "644b5e64-b5e1-46e3-f269-64e1654c187b"
      },
      "execution_count": null,
      "outputs": [
        {
          "output_type": "stream",
          "name": "stdout",
          "text": [
            "O 1º valor é 0\n",
            "O 2º valor é 1\n",
            "O 3º valor é 2\n",
            "O 4º valor é 3\n",
            "O 5º valor é 4\n",
            "O 7º valor é 6\n",
            "O 8º valor é 7\n",
            "O 9º valor é 8\n",
            "O 10º valor é 9\n"
          ]
        }
      ]
    },
    {
      "cell_type": "markdown",
      "source": [
        "## 5.6 - Declaração pass"
      ],
      "metadata": {
        "id": "JyqROEOFMKYc"
      }
    },
    {
      "cell_type": "code",
      "source": [
        "'''\n",
        "Imagine que você deseja que o programa ignore a parada estabelecida pelo if\n",
        "'''\n",
        "for i in range(10):\n",
        "  if i == 5:\n",
        "    pass\n",
        "  print(f'O {i+1}º valor é {i}')"
      ],
      "metadata": {
        "colab": {
          "base_uri": "https://localhost:8080/"
        },
        "id": "vbwF7D8HHug6",
        "outputId": "753c147a-10c1-440e-ea99-53668db00496"
      },
      "execution_count": null,
      "outputs": [
        {
          "output_type": "stream",
          "name": "stdout",
          "text": [
            "O 1º valor é 0\n",
            "O 2º valor é 1\n",
            "O 3º valor é 2\n",
            "O 4º valor é 3\n",
            "O 5º valor é 4\n",
            "O 6º valor é 5\n",
            "O 7º valor é 6\n",
            "O 8º valor é 7\n",
            "O 9º valor é 8\n",
            "O 10º valor é 9\n"
          ]
        }
      ]
    },
    {
      "cell_type": "markdown",
      "source": [
        "## 5.7 - while True"
      ],
      "metadata": {
        "id": "uO4kp191MA56"
      }
    },
    {
      "cell_type": "code",
      "source": [
        "'''\n",
        "Imagine que você deseja criar um programa que receba do usuário um número\n",
        "inteiro que defina quantas vezes será impressa a expressão \"olá mundo!\" e depois\n",
        "imprima essa expressão exatamente na quantidade informada pelo usuário\n",
        "'''"
      ],
      "metadata": {
        "id": "0-0OV1BTNHfX"
      },
      "execution_count": null,
      "outputs": []
    },
    {
      "cell_type": "code",
      "source": [
        "# Solução 01\n",
        "n = int(input('Informe quantas vezes você deseja ver a mensagem olá mundo: '))\n",
        "c = 0\n",
        "while c < n:\n",
        "  print('Olá Mundo!')\n",
        "  c += 1"
      ],
      "metadata": {
        "colab": {
          "base_uri": "https://localhost:8080/"
        },
        "id": "n2-_M0TVNmyo",
        "outputId": "a52fe0e9-8759-438f-8a27-dbca435d76b4"
      },
      "execution_count": null,
      "outputs": [
        {
          "output_type": "stream",
          "name": "stdout",
          "text": [
            "Informe quantas vezes você deseja ver a mensagem olá mundo: 4\n",
            "Olá Mundo!\n",
            "Olá Mundo!\n",
            "Olá Mundo!\n",
            "Olá Mundo!\n"
          ]
        }
      ]
    },
    {
      "cell_type": "code",
      "source": [
        "# Solução 02 usando while True\n",
        "n = int(input('Informe quantas vezes você deseja ver a mensagem olá mundo: '))\n",
        "c = 0\n",
        "while True:\n",
        "  if c < n:\n",
        "    print('Olá Mundo!')\n",
        "    c += 1\n",
        "  else:\n",
        "    break"
      ],
      "metadata": {
        "colab": {
          "base_uri": "https://localhost:8080/"
        },
        "id": "lFZl9eAsRWLV",
        "outputId": "943f24f7-172a-49e4-a9ca-d551f27d8b1a"
      },
      "execution_count": null,
      "outputs": [
        {
          "output_type": "stream",
          "name": "stdout",
          "text": [
            "Informe quantas vezes você deseja ver a mensagem olá mundo: 3\n",
            "Olá Mundo!\n",
            "Olá Mundo!\n",
            "Olá Mundo!\n"
          ]
        }
      ]
    },
    {
      "cell_type": "code",
      "source": [
        "'''\n",
        "O while True é uma estrutura mais flexível que o while pois não traz a condição\n",
        "na própria lina de declaração while, permitindo assim, que você faça várias\n",
        "outras condições aninhadas logo abaixo da declaração while True.\n",
        "'''"
      ],
      "metadata": {
        "id": "LQ6htQGdVVCt"
      },
      "execution_count": null,
      "outputs": []
    },
    {
      "cell_type": "code",
      "source": [
        "# Exercício\n",
        "'''\n",
        "Elabore um programa que que receba um número inteiro e positivo do usuário e\n",
        "verifique se o número informado é par ou ímpar, se for par imprima uma mensagem\n",
        "dizendo que o número é par e encerre o loop, caso seja ímpar exiba uma mensagem\n",
        "informando que o número não é par e peça para o usuário digitar outro número,\n",
        "até que o número digitado pelo usuário seja par.\n",
        "'''\n",
        "\n",
        "while True:\n",
        "  n = int(input('Informe um número par inteiro e positivo: '))\n",
        "  if n % 2 == 0:\n",
        "    print(f'O número {n} é um número par! Parabéns!')\n",
        "    break\n",
        "  else:\n",
        "    print(f'O número {n} não é um número par, favor informe um número par')"
      ],
      "metadata": {
        "colab": {
          "base_uri": "https://localhost:8080/"
        },
        "id": "SnuFcgz0V_BF",
        "outputId": "0b79e8bd-b8cd-4258-f1a9-80aa48eae2b2"
      },
      "execution_count": null,
      "outputs": [
        {
          "output_type": "stream",
          "name": "stdout",
          "text": [
            "Informe um número par inteiro e positivo: 3\n",
            "O número 3 não é um número par, favor informe um número par\n",
            "Informe um número par inteiro e positivo: 7\n",
            "O número 7 não é um número par, favor informe um número par\n",
            "Informe um número par inteiro e positivo: 4\n",
            "O número 4 é um número par! Parabéns!\n"
          ]
        }
      ]
    },
    {
      "cell_type": "markdown",
      "source": [
        "## 5.8 - Tratamento de erros (TRY e EXCEPT)"
      ],
      "metadata": {
        "id": "Ttjt-n9C485S"
      }
    },
    {
      "cell_type": "code",
      "source": [
        "'''\n",
        "Elabore um programa que receba do usuário um número qualquer e exiba a mensagem:\n",
        "Parabéns você digitou um número!\n",
        "'''"
      ],
      "metadata": {
        "id": "1TqYRcA76U6S"
      },
      "execution_count": null,
      "outputs": []
    },
    {
      "cell_type": "code",
      "source": [
        "while True:\n",
        "  try:\n",
        "    n = float(input('Informe um número qualquer: '))\n",
        "    print('Parabéns você digitou um número!')\n",
        "    break\n",
        "  except:\n",
        "    print('o valor informado não é um número')"
      ],
      "metadata": {
        "colab": {
          "base_uri": "https://localhost:8080/"
        },
        "id": "j1YaLEkb6nQM",
        "outputId": "713efc7f-5f11-43fe-f4d9-50f6d96ab53d"
      },
      "execution_count": null,
      "outputs": [
        {
          "output_type": "stream",
          "name": "stdout",
          "text": [
            "Informe um número qualquer: 7,3\n",
            "o valor informado não é um número\n",
            "Informe um número qualquer: 4\n",
            "Parabéns você digitou um número!\n"
          ]
        }
      ]
    },
    {
      "cell_type": "code",
      "source": [
        "'''\n",
        "Imagine que você tem uma lista com seis nomes de pessoas e outra com seis idades\n",
        "Suponha que a posição de cada nome em sua lista corresponde a mesma posição\n",
        "da sua idade na lista idades. Elabore um código que percorra as duas listas,\n",
        "verifique se a pessoa é maior ou menor de idade (18 anos) e exiba uma mensagem\n",
        "com cada nome, sua idade e um texto informando se essa pessoa é maior ou menor\n",
        "de idade.\n",
        "'''\n",
        "nomes = ['Douglas','Daniela','Pedro','Maria','Eduardo','Ester']\n",
        "idades = [48, 9, 70, 70, 44, 37]\n",
        "for i in range(len(nomes)):\n",
        "  if idades[i] >= 18:\n",
        "    print('*'*50)\n",
        "    print(f'{nomes[i]} tem {idades[i]} anos e é maior de idade')\n",
        "    print('*'*50)\n",
        "  else:\n",
        "    print('*'*50)\n",
        "    print(f'{nomes[i]} tem {idades[i]} anos e é menor de idade')\n",
        "    print('*'*50)"
      ],
      "metadata": {
        "colab": {
          "base_uri": "https://localhost:8080/"
        },
        "id": "V_-3idsp-oNW",
        "outputId": "20536c5a-ab20-4009-f2fc-167f156fc40c"
      },
      "execution_count": null,
      "outputs": [
        {
          "output_type": "stream",
          "name": "stdout",
          "text": [
            "**************************************************\n",
            "Douglas tem 48 anos e é maior de idade\n",
            "**************************************************\n",
            "**************************************************\n",
            "Daniela tem 9 anos e é menor de idade\n",
            "**************************************************\n",
            "**************************************************\n",
            "Pedro tem 70 anos e é maior de idade\n",
            "**************************************************\n",
            "**************************************************\n",
            "Maria tem 70 anos e é maior de idade\n",
            "**************************************************\n",
            "**************************************************\n",
            "Eduardo tem 44 anos e é maior de idade\n",
            "**************************************************\n",
            "**************************************************\n",
            "Ester tem 37 anos e é maior de idade\n",
            "**************************************************\n"
          ]
        }
      ]
    },
    {
      "cell_type": "code",
      "source": [
        "'''\n",
        "Imagine que você tem uma lista com seis nomes de pessoas e outra com seis idades\n",
        "Suponha que a posição de cada nome em sua lista corresponde a mesma posição\n",
        "da sua idade na lista idades. Elabore um código que percorra as duas listas,\n",
        "verifique se a pessoa é maior ou menor de idade (18 anos) e exiba uma mensagem\n",
        "com cada nome, sua idade e um texto informando se essa pessoa é maior ou menor\n",
        "de idade.\n",
        "'''\n",
        "nomes = ['Douglas','Daniela','Pedro','Maria','Eduardo','Ester']\n",
        "idades = [48, 9, 70, 70, 44, 37]\n",
        "for i,v in enumerate(idades):\n",
        "  if idades[i] >= 18:\n",
        "    print('*'*50)\n",
        "    print(f'{nomes[i]} tem {v} anos e é maior de idade')\n",
        "    print('*'*50)\n",
        "  else:\n",
        "    print('*'*50)\n",
        "    print(f'{nomes[i]} tem {v} anos e é menor de idade')\n",
        "    print('*'*50)"
      ],
      "metadata": {
        "colab": {
          "base_uri": "https://localhost:8080/"
        },
        "id": "trM_yWI2EwKJ",
        "outputId": "2e24021b-54cf-4ee3-a07c-131f4425c6e4"
      },
      "execution_count": null,
      "outputs": [
        {
          "output_type": "stream",
          "name": "stdout",
          "text": [
            "**************************************************\n",
            "Douglas tem 48 anos e é maior de idade\n",
            "**************************************************\n",
            "**************************************************\n",
            "Daniela tem 9 anos e é menor de idade\n",
            "**************************************************\n",
            "**************************************************\n",
            "Pedro tem 70 anos e é maior de idade\n",
            "**************************************************\n",
            "**************************************************\n",
            "Maria tem 70 anos e é maior de idade\n",
            "**************************************************\n",
            "**************************************************\n",
            "Eduardo tem 44 anos e é maior de idade\n",
            "**************************************************\n",
            "**************************************************\n",
            "Ester tem 37 anos e é maior de idade\n",
            "**************************************************\n"
          ]
        }
      ]
    },
    {
      "cell_type": "code",
      "source": [
        "'''\n",
        "Imagine que você deseja criar um programa que receba do usuário o valor de um\n",
        "determinado produto e a informação se esse produto é nacional ou importado e\n",
        "retorne para o usuário o valor do imposto a pagar. Considere que se o produto\n",
        "for nacional a alíquota de imposto é de 18% para valores até R$ 200,00 e 25%\n",
        "para valores acima de R$ 200,00. Agora se o produto for importado é isento para\n",
        "valores até R$ 200,00 e pagará 35% para valores acima de R$ 200,00.\n",
        "'''"
      ],
      "metadata": {
        "id": "0ltU0PAAFgx2"
      },
      "execution_count": null,
      "outputs": []
    },
    {
      "cell_type": "code",
      "source": [
        "while True:\n",
        "  try:\n",
        "    valor = float(input('Informe o valor do produto em R$ '))\n",
        "    break\n",
        "  except:\n",
        "    print('valor inválido')\n",
        "nac = input('O produto é nacional? 1 para sim ou 2 para não: ')\n",
        "if nac == '1':\n",
        "  if valor <= 200:\n",
        "    imposto = valor * 0.18\n",
        "  else:\n",
        "    imposto = valor * 0.25\n",
        "else:\n",
        "  if valor > 200:\n",
        "    imposto = valor * 0.35\n",
        "  else:\n",
        "    imposto = 0\n",
        "print(f'O valor do imposto é R$ {imposto:.2f}')"
      ],
      "metadata": {
        "colab": {
          "base_uri": "https://localhost:8080/"
        },
        "id": "moVreERNF2Bl",
        "outputId": "120d6b26-5fb2-462b-809a-8c32896471de"
      },
      "execution_count": null,
      "outputs": [
        {
          "output_type": "stream",
          "name": "stdout",
          "text": [
            "Informe o valor do produto em R$ a\n",
            "valor inválido\n",
            "Informe o valor do produto em R$ 5\n",
            "O produto é nacional? 1 para sim ou 2 para não: 1\n",
            "O valor do imposto é R$ 0.90\n"
          ]
        }
      ]
    },
    {
      "cell_type": "code",
      "source": [
        "'''\n",
        "Elabore um programa que receba do usuários duas sequencias de números separados\n",
        "por espaços com igual quantidade sendo uma sequência em um único input e outra\n",
        "sequência em outro input único\n",
        "'''\n",
        "dadosx = input('Informe uma sequência de números separados por espaços: ')\n",
        "dadosy = input('''Informe outra sequência de números separados por espaços com a\n",
        "mesma quantidade informada na primeira: ''')\n",
        "\n",
        "'''\n",
        "Agora separe cada sequência em uma lista, exemplo: dadosx separado em uma lista\n",
        "camada x e dadosy em uma lista chamada y\n",
        "'''\n",
        "x = dadosx.split()\n",
        "y = dadosy.split()\n",
        "\n",
        "'''\n",
        "percorra cada uma das listas criadas e para cada valor encontrado converta-o em\n",
        "um tipo float\n",
        "'''\n",
        "for i in range(len(x)):\n",
        "  x[i] = float(x[i])\n",
        "for i in range(len(y)):\n",
        "  y[i] = float(y[i])\n",
        "\n",
        "'''\n",
        "Agora crie três listas vazias, sendo xq, yq e xy e as preencha da sequinte forma:\n",
        "\n",
        "1 - xq: percorra a lista de x e para cada valor encontrado o eleve ao\n",
        "quadrado e guarde-o na lista xq\n",
        "\n",
        "2 - yq: percorra a lista de y e para cada valor encontrado o eleve ao\n",
        "quadrado e guarde-o na lista yq\n",
        "\n",
        "3 - xy:  percorra a lista de x e a de y e multiplique cada valor de x pelo\n",
        "seu valor de y correspondente e guarde os resultados na lista xy\n",
        "'''\n",
        "xq = []\n",
        "yq = []\n",
        "xy = []\n",
        "for i in range(len(x)):\n",
        "  xq.append(x[i]**2)\n",
        "for i in range(len(y)):\n",
        "  yq.append(y[i]**2)\n",
        "for i in range(len(x)):\n",
        "  xy.append(x[i]*y[i])\n",
        "'''\n",
        "Agora vamos criar uma variável que armazena o resultado da lista, sendo:\n",
        "sx = soma dos valores da lista x\n",
        "sy = soma dos valores da lista y\n",
        "sxq = soma dos valores da lista xq\n",
        "syq = soma dos valores da lista yq\n",
        "sxy = soma dos valores da lista xy\n",
        "n = a quantidade de elementos de um das listas\n",
        "mediax = a média da lista x\n",
        "mediay = a média da lista y\n",
        "'''\n",
        "sx = sum(x)\n",
        "sy = sum(y)\n",
        "sxq = sum(xq)\n",
        "syq = sum(yq)\n",
        "sxy = sum(xy)\n",
        "n = len(x)\n",
        "mediax = sx/n\n",
        "mediay = sy/n\n",
        "\n",
        "beta = (sxy - (sx * sy /n)) / (sxq - sx**2 / n)\n",
        "a = mediay - beta * mediax\n",
        "print(f'A equação da reta de regressão linear simples é Y = {a:.1f} + {beta:.1f} * x')"
      ],
      "metadata": {
        "colab": {
          "base_uri": "https://localhost:8080/"
        },
        "id": "_dWylkqkWFTJ",
        "outputId": "08105675-19d0-4a29-e9f7-599347688558"
      },
      "execution_count": null,
      "outputs": [
        {
          "output_type": "stream",
          "name": "stdout",
          "text": [
            "Informe uma sequência de números separados por espaços: 1 2 3 4 5\n",
            "Informe outra sequência de números separados por espaços com a \n",
            "mesma quantidade informada na primeira: 1 2 4 5 8\n",
            "A equação da reta de regressão linear simples é Y = -1.1 + 1.7 * x\n"
          ]
        }
      ]
    }
  ]
}