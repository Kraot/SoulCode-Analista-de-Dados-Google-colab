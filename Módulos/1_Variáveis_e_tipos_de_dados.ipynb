{
  "nbformat": 4,
  "nbformat_minor": 0,
  "metadata": {
    "colab": {
      "provenance": [],
      "include_colab_link": true
    },
    "kernelspec": {
      "name": "python3",
      "display_name": "Python 3"
    },
    "language_info": {
      "name": "python"
    }
  },
  "cells": [
    {
      "cell_type": "markdown",
      "metadata": {
        "id": "view-in-github",
        "colab_type": "text"
      },
      "source": [
        "<a href=\"https://colab.research.google.com/github/Kraot/SoulCode-Analista-de-Dados-Google-colab/blob/main/M%C3%B3dulos/1_Vari%C3%A1veis_e_tipos_de_dados.ipynb\" target=\"_parent\"><img src=\"https://colab.research.google.com/assets/colab-badge.svg\" alt=\"Open In Colab\"/></a>"
      ]
    },
    {
      "cell_type": "markdown",
      "source": [
        "# 1 - Variáveis e tipos de dados em Python"
      ],
      "metadata": {
        "id": "QEgob3nUtMz3"
      }
    },
    {
      "cell_type": "markdown",
      "source": [
        "## 1.1 - Variáveis"
      ],
      "metadata": {
        "id": "N4yykEnRwpjE"
      }
    },
    {
      "cell_type": "code",
      "execution_count": null,
      "metadata": {
        "colab": {
          "base_uri": "https://localhost:8080/"
        },
        "id": "M5JD3IgVrRRO",
        "outputId": "3f805b1a-d92a-4d30-cce5-5dbee7e7ee5e"
      },
      "outputs": [
        {
          "output_type": "stream",
          "name": "stdout",
          "text": [
            "Douglas\n",
            "<class 'str'>\n",
            "48\n",
            "<class 'int'>\n",
            "1.85\n",
            "<class 'float'>\n"
          ]
        }
      ],
      "source": [
        "'''\n",
        "Em Python, variáveis são utilizadas para armazenar valores na memória do\n",
        "computador. Para criar uma variável, você precisa usar um nome e um valor.\n",
        "O nome da variável deve seguir as regras de nomenclatura do Python:\n",
        "\n",
        "Deve começar com uma letra ou sublinhado (_).\n",
        "Pode conter letras, números e sublinhados.\n",
        "Não pode ser uma palavra-chave reservada do Python.\n",
        "Para atribuir um valor a uma variável, utilize o operador de atribuição (=).\n",
        "Exemplo:\n",
        "'''\n",
        "nome = 'Douglas'\n",
        "print(nome)\n",
        "print(type(nome))\n",
        "idade = 48\n",
        "print(idade)\n",
        "print(type(idade))\n",
        "altura = 1.85\n",
        "print(altura)\n",
        "print(type(altura))"
      ]
    },
    {
      "cell_type": "markdown",
      "source": [
        "## 1.2 - Tipos de dados"
      ],
      "metadata": {
        "id": "eJWlRXpkwn_E"
      }
    },
    {
      "cell_type": "code",
      "source": [
        "'''\n",
        "Tipos de Dados:\n",
        "\n",
        "Cada variável em Python possui um tipo de dado, que define o tipo de valor que\n",
        "ela pode armazenar. Os tipos de dados mais comuns em Python são:\n",
        "\n",
        "Inteiro (int): Números inteiros, como 1, 2, 3, etc.\n",
        "Ponto flutuante (float): Números com casas decimais, como 1.5, 2.75, 3.14, etc.\n",
        "String (str): Textos, como \"Olá, mundo!\", \"Python é legal\", etc.\n",
        "Booleano (bool): Valores True ou False.\n",
        "Conversão de Tipos:\n",
        "\n",
        "É possível converter um tipo de dado para outro usando funções específicas.\n",
        "Exemplo:\n",
        "'''\n",
        "nome = 'Douglas'\n",
        "print(type(nome))\n",
        "numero_inteiro = 10\n",
        "print(type(numero_inteiro))\n",
        "numero_float = float(numero_inteiro)  # Converte um inteiro para um float\n",
        "print(type(numero_float))"
      ],
      "metadata": {
        "colab": {
          "base_uri": "https://localhost:8080/"
        },
        "id": "FucRWQAOwlwk",
        "outputId": "b00c85bf-7ce4-4aac-b66e-9089899fdc62"
      },
      "execution_count": null,
      "outputs": [
        {
          "output_type": "stream",
          "name": "stdout",
          "text": [
            "<class 'str'>\n",
            "<class 'int'>\n",
            "<class 'float'>\n"
          ]
        }
      ]
    }
  ]
}