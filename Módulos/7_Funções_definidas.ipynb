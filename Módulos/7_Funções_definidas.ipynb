{
  "nbformat": 4,
  "nbformat_minor": 0,
  "metadata": {
    "colab": {
      "provenance": [],
      "include_colab_link": true
    },
    "kernelspec": {
      "name": "python3",
      "display_name": "Python 3"
    },
    "language_info": {
      "name": "python"
    }
  },
  "cells": [
    {
      "cell_type": "markdown",
      "metadata": {
        "id": "view-in-github",
        "colab_type": "text"
      },
      "source": [
        "<a href=\"https://colab.research.google.com/github/Kraot/SoulCode-Analista-de-Dados-Google-colab/blob/main/M%C3%B3dulos/7_Fun%C3%A7%C3%B5es_definidas.ipynb\" target=\"_parent\"><img src=\"https://colab.research.google.com/assets/colab-badge.svg\" alt=\"Open In Colab\"/></a>"
      ]
    },
    {
      "cell_type": "markdown",
      "source": [
        "# 7 - Funções definidas pelo usuário"
      ],
      "metadata": {
        "id": "qVSamviEWCSQ"
      }
    },
    {
      "cell_type": "code",
      "source": [
        "'''\n",
        "Imagine que você deseja criar uma função que imprima o \"Olá!\" todas as vezes\n",
        "que essa função for executada, sem ter a necessidade de usar o print, por\n",
        "exemplo\n",
        "'''\n",
        "def oi():\n",
        "  print('Olá!')\n",
        "'''\n",
        "O processo de criação de uma função é muito simples, devemos começar com a\n",
        "palavra reservada \"def\" seguido de um nome que vamos usar para chamar a função\n",
        "e dpois parenteses para especificar os argumentos da função, lembrando que os\n",
        "argumentos de uma função, são opcionais, observe que no caso de função do\n",
        "exemplo acima, não temos argumentos obrigatórios, e além disso, essa função não\n",
        "possui retorno\n",
        "'''\n",
        "\n",
        "'''\n",
        "Suponha agora que você deseja guardar o texto de saída da função acima em uma\n",
        "variável qualquer\n",
        "'''\n",
        "#oi()\n",
        "\n",
        "'''\n",
        "Observe que a função cumpre o seu papel, ou seja, quando executada, exibe no\n",
        "console o texto \"Olá!\"\n",
        "'''\n",
        "\n",
        "'''\n",
        "agora vamos tentar guardar esse texto em uma variável chamada texto\n",
        "'''\n",
        "\n",
        "texto = oi()\n",
        "print(texto)\n",
        "\n",
        "'''\n",
        "Nesse caso não temos nada guardado na variável texto pq essa função\n",
        "não tem retorno\n",
        "'''"
      ],
      "metadata": {
        "colab": {
          "base_uri": "https://localhost:8080/",
          "height": 70
        },
        "id": "qWFlIBBnWJfS",
        "outputId": "7b7f14cd-a6dd-4cd3-b73c-99e5c9aa6612"
      },
      "execution_count": null,
      "outputs": [
        {
          "output_type": "stream",
          "name": "stdout",
          "text": [
            "Olá!\n",
            "None\n"
          ]
        },
        {
          "output_type": "execute_result",
          "data": {
            "text/plain": [
              "'\\nNesse caso não temos nada guardado na variável texto pq essa função\\nnão tem retorno\\n'"
            ],
            "application/vnd.google.colaboratory.intrinsic+json": {
              "type": "string"
            }
          },
          "metadata": {},
          "execution_count": 76
        }
      ]
    },
    {
      "cell_type": "code",
      "source": [
        "def oi():\n",
        "  return 'Olá!'\n",
        "'''\n",
        "Agora a função oi possui como retorno o texto 'Olá!'\n",
        "e como ela tem retorno esse retorno pode ser armazenado\n",
        "em uma variável, por exemplo\n",
        "'''\n",
        "\n",
        "texto = oi()\n",
        "print(texto)"
      ],
      "metadata": {
        "colab": {
          "base_uri": "https://localhost:8080/"
        },
        "id": "wEyxkJvkZ4n7",
        "outputId": "4c67cc99-ac28-4c9d-badc-0b3c4609be7b"
      },
      "execution_count": null,
      "outputs": [
        {
          "output_type": "stream",
          "name": "stdout",
          "text": [
            "Olá!\n"
          ]
        }
      ]
    },
    {
      "cell_type": "markdown",
      "source": [
        "## 7.1 - Funções com argumentos nomeados e argumentos de posição"
      ],
      "metadata": {
        "id": "hIb1h3Ukcbco"
      }
    },
    {
      "cell_type": "code",
      "source": [
        "'''\n",
        "Imagine que você precisa fazer uma função que calcula automaticamente o valor\n",
        "total do desconto sobre o valor da compra de um cliente, e esse desconto total,\n",
        "depende de diferentes percentuais que podem ser aplicados sobre o valor total\n",
        "da compra do cliente, tais percentuais podem ser referentes a cupon de desconto,\n",
        "pagamento à vista em pix, clube de vantagens vip e desconto para professores.\n",
        "suponha que nossos clientes possuem todos os descontos e as taxas são fixas:\n",
        "cupon 1%\n",
        "pix 2%\n",
        "vip 3%\n",
        "prof 4%\n",
        "'''\n",
        "def desconto(valor):\n",
        "  cupon = valor * 0.01\n",
        "  pix = valor * 0.02\n",
        "  vip = valor * 0.03\n",
        "  prof = valor * 0.04\n",
        "  return cupon + pix + vip + prof"
      ],
      "metadata": {
        "id": "3Z-K46Unb-Hr"
      },
      "execution_count": null,
      "outputs": []
    },
    {
      "cell_type": "code",
      "source": [
        "print(f'O valor do desconto na sua compra foi de R$ {desconto(1000)}')"
      ],
      "metadata": {
        "colab": {
          "base_uri": "https://localhost:8080/"
        },
        "id": "1_rFXqF0eCRE",
        "outputId": "070fdd7b-68c7-4ce3-bbd5-c490932fad50"
      },
      "execution_count": null,
      "outputs": [
        {
          "output_type": "stream",
          "name": "stdout",
          "text": [
            "O valor do desconto na sua compra foi de R$ 100.0\n"
          ]
        }
      ]
    },
    {
      "cell_type": "code",
      "source": [
        "'''\n",
        "Agora imagine que cupon, pix, vip e prof são variáveis, ou seja\n",
        "cada vez que a função for executada podem receber valores diferentes,\n",
        "nesse caso devemos colocá-los também como argumentos na construção\n",
        "da função\n",
        "'''\n",
        "\n",
        "def desconto(valor, cupon, pix, vip, prof):\n",
        "  desconto = valor * cupon + valor * pix + valor * vip + valor * prof\n",
        "  return desconto"
      ],
      "metadata": {
        "id": "eX7dpAIdejsn"
      },
      "execution_count": null,
      "outputs": []
    },
    {
      "cell_type": "code",
      "source": [
        "desconto(1000,0.01,0.02,0.03,0.04)"
      ],
      "metadata": {
        "colab": {
          "base_uri": "https://localhost:8080/"
        },
        "id": "o_VqWK9JhZSY",
        "outputId": "c9e21683-a60e-45be-82af-ad33c08bccd4"
      },
      "execution_count": null,
      "outputs": [
        {
          "output_type": "execute_result",
          "data": {
            "text/plain": [
              "100.0"
            ]
          },
          "metadata": {},
          "execution_count": 87
        }
      ]
    },
    {
      "cell_type": "code",
      "source": [
        "desconto(vip=0.03,valor=1000,pix=0.02,cupon=0.01,prof=0.04)"
      ],
      "metadata": {
        "colab": {
          "base_uri": "https://localhost:8080/"
        },
        "id": "nQK7eWU-h3lM",
        "outputId": "f5909971-41dc-47e2-d8f4-6ffcc868aa08"
      },
      "execution_count": null,
      "outputs": [
        {
          "output_type": "execute_result",
          "data": {
            "text/plain": [
              "100.0"
            ]
          },
          "metadata": {},
          "execution_count": 90
        }
      ]
    }
  ]
}