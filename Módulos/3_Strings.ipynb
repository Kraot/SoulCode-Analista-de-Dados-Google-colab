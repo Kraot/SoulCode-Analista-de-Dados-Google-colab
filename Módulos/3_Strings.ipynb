{
  "nbformat": 4,
  "nbformat_minor": 0,
  "metadata": {
    "colab": {
      "provenance": [],
      "include_colab_link": true
    },
    "kernelspec": {
      "name": "python3",
      "display_name": "Python 3"
    },
    "language_info": {
      "name": "python"
    }
  },
  "cells": [
    {
      "cell_type": "markdown",
      "metadata": {
        "id": "view-in-github",
        "colab_type": "text"
      },
      "source": [
        "<a href=\"https://colab.research.google.com/github/Kraot/SoulCode-Analista-de-Dados-Google-colab/blob/main/M%C3%B3dulos/3_Strings.ipynb\" target=\"_parent\"><img src=\"https://colab.research.google.com/assets/colab-badge.svg\" alt=\"Open In Colab\"/></a>"
      ]
    },
    {
      "cell_type": "markdown",
      "source": [
        "# 3 - Strings"
      ],
      "metadata": {
        "id": "OVcHgds0KpIQ"
      }
    },
    {
      "cell_type": "markdown",
      "source": [
        "## 3.1 - Formatação de Strings (f-strings)"
      ],
      "metadata": {
        "id": "JK03JEKkKsuk"
      }
    },
    {
      "cell_type": "code",
      "source": [
        "'''\n",
        "As f-strings em Python são uma maneira concisa e elegante de formatar strings.\n",
        "Elas permitem incorporar expressões Python diretamente dentro de strings,\n",
        "tornando o código mais legível e fácil de manter.\n",
        "\n",
        "Como usar f-strings:\n",
        "\n",
        "Para usar f-strings, basta prefixar uma string literal com a letra \"f\".\n",
        "Dentro da string, você pode usar expressões Python entre chaves \"{}\":\n",
        "'''"
      ],
      "metadata": {
        "id": "ek6nH8PQKz-E"
      },
      "execution_count": null,
      "outputs": []
    },
    {
      "cell_type": "code",
      "source": [
        "cliente = 'Douglas'\n",
        "idade = 48\n",
        "print(f'O nome do cliente é {cliente}, e ele tem {idade} anos de idade.')"
      ],
      "metadata": {
        "colab": {
          "base_uri": "https://localhost:8080/"
        },
        "id": "S1a9UW5vLEnT",
        "outputId": "516f3188-dfd5-4f57-f31f-1ba5149b8972"
      },
      "execution_count": null,
      "outputs": [
        {
          "output_type": "stream",
          "name": "stdout",
          "text": [
            "O nome do cliente é Douglas, e ele tem 48 anos de idade.\n"
          ]
        }
      ]
    },
    {
      "cell_type": "code",
      "source": [
        "taxa = 2/3\n",
        "print(taxa)\n",
        "print(f'O resultado da taxa é aproximadamente {taxa:.2f}')"
      ],
      "metadata": {
        "colab": {
          "base_uri": "https://localhost:8080/"
        },
        "id": "K-l_m3JGMcic",
        "outputId": "5a396d32-3d94-4745-acfe-f197539d9474"
      },
      "execution_count": null,
      "outputs": [
        {
          "output_type": "stream",
          "name": "stdout",
          "text": [
            "0.6666666666666666\n",
            "O resultado da taxa é aproximadamente 0.67\n"
          ]
        }
      ]
    },
    {
      "cell_type": "markdown",
      "source": [
        "## 3.2 - Entrada definida pelo usuário (função input)"
      ],
      "metadata": {
        "id": "D_sq_R_yNlKh"
      }
    },
    {
      "cell_type": "code",
      "source": [
        "'''\n",
        "A função input() em Python permite que você obtenha entrada do usuário durante a\n",
        "execução do programa. É uma ferramenta essencial para interagir com o usuário e\n",
        "coletar dados para processamento.\n",
        "\n",
        "Como usar a função input():\n",
        "\n",
        "A função input() é simples de usar. Basta fornecer uma mensagem entre parênteses\n",
        "para instruir o usuário sobre o que digitar:\n",
        "'''"
      ],
      "metadata": {
        "id": "0WgB33zeOO1U"
      },
      "execution_count": null,
      "outputs": []
    },
    {
      "cell_type": "code",
      "source": [
        "nome = input('Informe seu primeiro nome: ')\n",
        "print(f'Olá, {nome}!')"
      ],
      "metadata": {
        "colab": {
          "base_uri": "https://localhost:8080/"
        },
        "id": "Y7D5WjEGOaD2",
        "outputId": "9ddd566f-e574-47aa-cd91-8c2c44ec4916"
      },
      "execution_count": null,
      "outputs": [
        {
          "output_type": "stream",
          "name": "stdout",
          "text": [
            "Informe seu primeiro nome: Douglas\n",
            "Olá, Douglas!\n"
          ]
        }
      ]
    },
    {
      "cell_type": "code",
      "source": [
        "nome = input('Informe o seu primeiro nome: ')\n",
        "massa = float(input('Informe seu peso em kg: '))\n",
        "altura = float(input('Informe sua altura em metros na forma decimal: '))\n",
        "imc = massa / (altura ** 2)\n",
        "print(f'Olá {nome}! Seu IMC é {imc:.2f}')"
      ],
      "metadata": {
        "colab": {
          "base_uri": "https://localhost:8080/"
        },
        "id": "O1h7WfxuPChC",
        "outputId": "06ea77d8-b6e9-4a74-dfcc-23bae5c8449f"
      },
      "execution_count": null,
      "outputs": [
        {
          "output_type": "stream",
          "name": "stdout",
          "text": [
            "Informe o seu primeiro nome: Douglas\n",
            "Informe seu peso em kg: 80\n",
            "Informe sua altura em metros na forma decimal: 1.85\n",
            "Olá Douglas! Seu IMC é 23.37\n"
          ]
        }
      ]
    },
    {
      "cell_type": "markdown",
      "source": [
        "## 3.3 - Posições de caracteres nas strings"
      ],
      "metadata": {
        "id": "VxC9k6E64GY6"
      }
    },
    {
      "cell_type": "code",
      "source": [
        "'''\n",
        "Este bloco traz possível soluções para quando queremos saber qual caracter temos\n",
        "em uma posição (índice) ou sequência de caracteres em um intervalo\n",
        "'''\n",
        "# 0    1   2   3   4   5  6  7  8  9 10 11 12 13 (índice)\n",
        "# -14 -13 -12 -11 -10 -9 -8 -7 -6 -5 -4 -3 -2 -1 (índice reverso)\n",
        "# 1º 2º 3º 4º 5º 6º 7º 8º 9º 10º 11º 12º 13º 14º (ordinal)\n",
        "# d  o  u  g  @  g  m  a  i   l   .   c   o   m\n",
        "email = 'doug@gmail.com'\n",
        "print(email[4])\n",
        "print(email[:]) # imprimir um intervalo de todos os caracteres da string email\n",
        "print(email[0:4]) # selecionando o intervalo a partir do índice 0 até o índice 3\n",
        "print(email[2:]) # seleciona o intervalo a partir do índice 2 até o final\n",
        "print(email[:5]) # seleciona o intervalo de todos os caracteres até o de índice 4\n",
        "print(email[0:5:2]) # seleciona último caracter de uma sequência\n",
        "'''\n",
        "resumo do fatiamento de strings\n",
        "nome_variavel[indice de começo : índice de parada : de quanto em quanto]\n",
        "nome_variavel[início : fim : passo]\n",
        "'''"
      ],
      "metadata": {
        "colab": {
          "base_uri": "https://localhost:8080/"
        },
        "id": "Sfbd1k1O7QR1",
        "outputId": "0ba9e87c-588a-4e7b-b31b-2a4a7c5656da"
      },
      "execution_count": null,
      "outputs": [
        {
          "output_type": "stream",
          "name": "stdout",
          "text": [
            "@\n",
            "doug@gmail.com\n",
            "doug\n",
            "ug@gmail.com\n",
            "doug@\n",
            "du@\n"
          ]
        }
      ]
    },
    {
      "cell_type": "code",
      "source": [
        "# Contar a quantidade de carcteres em uma sequência\n",
        "email = 'doug@gmail.com'\n",
        "print(len(email))\n",
        "qtde = len(email)\n",
        "print(qtde)"
      ],
      "metadata": {
        "colab": {
          "base_uri": "https://localhost:8080/"
        },
        "id": "AiORW5TIMpaQ",
        "outputId": "cec16e7b-aaf7-437a-cb10-4b5084c9381f"
      },
      "execution_count": null,
      "outputs": [
        {
          "output_type": "stream",
          "name": "stdout",
          "text": [
            "14\n",
            "14\n"
          ]
        }
      ]
    },
    {
      "cell_type": "code",
      "source": [
        "cpf = 12345678910\n",
        "print(type(cpf))\n",
        "cpf = str(cpf)\n",
        "print(type(cpf))"
      ],
      "metadata": {
        "colab": {
          "base_uri": "https://localhost:8080/"
        },
        "id": "pkS6qnWoOK-B",
        "outputId": "b774549b-f52c-43c7-bf29-a21ec59383d3"
      },
      "execution_count": null,
      "outputs": [
        {
          "output_type": "stream",
          "name": "stdout",
          "text": [
            "<class 'int'>\n",
            "<class 'str'>\n"
          ]
        }
      ]
    },
    {
      "cell_type": "code",
      "source": [
        "# Operador IN\n",
        "\n",
        "email = 'doug@gmail.com'\n",
        "\n",
        "print('u' in email)"
      ],
      "metadata": {
        "colab": {
          "base_uri": "https://localhost:8080/"
        },
        "id": "F7h3tPDvPc3j",
        "outputId": "0cd98078-98c2-4152-8e04-f11b7ddec5b3"
      },
      "execution_count": null,
      "outputs": [
        {
          "output_type": "stream",
          "name": "stdout",
          "text": [
            "True\n"
          ]
        }
      ]
    },
    {
      "cell_type": "code",
      "source": [
        "# Operador NOT IN\n",
        "email = 'doug@gmail.com'\n",
        "\n",
        "print('u' not in email)"
      ],
      "metadata": {
        "colab": {
          "base_uri": "https://localhost:8080/"
        },
        "id": "-mAEYrB8Qaty",
        "outputId": "d7cbda52-4196-43d5-9eed-858fcac927c8"
      },
      "execution_count": null,
      "outputs": [
        {
          "output_type": "stream",
          "name": "stdout",
          "text": [
            "False\n"
          ]
        }
      ]
    },
    {
      "cell_type": "code",
      "source": [
        "# Método capitalize converte em maiúscula apenas a primeira letra de uma string\n",
        "nome = 'douglas'\n",
        "print(nome)\n",
        "nome = nome.capitalize()\n",
        "print(nome)"
      ],
      "metadata": {
        "colab": {
          "base_uri": "https://localhost:8080/"
        },
        "id": "xtJbgm3kQjme",
        "outputId": "b1325017-8759-431d-fd03-4a12cc0df5cd"
      },
      "execution_count": null,
      "outputs": [
        {
          "output_type": "stream",
          "name": "stdout",
          "text": [
            "douglas\n",
            "Douglas\n"
          ]
        }
      ]
    },
    {
      "cell_type": "code",
      "source": [
        "# Método Title, serve para deixar a primeira letra de cada palavra maiúscula\n",
        "nome = 'douglas almeida ribeiro'\n",
        "print(nome)\n",
        "nome = nome.capitalize()\n",
        "print(nome)\n",
        "nome = nome.title()\n",
        "print(nome)"
      ],
      "metadata": {
        "colab": {
          "base_uri": "https://localhost:8080/"
        },
        "id": "Rmr6_apVRnWb",
        "outputId": "9be50b45-fbcd-4b40-c84f-173ab44c3b0e"
      },
      "execution_count": null,
      "outputs": [
        {
          "output_type": "stream",
          "name": "stdout",
          "text": [
            "douglas almeida ribeiro\n",
            "Douglas almeida ribeiro\n",
            "Douglas Almeida Ribeiro\n"
          ]
        }
      ]
    },
    {
      "cell_type": "code",
      "source": [
        "# Método upper deixa todas as letras em maiúscula\n",
        "nome = 'Douglas de almeida ribeiro'\n",
        "print(nome)\n",
        "nome = nome.upper()\n",
        "print(nome)"
      ],
      "metadata": {
        "colab": {
          "base_uri": "https://localhost:8080/"
        },
        "id": "eAena3chSSb3",
        "outputId": "898e9dc2-f99e-4662-98d3-e334226fdc29"
      },
      "execution_count": null,
      "outputs": [
        {
          "output_type": "stream",
          "name": "stdout",
          "text": [
            "Douglas de almeida ribeiro\n",
            "DOUGLAS DE ALMEIDA RIBEIRO\n"
          ]
        }
      ]
    },
    {
      "cell_type": "code",
      "source": [
        "# Método para contar quantas vezes um determinado caracter aparece em uma string\n",
        "email = 'doug@gmail.com'\n",
        "email.count('@')"
      ],
      "metadata": {
        "colab": {
          "base_uri": "https://localhost:8080/"
        },
        "id": "-TC7UsNwTT5x",
        "outputId": "2730074a-94f4-4114-dd47-d5e06b242600"
      },
      "execution_count": null,
      "outputs": [
        {
          "output_type": "execute_result",
          "data": {
            "text/plain": [
              "1"
            ]
          },
          "metadata": {},
          "execution_count": 57
        }
      ]
    },
    {
      "cell_type": "code",
      "source": [
        "# Método que mostra a posição de um determinado caracter (caso apareça mais de uma vez, ele por padrão mostrará a 1ª)\n",
        "email = 'doug@gmail.com'\n",
        "email.find('o')"
      ],
      "metadata": {
        "colab": {
          "base_uri": "https://localhost:8080/"
        },
        "id": "MXV2rtowmTzZ",
        "outputId": "876fd1ae-f2c9-40c5-df48-e55bc9bd3826"
      },
      "execution_count": null,
      "outputs": [
        {
          "output_type": "execute_result",
          "data": {
            "text/plain": [
              "1"
            ]
          },
          "metadata": {},
          "execution_count": 59
        }
      ]
    },
    {
      "cell_type": "code",
      "source": [
        "# Método startswith verifica se uma string começa com um determinado caracter ou sequência de caracteres\n",
        "email = 'doug@gmail.com'\n",
        "email.startswith('doug')"
      ],
      "metadata": {
        "colab": {
          "base_uri": "https://localhost:8080/"
        },
        "id": "xhrLpQNanD-g",
        "outputId": "d4cb4e10-d006-4751-b718-704075a7d3d3"
      },
      "execution_count": null,
      "outputs": [
        {
          "output_type": "execute_result",
          "data": {
            "text/plain": [
              "True"
            ]
          },
          "metadata": {},
          "execution_count": 77
        }
      ]
    },
    {
      "cell_type": "code",
      "source": [
        "# Método endswith verifica se uma string termina com um determinado caracter ou sequência de caracteres\n",
        "email = 'doug@gmail.com'\n",
        "email.endswith('.com')"
      ],
      "metadata": {
        "colab": {
          "base_uri": "https://localhost:8080/"
        },
        "id": "TvGS1b_LodV1",
        "outputId": "3e7f1e67-bc94-4fd5-8a34-a722d9895273"
      },
      "execution_count": null,
      "outputs": [
        {
          "output_type": "execute_result",
          "data": {
            "text/plain": [
              "True"
            ]
          },
          "metadata": {},
          "execution_count": 80
        }
      ]
    },
    {
      "cell_type": "code",
      "source": [
        "# Método isnumeric() verifica se o conteúdo de uma string é ou não numérico\n",
        "cpf = '12345678910'\n",
        "cpf.isnumeric()"
      ],
      "metadata": {
        "colab": {
          "base_uri": "https://localhost:8080/"
        },
        "id": "0RhT7jgGp5xS",
        "outputId": "8e3f64f5-20b2-45b9-fbf5-8f811ed6a801"
      },
      "execution_count": null,
      "outputs": [
        {
          "output_type": "execute_result",
          "data": {
            "text/plain": [
              "False"
            ]
          },
          "metadata": {},
          "execution_count": 90
        }
      ]
    },
    {
      "cell_type": "code",
      "source": [
        "# Método isalpha() verifica se o conteúdo de uma string é ou não letra\n",
        "nome = 'Douglas Ribeiro'\n",
        "nome.isalpha()"
      ],
      "metadata": {
        "colab": {
          "base_uri": "https://localhost:8080/"
        },
        "id": "KxvnKo_5ts8P",
        "outputId": "be7daa60-d824-428f-aa95-2defa68c95e6"
      },
      "execution_count": null,
      "outputs": [
        {
          "output_type": "execute_result",
          "data": {
            "text/plain": [
              "False"
            ]
          },
          "metadata": {},
          "execution_count": 97
        }
      ]
    },
    {
      "cell_type": "code",
      "source": [
        "# Método isalnum verifica se o conteúdo de uma string é ou não combinação de letra e número\n",
        "nome = 'Dougla5'\n",
        "nome.isalnum()"
      ],
      "metadata": {
        "colab": {
          "base_uri": "https://localhost:8080/"
        },
        "id": "5dupXCpEuiVe",
        "outputId": "00ee8475-acea-4786-e6ee-59c7849794aa"
      },
      "execution_count": null,
      "outputs": [
        {
          "output_type": "execute_result",
          "data": {
            "text/plain": [
              "True"
            ]
          },
          "metadata": {},
          "execution_count": 100
        }
      ]
    },
    {
      "cell_type": "code",
      "source": [
        "# Método strip remove espaços indesejados no começo e/ou final da string\n",
        "nome = ' Douglas '\n",
        "print(len(nome))\n",
        "nome = nome.strip()\n",
        "print(len(nome))"
      ],
      "metadata": {
        "colab": {
          "base_uri": "https://localhost:8080/"
        },
        "id": "usbaggrDz_zC",
        "outputId": "296ed7a8-161f-4378-fee0-d91c892b4667"
      },
      "execution_count": null,
      "outputs": [
        {
          "output_type": "stream",
          "name": "stdout",
          "text": [
            "9\n",
            "7\n"
          ]
        }
      ]
    },
    {
      "cell_type": "code",
      "source": [
        "# Método replace substitui um caracter por outro\n",
        "# nome_da_string.replace('caracter_indesejado', 'caeacter_desejado')\n",
        "preco = 'R$ 10.50'\n",
        "preco = preco.replace('.',',')\n",
        "print(preco)"
      ],
      "metadata": {
        "colab": {
          "base_uri": "https://localhost:8080/"
        },
        "id": "UTjeAPmN0xjY",
        "outputId": "89d400d2-61b2-4bba-e1bb-b1c9304a7be8"
      },
      "execution_count": null,
      "outputs": [
        {
          "output_type": "stream",
          "name": "stdout",
          "text": [
            "R$ 10,50\n"
          ]
        }
      ]
    },
    {
      "cell_type": "code",
      "source": [
        "# Método split (divide uma string em duas ou mais partes por meio de um separador)\n",
        "nome = 'Douglas Almeida Ribeiro'\n",
        "nomes = nome.split()\n",
        "print(nomes)"
      ],
      "metadata": {
        "colab": {
          "base_uri": "https://localhost:8080/"
        },
        "id": "gjAlgWB31R6R",
        "outputId": "add11a14-d883-475d-a809-4a33a89218ac"
      },
      "execution_count": null,
      "outputs": [
        {
          "output_type": "stream",
          "name": "stdout",
          "text": [
            "['Douglas', 'Almeida', 'Ribeiro']\n"
          ]
        }
      ]
    },
    {
      "cell_type": "code",
      "source": [
        "# Método split (divide uma string em duas ou mais partes por meio de um separador)\n",
        "date = '12/05/2023'\n",
        "dia_mes_ano = date.split('/')\n",
        "print(dia_mes_ano)"
      ],
      "metadata": {
        "colab": {
          "base_uri": "https://localhost:8080/"
        },
        "id": "Ubp655sJ3RqR",
        "outputId": "d56a02ab-8c2d-4d45-c165-ea4165d29f68"
      },
      "execution_count": null,
      "outputs": [
        {
          "output_type": "stream",
          "name": "stdout",
          "text": [
            "['12', '05', '2023']\n"
          ]
        }
      ]
    },
    {
      "cell_type": "code",
      "source": [
        "'''\n",
        "Crie um programa que receba do usuário dois ou mais nomes separados\n",
        "por espaços e no mesmo input e os armazene em uma variável chamada nomes\n",
        "'''"
      ],
      "metadata": {
        "id": "ccHkLpmA3Nx5"
      },
      "execution_count": null,
      "outputs": []
    },
    {
      "cell_type": "code",
      "source": [
        "nomes = input('Informe dois ou mais nomes separados por espaços: ')\n",
        "print(nomes)\n",
        "'''\n",
        "Imagine que você deseja guardar os nomes informados em um estrutura única\n",
        "porém separando os nomes\n",
        "'''\n",
        "nomes = nomes.split()\n",
        "print(nomes)"
      ],
      "metadata": {
        "colab": {
          "base_uri": "https://localhost:8080/"
        },
        "id": "sWNuny0h6BZ4",
        "outputId": "8eec6a23-2da9-4c49-cd6e-755f5179f503"
      },
      "execution_count": null,
      "outputs": [
        {
          "output_type": "stream",
          "name": "stdout",
          "text": [
            "Informe dois ou mais nomes separados por espaços: Douglas Daniela Pedro Maria\n",
            "Douglas Daniela Pedro Maria\n",
            "['Douglas', 'Daniela', 'Pedro', 'Maria']\n"
          ]
        }
      ]
    },
    {
      "cell_type": "code",
      "source": [
        "nomes = input('Informe dois ou mais nomes separados por espaços: ')\n",
        "print(nomes)\n",
        "'''\n",
        "Imagine que você deseja guardar os nomes informados em um estrutura única\n",
        "porém separando os nomes\n",
        "'''\n",
        "nomes = nomes.split()\n",
        "print(nomes)\n",
        "print(type(nomes))"
      ],
      "metadata": {
        "colab": {
          "base_uri": "https://localhost:8080/"
        },
        "id": "9LmUn_XoA1hU",
        "outputId": "57672d18-411b-490a-e060-c5015557dadb"
      },
      "execution_count": null,
      "outputs": [
        {
          "output_type": "stream",
          "name": "stdout",
          "text": [
            "Informe dois ou mais nomes separados por espaços: Douglas Pedro\n",
            "Douglas Pedro\n",
            "['Douglas', 'Pedro']\n",
            "<class 'list'>\n"
          ]
        }
      ]
    }
  ]
}