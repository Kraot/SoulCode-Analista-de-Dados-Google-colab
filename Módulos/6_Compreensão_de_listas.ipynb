{
  "nbformat": 4,
  "nbformat_minor": 0,
  "metadata": {
    "colab": {
      "provenance": [],
      "include_colab_link": true
    },
    "kernelspec": {
      "name": "python3",
      "display_name": "Python 3"
    },
    "language_info": {
      "name": "python"
    }
  },
  "cells": [
    {
      "cell_type": "markdown",
      "metadata": {
        "id": "view-in-github",
        "colab_type": "text"
      },
      "source": [
        "<a href=\"https://colab.research.google.com/github/Kraot/SoulCode-Analista-de-Dados-Google-colab/blob/main/M%C3%B3dulos/6_Compreens%C3%A3o_de_listas.ipynb\" target=\"_parent\"><img src=\"https://colab.research.google.com/assets/colab-badge.svg\" alt=\"Open In Colab\"/></a>"
      ]
    },
    {
      "cell_type": "markdown",
      "source": [
        "# 6 - Compreensão de listas"
      ],
      "metadata": {
        "id": "SXiyXpM6pMqx"
      }
    },
    {
      "cell_type": "code",
      "source": [
        "'''\n",
        "Exemplo 01: suponha que você tem uma lista com idades em anos e esta lista está\n",
        "desatualizada em exatamente 1 ano, ou seja, para atualizá-la você precisa\n",
        "acrescentar 1 ano em cada idade presente na lista\n",
        "'''\n",
        "idades = [47, 8, 68, 67, 43, 37]\n",
        "\n",
        "'''\n",
        "Método 01 - Usando o for\n",
        "'''\n",
        "novas_idades = []\n",
        "for idade in idades:\n",
        "  novas_idades.append(idade+1)\n",
        "idades = novas_idades\n",
        "print(idades)"
      ],
      "metadata": {
        "colab": {
          "base_uri": "https://localhost:8080/"
        },
        "id": "bOIXwW3apS2V",
        "outputId": "1c9328ab-e960-4585-ae02-8d970fb47665"
      },
      "execution_count": null,
      "outputs": [
        {
          "output_type": "stream",
          "name": "stdout",
          "text": [
            "[48, 9, 69, 68, 44, 38]\n"
          ]
        }
      ]
    },
    {
      "cell_type": "code",
      "source": [
        "idades = [47, 8, 68, 67, 43, 37]\n",
        "for i in range(len(idades)):\n",
        "  idades[i] = idades[i] + 1\n",
        "print(idades)"
      ],
      "metadata": {
        "colab": {
          "base_uri": "https://localhost:8080/"
        },
        "id": "yidRG1vLsFU_",
        "outputId": "55c6a8a2-8a99-4dda-87e8-f0a55d2ad37b"
      },
      "execution_count": null,
      "outputs": [
        {
          "output_type": "stream",
          "name": "stdout",
          "text": [
            "[48, 9, 69, 68, 44, 38]\n"
          ]
        }
      ]
    },
    {
      "cell_type": "code",
      "source": [
        "# Método 2 (usando compreensão de listas)\n",
        "idades = [47, 8, 68, 67, 43, 37]\n",
        "\n",
        "idades = [idade + 1 for idade in idades]\n",
        "print(idades)"
      ],
      "metadata": {
        "colab": {
          "base_uri": "https://localhost:8080/"
        },
        "id": "oX0noyEBqrTk",
        "outputId": "3ffe8f45-a410-466d-cce7-00bbe2a7cb57"
      },
      "execution_count": null,
      "outputs": [
        {
          "output_type": "stream",
          "name": "stdout",
          "text": [
            "[48, 9, 69, 68, 44, 38]\n"
          ]
        }
      ]
    },
    {
      "cell_type": "code",
      "source": [
        "'''\n",
        "Exemplo 02: suponha que você tem duas lista de igual tamanho sendo uma com\n",
        "alturas em metros e a outra com pesos em Kg. Considerando que a posição de cada\n",
        "elemento em uma lista corresponde ao mesmo índice desse elemento na outra lista\n",
        "você deseja criar uma lista com imc para cada elemento.\n",
        "'''\n",
        "alturas = [1.85,1.23,1.75,1.67,1.82,1.73]\n",
        "pesos = [70,22,87,64,96,68]\n"
      ],
      "metadata": {
        "id": "vMnBvmaOtNL-"
      },
      "execution_count": null,
      "outputs": []
    },
    {
      "cell_type": "code",
      "source": [
        "alturas = [1.85,1.23,1.75,1.67,1.82,1.73]\n",
        "pesos = [70,22,87,64,96,68]\n",
        "imc = []\n",
        "for i in range(len(pesos)):\n",
        "  imc.append(round(pesos[i]/alturas[i]**2,2))\n",
        "print(imc)"
      ],
      "metadata": {
        "colab": {
          "base_uri": "https://localhost:8080/"
        },
        "id": "A3UhvB0LtYJn",
        "outputId": "1b18583a-1e78-4203-b74c-c630711ad598"
      },
      "execution_count": null,
      "outputs": [
        {
          "output_type": "stream",
          "name": "stdout",
          "text": [
            "[20.45, 14.54, 28.41, 22.95, 28.98, 22.72]\n"
          ]
        }
      ]
    },
    {
      "cell_type": "code",
      "source": [
        "alturas = [1.85,1.23,1.75,1.67,1.82,1.73]\n",
        "pesos = [70,22,87,64,96,68]\n",
        "imc = []\n",
        "for i,v in enumerate(pesos):\n",
        "  imc.append(round(v/alturas[i]**2,2))\n",
        "print(imc)"
      ],
      "metadata": {
        "colab": {
          "base_uri": "https://localhost:8080/"
        },
        "id": "k0XnmJcCtYfJ",
        "outputId": "c90de1b9-31de-4090-e187-7e6a7a3a7b47"
      },
      "execution_count": null,
      "outputs": [
        {
          "output_type": "stream",
          "name": "stdout",
          "text": [
            "[20.45, 14.54, 28.41, 22.95, 28.98, 22.72]\n"
          ]
        }
      ]
    },
    {
      "cell_type": "code",
      "source": [
        "alturas = [1.85,1.23,1.75,1.67,1.82,1.73]\n",
        "pesos = [70,22,87,64,96,68]\n",
        "imc = [pesos[i]/alturas[i]**2 for i in range(len(pesos))]\n",
        "print(imc)"
      ],
      "metadata": {
        "colab": {
          "base_uri": "https://localhost:8080/"
        },
        "id": "UflzP_Wo1C3h",
        "outputId": "eb131153-039c-4e82-e678-97d40d807146"
      },
      "execution_count": null,
      "outputs": [
        {
          "output_type": "stream",
          "name": "stdout",
          "text": [
            "[20.45288531775018, 14.541608830722454, 28.408163265306122, 22.948115744558788, 28.982007003985025, 22.720438370810918]\n"
          ]
        }
      ]
    },
    {
      "cell_type": "code",
      "source": [
        "'''\n",
        "Imagine que você tem uma lista chamada lista e dentro dela você tem outras duas\n",
        "listas, sendo comidas = ['Arroz', 'Feijão', 'Batata', 'Macarrão'] e a outra\n",
        "bebidas = ['Tubaína', 'Cajuína', 'Dolly', 'Baré']\n",
        "e você deseja guardar no objeto bebida_favorita o texto fatiado Dolly\n",
        "'''\n",
        "\n",
        "lista = [['Arroz','Feijão','Batata','Macarrão'],['Tubaína','Cajuína','Dolly','Baré']]\n",
        "bebida_favorita = lista[1][2]\n",
        "print(bebida_favorita)"
      ],
      "metadata": {
        "colab": {
          "base_uri": "https://localhost:8080/"
        },
        "id": "oI7iQkyjKJGp",
        "outputId": "f37c3f00-65b7-491d-9a95-27e1d983f52e"
      },
      "execution_count": null,
      "outputs": [
        {
          "output_type": "stream",
          "name": "stdout",
          "text": [
            "Dolly\n"
          ]
        }
      ]
    },
    {
      "cell_type": "code",
      "source": [
        "alturas = [1.85,1.23,1.75,1.67,1.82,1.73]\n",
        "pesos = [70,22,87,64,96,68]\n",
        "dados = list(zip(pesos, alturas))\n",
        "print(dados)\n",
        "imc = [i[0]/i[1]**2 for i in dados]\n",
        "print(imc)"
      ],
      "metadata": {
        "colab": {
          "base_uri": "https://localhost:8080/"
        },
        "id": "vAbGUbXQHLjI",
        "outputId": "363b73ab-1088-4782-dc86-5c5e4ba61c67"
      },
      "execution_count": null,
      "outputs": [
        {
          "output_type": "stream",
          "name": "stdout",
          "text": [
            "[(70, 1.85), (22, 1.23), (87, 1.75), (64, 1.67), (96, 1.82), (68, 1.73)]\n",
            "[20.45288531775018, 14.541608830722454, 28.408163265306122, 22.948115744558788, 28.982007003985025, 22.720438370810918]\n"
          ]
        }
      ]
    },
    {
      "cell_type": "code",
      "source": [
        "alturas = [1.85,1.23,1.75,1.67,1.82,1.73]\n",
        "pesos = [70,22,87,64,96,68]\n",
        "imc = [round(peso / altura**2,2) for peso, altura in zip(pesos, alturas)]\n",
        "print(imc)"
      ],
      "metadata": {
        "colab": {
          "base_uri": "https://localhost:8080/"
        },
        "id": "KxZ7qZj1Q5hb",
        "outputId": "fb24bf47-df5a-45af-9d61-49f443242b7b"
      },
      "execution_count": null,
      "outputs": [
        {
          "output_type": "stream",
          "name": "stdout",
          "text": [
            "[20.45, 14.54, 28.41, 22.95, 28.98, 22.72]\n"
          ]
        }
      ]
    }
  ]
}