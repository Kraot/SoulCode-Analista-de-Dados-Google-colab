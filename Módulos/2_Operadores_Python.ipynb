{
  "nbformat": 4,
  "nbformat_minor": 0,
  "metadata": {
    "colab": {
      "provenance": [],
      "include_colab_link": true
    },
    "kernelspec": {
      "name": "python3",
      "display_name": "Python 3"
    },
    "language_info": {
      "name": "python"
    }
  },
  "cells": [
    {
      "cell_type": "markdown",
      "metadata": {
        "id": "view-in-github",
        "colab_type": "text"
      },
      "source": [
        "<a href=\"https://colab.research.google.com/github/Kraot/SoulCode-Analista-de-Dados-Google-colab/blob/main/M%C3%B3dulos/2_Operadores_Python.ipynb\" target=\"_parent\"><img src=\"https://colab.research.google.com/assets/colab-badge.svg\" alt=\"Open In Colab\"/></a>"
      ]
    },
    {
      "cell_type": "markdown",
      "source": [
        "# 2 - Operadores Python"
      ],
      "metadata": {
        "id": "n2h-kR0TzAky"
      }
    },
    {
      "cell_type": "markdown",
      "source": [
        "## 2.1 - Operadores Matemáticos"
      ],
      "metadata": {
        "id": "owbqbLcwzEsE"
      }
    },
    {
      "cell_type": "code",
      "source": [
        "'''\n",
        "Os operadores aritméticos em Python permitem realizar operações matemáticas\n",
        "básicas, como adição, subtração, multiplicação, divisão e exponenciação. São\n",
        "ferramentas essenciais para qualquer programador Python, desde iniciantes até\n",
        "experientes.\n",
        "'''"
      ],
      "metadata": {
        "id": "2XjavkXIzJoc"
      },
      "execution_count": null,
      "outputs": []
    },
    {
      "cell_type": "code",
      "source": [
        "# Soma (+)\n",
        "soma = 5 + 2\n",
        "print(soma)"
      ],
      "metadata": {
        "colab": {
          "base_uri": "https://localhost:8080/"
        },
        "id": "Ci4e2lRyzTSh",
        "outputId": "c2712f0a-b4cb-4a2d-d42a-1a280ccb7799"
      },
      "execution_count": null,
      "outputs": [
        {
          "output_type": "stream",
          "name": "stdout",
          "text": [
            "7\n"
          ]
        }
      ]
    },
    {
      "cell_type": "code",
      "source": [
        "# Subtração (-)\n",
        "menos = 5 - 2\n",
        "print(menos)"
      ],
      "metadata": {
        "colab": {
          "base_uri": "https://localhost:8080/"
        },
        "id": "8kbpYX7u0F2B",
        "outputId": "93ef91f7-4faa-4412-ad92-9193a2e5de42"
      },
      "execution_count": null,
      "outputs": [
        {
          "output_type": "stream",
          "name": "stdout",
          "text": [
            "3\n"
          ]
        }
      ]
    },
    {
      "cell_type": "code",
      "source": [
        "# Multiplicação (*)\n",
        "vezes = 5 * 2\n",
        "print(vezes)"
      ],
      "metadata": {
        "colab": {
          "base_uri": "https://localhost:8080/"
        },
        "id": "vrlA42V60PYx",
        "outputId": "c69c3843-9e81-455a-8f9c-82715f2cb76f"
      },
      "execution_count": null,
      "outputs": [
        {
          "output_type": "stream",
          "name": "stdout",
          "text": [
            "10\n"
          ]
        }
      ]
    },
    {
      "cell_type": "code",
      "source": [
        "# Divisão (/)\n",
        "dividir = 5 / 2\n",
        "print(dividir)"
      ],
      "metadata": {
        "colab": {
          "base_uri": "https://localhost:8080/"
        },
        "id": "0khcyddJ1_ld",
        "outputId": "188d9486-0da7-4772-fff0-7b15b3c0bd10"
      },
      "execution_count": null,
      "outputs": [
        {
          "output_type": "stream",
          "name": "stdout",
          "text": [
            "2.5\n"
          ]
        }
      ]
    },
    {
      "cell_type": "code",
      "source": [
        "# Parte Inteira da divisão (//)\n",
        "inteiro = 5 // 2\n",
        "print(inteiro)"
      ],
      "metadata": {
        "colab": {
          "base_uri": "https://localhost:8080/"
        },
        "id": "1jYy3XxC2Kl-",
        "outputId": "3f471e59-aaf1-4fc3-b3cf-5f91ee3b42cb"
      },
      "execution_count": null,
      "outputs": [
        {
          "output_type": "stream",
          "name": "stdout",
          "text": [
            "2\n"
          ]
        }
      ]
    },
    {
      "cell_type": "code",
      "source": [
        "# Resto da divisão (%)\n",
        "resto = 5 % 2\n",
        "print(resto)"
      ],
      "metadata": {
        "colab": {
          "base_uri": "https://localhost:8080/"
        },
        "id": "Gwj6h1lQ2Yu7",
        "outputId": "00100339-216a-46d0-da52-02dea0a03dfd"
      },
      "execution_count": null,
      "outputs": [
        {
          "output_type": "stream",
          "name": "stdout",
          "text": [
            "1\n"
          ]
        }
      ]
    },
    {
      "cell_type": "code",
      "source": [
        "# Exponenciação (**)\n",
        "elevado = 5 ** 2\n",
        "print(elevado)"
      ],
      "metadata": {
        "colab": {
          "base_uri": "https://localhost:8080/"
        },
        "id": "R7nz0ZIz2oSd",
        "outputId": "48f80c44-1e0b-4f7d-959d-d3042ec02ccc"
      },
      "execution_count": null,
      "outputs": [
        {
          "output_type": "stream",
          "name": "stdout",
          "text": [
            "25\n"
          ]
        }
      ]
    },
    {
      "cell_type": "markdown",
      "source": [
        "## 2.2 - Operadores de Comparação"
      ],
      "metadata": {
        "id": "OZYLxvaL6QMq"
      }
    },
    {
      "cell_type": "code",
      "source": [
        "'''\n",
        "Os operadores de comparação em Python permitem verificar se duas expressões são\n",
        "iguais, diferentes, maiores, menores, etc. São ferramentas essenciais para tomar\n",
        "decisões e realizar comparações em seus programas. Retornam com resultado\n",
        "verdadeiro (True) ou Falso (False) (tipo bool)\n",
        "'''"
      ],
      "metadata": {
        "id": "6AvFjdmS6aJt"
      },
      "execution_count": null,
      "outputs": []
    },
    {
      "cell_type": "code",
      "source": [
        "# Operador de Igualdade (==)\n",
        "igualdade = 3 == 4\n",
        "print(igualdade)"
      ],
      "metadata": {
        "colab": {
          "base_uri": "https://localhost:8080/"
        },
        "id": "hwyeD6YW6rjS",
        "outputId": "949595ec-cc32-4790-fb2e-de6d8c398fb6"
      },
      "execution_count": null,
      "outputs": [
        {
          "output_type": "stream",
          "name": "stdout",
          "text": [
            "False\n"
          ]
        }
      ]
    },
    {
      "cell_type": "code",
      "source": [
        "# Operador de Diferença (!=)\n",
        "diferente = 3 != 4\n",
        "print(diferente)"
      ],
      "metadata": {
        "colab": {
          "base_uri": "https://localhost:8080/"
        },
        "id": "M43inBmu7SBP",
        "outputId": "b77a42bb-c6be-498e-9646-c4a23b914bf9"
      },
      "execution_count": null,
      "outputs": [
        {
          "output_type": "stream",
          "name": "stdout",
          "text": [
            "True\n"
          ]
        }
      ]
    },
    {
      "cell_type": "code",
      "source": [
        "# Operador maior que (>)\n",
        "maior = 3 > 4\n",
        "print(maior)"
      ],
      "metadata": {
        "colab": {
          "base_uri": "https://localhost:8080/"
        },
        "id": "BLc1w4Bu72Pc",
        "outputId": "2e637340-daa3-43e0-ec4b-c4a086b67147"
      },
      "execution_count": null,
      "outputs": [
        {
          "output_type": "stream",
          "name": "stdout",
          "text": [
            "False\n"
          ]
        }
      ]
    },
    {
      "cell_type": "code",
      "source": [
        "# Operador menor que (<)\n",
        "menor = 3 < 4\n",
        "print(menor)"
      ],
      "metadata": {
        "colab": {
          "base_uri": "https://localhost:8080/"
        },
        "id": "LEAWxSOA8Jg3",
        "outputId": "2c1a2c8a-bdeb-4290-cbd6-652bfd677950"
      },
      "execution_count": null,
      "outputs": [
        {
          "output_type": "stream",
          "name": "stdout",
          "text": [
            "True\n"
          ]
        }
      ]
    },
    {
      "cell_type": "code",
      "source": [
        "# Operador maior ou igual a (>=)\n",
        "maior_igual = 3 >= 4\n",
        "print(maior_igual)"
      ],
      "metadata": {
        "colab": {
          "base_uri": "https://localhost:8080/"
        },
        "id": "J-0OjBrf8Xit",
        "outputId": "ff29b567-1900-42e7-c857-9d120bdb18db"
      },
      "execution_count": null,
      "outputs": [
        {
          "output_type": "stream",
          "name": "stdout",
          "text": [
            "False\n"
          ]
        }
      ]
    },
    {
      "cell_type": "code",
      "source": [
        "# Operador menor ou igual a (<=)\n",
        "menor_igual = 3 <= 4\n",
        "print(menor_igual)"
      ],
      "metadata": {
        "colab": {
          "base_uri": "https://localhost:8080/"
        },
        "id": "iCQtQldc9Lv4",
        "outputId": "913cd461-04f8-453f-db35-952263baaa67"
      },
      "execution_count": null,
      "outputs": [
        {
          "output_type": "stream",
          "name": "stdout",
          "text": [
            "True\n"
          ]
        }
      ]
    },
    {
      "cell_type": "code",
      "source": [
        "# Operador de identidade (is)\n",
        "a = 7\n",
        "b = 7.0\n",
        "print(a is b)\n",
        "print(a == b)"
      ],
      "metadata": {
        "colab": {
          "base_uri": "https://localhost:8080/"
        },
        "id": "E0pZkpnk-B-M",
        "outputId": "8df2fee9-302d-4f66-a429-b2391a03f128"
      },
      "execution_count": null,
      "outputs": [
        {
          "output_type": "stream",
          "name": "stdout",
          "text": [
            "False\n",
            "True\n"
          ]
        }
      ]
    },
    {
      "cell_type": "code",
      "source": [
        "# Operador de identidade (is not)\n",
        "a = 7\n",
        "b = 7.0\n",
        "print(a is not b)\n",
        "print(a != b)"
      ],
      "metadata": {
        "id": "wnDpQpiS-FeU"
      },
      "execution_count": null,
      "outputs": []
    },
    {
      "cell_type": "markdown",
      "source": [
        "## 2.3 Operadores de Associação"
      ],
      "metadata": {
        "id": "fJeh5qfd_5QS"
      }
    },
    {
      "cell_type": "code",
      "source": [
        "'''\n",
        "Os operadores de associação in e not in em Python permitem verificar se um\n",
        "elemento está presente ou não em uma coleção, como listas, tuplas, dicionários e\n",
        "strings. São ferramentas úteis para filtrar dados e realizar comparações em seus\n",
        "programas. Assim como os aoperadores de comparação eles retornam\n",
        "Verdadeiro (True) ou Falso (False)\n",
        "'''"
      ],
      "metadata": {
        "id": "wfWdqtjx__re"
      },
      "execution_count": null,
      "outputs": []
    },
    {
      "cell_type": "code",
      "source": [
        "# Operador in\n",
        "nome = 'Douglas'\n",
        "print('D' in nome)"
      ],
      "metadata": {
        "colab": {
          "base_uri": "https://localhost:8080/"
        },
        "id": "jkj9EzDuABm-",
        "outputId": "8886fea4-11a0-4325-a3f0-f16c871e5410"
      },
      "execution_count": null,
      "outputs": [
        {
          "output_type": "stream",
          "name": "stdout",
          "text": [
            "True\n"
          ]
        }
      ]
    },
    {
      "cell_type": "code",
      "source": [
        "# Operador not in\n",
        "nome = 'Douglas'\n",
        "print('D' not in nome)"
      ],
      "metadata": {
        "colab": {
          "base_uri": "https://localhost:8080/"
        },
        "id": "7tE402U8AC-7",
        "outputId": "f4a8f1de-9204-49a1-dcc4-e19c33b02c82"
      },
      "execution_count": null,
      "outputs": [
        {
          "output_type": "stream",
          "name": "stdout",
          "text": [
            "False\n"
          ]
        }
      ]
    },
    {
      "cell_type": "markdown",
      "source": [
        "## 2.4 - Operadores Lógicos (AND, OR e NOT)"
      ],
      "metadata": {
        "id": "pd11WFzrF1_k"
      }
    },
    {
      "cell_type": "code",
      "source": [
        "'''\n",
        "Os operadores lógicos em Python permitem combinar expressões booleanas\n",
        "(True ou False) para formar novas expressões booleanas. São ferramentas\n",
        "essenciais para tomar decisões e realizar comparações complexas em seus\n",
        "programas. São eles:\n",
        "\n",
        "E (and): Retorna True se ambas as expressões forem True.\n",
        "Exemplo: x > 0 and y < 10.\n",
        "\n",
        "Ou (or): Retorna True se pelo menos uma das expressões for True.\n",
        "Exemplo: x == 0 or y == 10.\n",
        "\n",
        "Não (not): Inverte o valor da expressão.\n",
        "Exemplo: not (x > 0).\n",
        "'''"
      ],
      "metadata": {
        "id": "waZeftCUF017"
      },
      "execution_count": null,
      "outputs": []
    },
    {
      "cell_type": "code",
      "source": [
        "# Operador AND retorna verdadeiro se todas as condições forem verdadeiras\n",
        "a = 3\n",
        "b = 4\n",
        "c = 5\n",
        "print(a < b and b < c)\n",
        "print(a < b and b > c)"
      ],
      "metadata": {
        "colab": {
          "base_uri": "https://localhost:8080/"
        },
        "id": "-gq8GSXVGPtW",
        "outputId": "0d1855b1-e457-48aa-9b4f-bd17838321f5"
      },
      "execution_count": null,
      "outputs": [
        {
          "output_type": "stream",
          "name": "stdout",
          "text": [
            "True\n",
            "False\n"
          ]
        }
      ]
    },
    {
      "cell_type": "code",
      "source": [
        "# Operador OR retorna verdadeiro se pelo menos uma das condições for verdadeira\n",
        "a = 3\n",
        "b = 4\n",
        "c = 5\n",
        "print(a < b or b < c) # verdadeiro\n",
        "print(a < b or b > c) # verdadiro\n",
        "print(a > b or a > c) # Falso"
      ],
      "metadata": {
        "colab": {
          "base_uri": "https://localhost:8080/"
        },
        "id": "g-e8fLwWJipr",
        "outputId": "09a1a856-3dfd-4a13-f993-09d5b9f03e9a"
      },
      "execution_count": null,
      "outputs": [
        {
          "output_type": "stream",
          "name": "stdout",
          "text": [
            "True\n",
            "True\n",
            "False\n"
          ]
        }
      ]
    },
    {
      "cell_type": "code",
      "source": [
        "# Operador not (inverte o resulta de verdadeiro para falso e de falso para verdadeiro)\n",
        "a = 3\n",
        "b = 4\n",
        "c = 5\n",
        "print(not(a > b))\n",
        "print(not(a < b))"
      ],
      "metadata": {
        "colab": {
          "base_uri": "https://localhost:8080/"
        },
        "id": "gwT5moD-KLO2",
        "outputId": "2728a94e-9fa2-4d47-ab32-73185a834eae"
      },
      "execution_count": null,
      "outputs": [
        {
          "output_type": "stream",
          "name": "stdout",
          "text": [
            "True\n",
            "False\n"
          ]
        }
      ]
    }
  ]
}