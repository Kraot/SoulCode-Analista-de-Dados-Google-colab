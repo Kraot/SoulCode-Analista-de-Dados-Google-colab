{
  "nbformat": 4,
  "nbformat_minor": 0,
  "metadata": {
    "colab": {
      "provenance": [],
      "authorship_tag": "ABX9TyPCHyk2UeMY6lrGrrKjuEFb",
      "include_colab_link": true
    },
    "kernelspec": {
      "name": "python3",
      "display_name": "Python 3"
    },
    "language_info": {
      "name": "python"
    }
  },
  "cells": [
    {
      "cell_type": "markdown",
      "metadata": {
        "id": "view-in-github",
        "colab_type": "text"
      },
      "source": [
        "<a href=\"https://colab.research.google.com/github/Kraot/SoulCode-Analista-de-Dados-Google-colab/blob/main/Exercicios/Atividade_08_21_03_2024.ipynb\" target=\"_parent\"><img src=\"https://colab.research.google.com/assets/colab-badge.svg\" alt=\"Open In Colab\"/></a>"
      ]
    },
    {
      "cell_type": "markdown",
      "source": [
        "# Crie um programa em Python que converta a temperatura de Celsius para Fahrenheit ou de Fahrenheit para Celsius, dependendo da escolha do usuário.🐤\n",
        "\n",
        "Requisitos:\n",
        "O programa deve perguntar ao usuário qual tipo de conversão ele deseja realizar: de\n",
        "Celsius para Fahrenheit ou de Fahrenheit para Celsius.\n",
        "Após a escolha, o programa deve solicitar ao usuário que insira a temperatura a ser\n",
        "convertida. Para converter de Celsius para Fahrenheit, utilize a fórmula: Fahrenheit =\n",
        "(Celsius × 9/5) + 32. Para converter de Fahrenheit para Celsius, utilize a fórmula:\n",
        "Celsius = (Fahrenheit - 32) × 5/9. O resultado da conversão deve ser exibido na tela\n",
        "com uma mensagem apropriada."
      ],
      "metadata": {
        "id": "G9fZhfJ1u-fh"
      }
    },
    {
      "cell_type": "markdown",
      "source": [],
      "metadata": {
        "id": "U-OkcY-ivZ_A"
      }
    },
    {
      "cell_type": "code",
      "source": [
        "#modelo 1\n",
        "\n",
        "print('Selecione a opção:')\n",
        "print('1. Celsius para Fahrenheit')\n",
        "print('2. Fahrenheit para Celsius')\n",
        "\n",
        "while True:\n",
        "  try: # aqui fiz um while para que o usuario seja obrigado a apenas escolher 1 ou 2\n",
        "    CF = int(input('Digite sua escolha (1 ou 2): '))\n",
        "    if CF == 1 or CF == 2:\n",
        "      break\n",
        "    else:\n",
        "      print('valor inválido escolha (1 ou 2)')\n",
        "  except:\n",
        "    print('valor inválido escolha (1 ou 2)')\n",
        "while True:\n",
        "  try:# aqui fiz um while pra caso o usuario escreva algo em string   informe que valor e invalido e repita até digitar o valor  correto\n",
        "    T = float(input('Qual é a Temperatura: '))\n",
        "    break\n",
        "  except:\n",
        "    print('valor inválido')\n",
        "\n",
        "#aqui fiz as condições para os calculos para converter a temperatura de Celsius para Fahrenheit ou de Fahrenheit para Celsius.\n",
        "if CF == 1:\n",
        "  calcF = (T * 9/5) + 32\n",
        "  print(f'A temperatura {int(T)}°C  equivalem a {int(calcF)}°F')\n",
        "else:\n",
        "  calcC = (T -32 ) * 5/9\n",
        "  print(f'A temperatura {int(T)}°F  equivalem a {int(calcC)}°C')\n",
        "\n",
        "\n"
      ],
      "metadata": {
        "colab": {
          "base_uri": "https://localhost:8080/"
        },
        "id": "2h3c_8EHOtbM",
        "outputId": "58379e17-e385-4190-b686-604132a70eda"
      },
      "execution_count": null,
      "outputs": [
        {
          "output_type": "stream",
          "name": "stdout",
          "text": [
            "Selecione a opção:\n",
            "1. Celsius para Fahrenheit\n",
            "2. Fahrenheit para Celsius\n",
            "Digite sua escolha (1 ou 2): pudim\n",
            "valor inválido escolha (1 ou 2)\n",
            "Digite sua escolha (1 ou 2): 5\n",
            "valor inválido escolha (1 ou 2)\n",
            "Digite sua escolha (1 ou 2): 1\n",
            "Qual é a Temperatura: 30\n",
            "A temperatura 30°C  equivalem a 86°F\n"
          ]
        }
      ]
    },
    {
      "cell_type": "code",
      "execution_count": null,
      "metadata": {
        "id": "gOYKa_w1KwdL"
      },
      "outputs": [],
      "source": [
        "#modelo 2 a difença desse pra o modelo 1 e que o um não da erro caso  seja digitado string em temperatura\n",
        "\n",
        "print('Selecione a opção:')\n",
        "print('1. Celsius para Fahrenheit')\n",
        "print('2. Fahrenheit para Celsius')\n",
        "\n",
        "escolha = input('Digite sua escolha (1 ou 2): ')\n",
        "\n",
        "if escolha == '1':\n",
        "    c = float(input(\"Digite a temperatura em Celsius: \"))\n",
        "    calcF = (c * 9/5) + 32\n",
        "    print(f'A temperatura {int(c)}°C  equivalem a {int(calcF)}°F')\n",
        "elif escolha == '2':\n",
        "    f = float(input(\"Digite a temperatura em Fahrenheit: \"))\n",
        "    calcC = (f - 32) * 5/9\n",
        "    print(f'A temperatura {int(f)}°F  equivalem a {int(calcC)}°C')\n",
        "else:\n",
        "    print('Escolha inválida. Por favor, selecione 1 ou 2.')"
      ]
    }
  ]
}