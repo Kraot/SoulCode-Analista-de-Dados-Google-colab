{
  "nbformat": 4,
  "nbformat_minor": 0,
  "metadata": {
    "colab": {
      "provenance": [],
      "authorship_tag": "ABX9TyMCRO1uNa0RSOQvFVWufWbp",
      "include_colab_link": true
    },
    "kernelspec": {
      "name": "python3",
      "display_name": "Python 3"
    },
    "language_info": {
      "name": "python"
    }
  },
  "cells": [
    {
      "cell_type": "markdown",
      "metadata": {
        "id": "view-in-github",
        "colab_type": "text"
      },
      "source": [
        "<a href=\"https://colab.research.google.com/github/Kraot/SoulCode-Analista-de-Dados-Google-colab/blob/main/Exercicios/Atividade_07_21_03_2024_Question%C3%A1rio.ipynb\" target=\"_parent\"><img src=\"https://colab.research.google.com/assets/colab-badge.svg\" alt=\"Open In Colab\"/></a>"
      ]
    },
    {
      "cell_type": "markdown",
      "source": [
        "# Qual será a saída do trecho de código a seguir?\n"
      ],
      "metadata": {
        "id": "tw5mBUuO6QAm"
      }
    },
    {
      "cell_type": "code",
      "execution_count": 17,
      "metadata": {
        "colab": {
          "base_uri": "https://localhost:8080/"
        },
        "id": "h111nPJM5XT_",
        "outputId": "4a285d5f-c051-4e10-a16f-aadcca97128f"
      },
      "outputs": [
        {
          "output_type": "stream",
          "name": "stdout",
          "text": [
            "[3, 2, 1]\n"
          ]
        }
      ],
      "source": [
        "'''\n",
        "my_list_1 = [1, 2, 3]\n",
        "my_list_2 = []\n",
        "for v in my_list_1:\n",
        "    my_list_2.insert(0, v)\n",
        "print(my_list_2)\n",
        "\n",
        "'''\n",
        "my_list_1 = [1, 2, 3]\n",
        "my_list_2 = []\n",
        "for v in my_list_1:\n",
        "    my_list_2.insert(0,v)\n",
        "print(my_list_2)\n",
        ""
      ]
    },
    {
      "cell_type": "markdown",
      "source": [
        "# Qual será a saída do trecho de código a seguir?\n"
      ],
      "metadata": {
        "id": "b-IJ_3Yo7RC9"
      }
    },
    {
      "cell_type": "code",
      "source": [
        "'''\n",
        "x = 1\n",
        "x = x == x\n",
        "print(x)\n",
        "\n",
        "'''\n",
        "x = 1\n",
        "x = x == x\n",
        "print(x)"
      ],
      "metadata": {
        "colab": {
          "base_uri": "https://localhost:8080/"
        },
        "id": "GcMHjAGA6VjF",
        "outputId": "d041dd5a-6213-47d6-8c8c-2d77046808bc"
      },
      "execution_count": 4,
      "outputs": [
        {
          "output_type": "stream",
          "name": "stdout",
          "text": [
            "True\n"
          ]
        }
      ]
    },
    {
      "cell_type": "markdown",
      "source": [
        "## Quantos hashes (#) o snippet a seguir enviará para o console?"
      ],
      "metadata": {
        "id": "oB65uUFO-vV7"
      }
    },
    {
      "cell_type": "code",
      "source": [
        "'''\n",
        "for i in range(1):\n",
        "    print(\"#\")\n",
        "else:\n",
        "    print(\"#\")\n",
        "'''\n",
        "for i in range(1):\n",
        "    print(\"#\")\n",
        "else:\n",
        "    print(\"#\")"
      ],
      "metadata": {
        "colab": {
          "base_uri": "https://localhost:8080/"
        },
        "id": "h8kp0i0g-1ha",
        "outputId": "a47763a6-0abe-4998-9a83-6a817bbd6dd7"
      },
      "execution_count": 12,
      "outputs": [
        {
          "output_type": "stream",
          "name": "stdout",
          "text": [
            "#\n",
            "#\n"
          ]
        }
      ]
    },
    {
      "cell_type": "markdown",
      "source": [
        "# Quantos asteriscos (*) serão mandadas ao console pelo seguinte trecho de código?"
      ],
      "metadata": {
        "id": "tIno7GrrAN3S"
      }
    },
    {
      "cell_type": "code",
      "source": [
        "'''\n",
        "i = 0\n",
        "while i <= 3 :\n",
        "    i += 2\n",
        "    print(\"*\")\n",
        "'''\n",
        "i = 0\n",
        "while i <= 3 :\n",
        "    i += 2\n",
        "    print(\"*\")\n"
      ],
      "metadata": {
        "colab": {
          "base_uri": "https://localhost:8080/"
        },
        "id": "rFqFJLNmAU4i",
        "outputId": "a688dd08-3f45-485a-c9f3-3babef050952"
      },
      "execution_count": 21,
      "outputs": [
        {
          "output_type": "stream",
          "name": "stdout",
          "text": [
            "*\n",
            "*\n"
          ]
        }
      ]
    },
    {
      "cell_type": "markdown",
      "source": [
        "# Qual será a saída do trecho de código a seguir?"
      ],
      "metadata": {
        "id": "ftzoyY8GDnPB"
      }
    },
    {
      "cell_type": "code",
      "source": [
        "'''\n",
        "my_list = [1, 2, 3]\n",
        "for v in range(len(my_list)):\n",
        "    my_list.insert(1, my_list[v])\n",
        "print(my_list)\n",
        "'''\n",
        "my_list = [1, 2 , 3]\n",
        "for v in range(len(my_list)):\n",
        "    my_list.insert(1, my_list[v])\n",
        "print(my_list)"
      ],
      "metadata": {
        "colab": {
          "base_uri": "https://localhost:8080/"
        },
        "id": "Sr3cD3SsDpwq",
        "outputId": "dd522000-44a9-46e1-dc96-99cc41b42eae"
      },
      "execution_count": 35,
      "outputs": [
        {
          "output_type": "stream",
          "name": "stdout",
          "text": [
            "[1, 1, 1, 1, 2, 3]\n"
          ]
        }
      ]
    },
    {
      "cell_type": "markdown",
      "source": [
        "# Qual será a saída do trecho de código a seguir?"
      ],
      "metadata": {
        "id": "nWAA7sq3FX3B"
      }
    },
    {
      "cell_type": "code",
      "source": [
        "'''\n",
        "z = 10\n",
        "y = 0\n",
        "x = y < z and z > y or y > z and z < y\n",
        "'''\n",
        "z = 10\n",
        "y = 0\n",
        "x = y < z and z > y or y > z and z < y\n",
        "print(x)"
      ],
      "metadata": {
        "colab": {
          "base_uri": "https://localhost:8080/"
        },
        "id": "FIMZdrz2FcJ1",
        "outputId": "3ad708d1-938e-4b0c-cd03-7a0af544e30d"
      },
      "execution_count": 25,
      "outputs": [
        {
          "output_type": "stream",
          "name": "stdout",
          "text": [
            "True\n"
          ]
        }
      ]
    },
    {
      "cell_type": "markdown",
      "source": [
        "# Quantos hashes (#) o snippet a seguir enviará para o console?"
      ],
      "metadata": {
        "id": "GAqd9JO3F2Wo"
      }
    },
    {
      "cell_type": "code",
      "source": [
        "'''\n",
        "var = 0\n",
        "while var < 6:\n",
        "    var += 1\n",
        "    if var % 2 == 0:\n",
        "        continue\n",
        "    print(\"#\")\n",
        "'''\n",
        "var = 0\n",
        "while var < 6:\n",
        "    var += 1\n",
        "    if var % 2 == 0:\n",
        "        continue\n",
        "    print(\"#\")"
      ],
      "metadata": {
        "colab": {
          "base_uri": "https://localhost:8080/"
        },
        "id": "adjxrsENF35o",
        "outputId": "c2e59c34-208e-4e54-a964-b01e11f46463"
      },
      "execution_count": 26,
      "outputs": [
        {
          "output_type": "stream",
          "name": "stdout",
          "text": [
            "#\n",
            "#\n",
            "#\n"
          ]
        }
      ]
    },
    {
      "cell_type": "markdown",
      "source": [
        "# Quantos  asteriscos (*) serão impressos pelo seguinte trecho de código?"
      ],
      "metadata": {
        "id": "agCS0TDkHTQ4"
      }
    },
    {
      "cell_type": "code",
      "source": [
        "'''\n",
        "i = 0\n",
        "while i <= 5 :\n",
        "    i += 1\n",
        "    if i % 2 == 0:\n",
        "      break\n",
        "    print(\"*\")\n",
        "'''\n",
        "i = 0\n",
        "while i <= 5 :\n",
        "    i += 1\n",
        "    if i % 2 == 0:\n",
        "      break\n",
        "    print(\"*\")"
      ],
      "metadata": {
        "colab": {
          "base_uri": "https://localhost:8080/"
        },
        "id": "QCxPU8auHUjA",
        "outputId": "e433dbc3-03c8-490f-a397-ae08e57c175f"
      },
      "execution_count": 27,
      "outputs": [
        {
          "output_type": "stream",
          "name": "stdout",
          "text": [
            "*\n"
          ]
        }
      ]
    },
    {
      "cell_type": "markdown",
      "source": [
        "# Após a execução do seguinte código, a soma de todos os elementos de vals será igual a:"
      ],
      "metadata": {
        "id": "k1cJO2dqHoFn"
      }
    },
    {
      "cell_type": "code",
      "source": [
        "'''\n",
        "vals = [0, 1, 2]\n",
        "vals.insert(0, 1)\n",
        "del vals[1]\n",
        "'''\n",
        "vals = [0, 1, 2]\n",
        "vals.insert(0, 1)\n",
        "print(f'imressão depois do comando vals.insert(0, 1): {vals}')\n",
        "print('---------------------------------------------------')\n",
        "del vals[1]\n",
        "\n",
        "print(f'impressão depois do comando del vals[1]: {vals}')\n",
        "print('----------------------------------------------------')\n",
        "print(f'soma dos valores que ficaram em vals: {sum(vals)} ')\n"
      ],
      "metadata": {
        "colab": {
          "base_uri": "https://localhost:8080/"
        },
        "id": "e1iD4ZRmHqN3",
        "outputId": "8f5f9fca-0608-4a6c-9ae9-bc902fc9783b"
      },
      "execution_count": 32,
      "outputs": [
        {
          "output_type": "stream",
          "name": "stdout",
          "text": [
            "imressão depois do comando vals.insert(0, 1): [1, 0, 1, 2]\n",
            "---------------------------------------------------\n",
            "impressão depois do comando del vals[1]: [1, 1, 2]\n",
            "----------------------------------------------------\n",
            "soma dos valores que ficaram em vals: 4 \n"
          ]
        }
      ]
    }
  ]
}