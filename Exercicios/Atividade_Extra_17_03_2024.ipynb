{
  "nbformat": 4,
  "nbformat_minor": 0,
  "metadata": {
    "colab": {
      "provenance": [],
      "authorship_tag": "ABX9TyMIIRtky/B0jbQYWC0YQ66S",
      "include_colab_link": true
    },
    "kernelspec": {
      "name": "python3",
      "display_name": "Python 3"
    },
    "language_info": {
      "name": "python"
    }
  },
  "cells": [
    {
      "cell_type": "markdown",
      "metadata": {
        "id": "view-in-github",
        "colab_type": "text"
      },
      "source": [
        "<a href=\"https://colab.research.google.com/github/Kraot/SoulCode-Analista-de-Dados-Google-colab/blob/main/Exercicios/Atividade_Extra_17_03_2024.ipynb\" target=\"_parent\"><img src=\"https://colab.research.google.com/assets/colab-badge.svg\" alt=\"Open In Colab\"/></a>"
      ]
    },
    {
      "cell_type": "code",
      "execution_count": null,
      "metadata": {
        "colab": {
          "base_uri": "https://localhost:8080/"
        },
        "id": "mwBMOYe7YBpx",
        "outputId": "0cec1b18-f67f-4cae-db9f-d9b703d53211"
      },
      "outputs": [
        {
          "output_type": "stream",
          "name": "stdout",
          "text": [
            "False\n",
            "True\n"
          ]
        }
      ],
      "source": [
        "'''\n",
        "1- Qual é a saída do trecho de código a seguir?\n",
        "\n",
        "'''\n",
        "x = 5\n",
        "y = 10\n",
        "z = 8\n",
        "print(x > y)\n",
        "print(y > z)"
      ]
    },
    {
      "cell_type": "code",
      "source": [
        "'''\n",
        "2- Qual é a saída do trecho de código a seguir?\n",
        "\n",
        "'''\n",
        "x = 1\n",
        "y = 1.0\n",
        "z = '1'\n",
        "\n",
        "if x == y:\n",
        "    print('Um')\n",
        "if y == int(z):\n",
        "    print('Dois')\n",
        "elif x == y:\n",
        "    print('Três')\n",
        "else:\n",
        "    print('Quatro')\n",
        "\n"
      ],
      "metadata": {
        "colab": {
          "base_uri": "https://localhost:8080/"
        },
        "id": "z4Zq6CIOYfTE",
        "outputId": "b3aba993-7f86-4e80-9181-8175461f9d21"
      },
      "execution_count": null,
      "outputs": [
        {
          "output_type": "stream",
          "name": "stdout",
          "text": [
            "Um\n",
            "Dois\n"
          ]
        }
      ]
    },
    {
      "cell_type": "code",
      "source": [
        "'''\n",
        "3- Qual é a saída do trecho de código a seguir?\n",
        "\n",
        "'''\n",
        "lst = [1, 2, 3, 4, 5]\n",
        "lst.insert(1, 6)\n",
        "del lst[0]\n",
        "lst.append(1)\n",
        "\n",
        "print(lst)"
      ],
      "metadata": {
        "colab": {
          "base_uri": "https://localhost:8080/"
        },
        "id": "CMXoAJZJYfFb",
        "outputId": "4bbb5f64-2627-4c1d-84ed-55a82faff7c6"
      },
      "execution_count": null,
      "outputs": [
        {
          "output_type": "stream",
          "name": "stdout",
          "text": [
            "[6, 2, 3, 4, 5, 1]\n"
          ]
        }
      ]
    },
    {
      "cell_type": "code",
      "source": [
        "'''\n",
        "4- Qual é a saída do trecho de código a seguir?\n",
        "\n",
        "'''\n",
        "lst = []\n",
        "del lst\n",
        "print(lst)"
      ],
      "metadata": {
        "colab": {
          "base_uri": "https://localhost:8080/",
          "height": 176
        },
        "id": "wTdkLFCzYevj",
        "outputId": "cdaa598a-8905-4f16-d9bb-0f5204d3e363"
      },
      "execution_count": null,
      "outputs": [
        {
          "output_type": "error",
          "ename": "NameError",
          "evalue": "name 'lst' is not defined",
          "traceback": [
            "\u001b[0;31m---------------------------------------------------------------------------\u001b[0m",
            "\u001b[0;31mNameError\u001b[0m                                 Traceback (most recent call last)",
            "\u001b[0;32m<ipython-input-11-e8103f541d77>\u001b[0m in \u001b[0;36m<cell line: 7>\u001b[0;34m()\u001b[0m\n\u001b[1;32m      5\u001b[0m \u001b[0mlst\u001b[0m \u001b[0;34m=\u001b[0m \u001b[0;34m[\u001b[0m\u001b[0;34m]\u001b[0m\u001b[0;34m\u001b[0m\u001b[0;34m\u001b[0m\u001b[0m\n\u001b[1;32m      6\u001b[0m \u001b[0;32mdel\u001b[0m \u001b[0mlst\u001b[0m\u001b[0;34m\u001b[0m\u001b[0;34m\u001b[0m\u001b[0m\n\u001b[0;32m----> 7\u001b[0;31m \u001b[0mprint\u001b[0m\u001b[0;34m(\u001b[0m\u001b[0mlst\u001b[0m\u001b[0;34m)\u001b[0m\u001b[0;34m\u001b[0m\u001b[0;34m\u001b[0m\u001b[0m\n\u001b[0m",
            "\u001b[0;31mNameError\u001b[0m: name 'lst' is not defined"
          ]
        }
      ]
    },
    {
      "cell_type": "code",
      "source": [
        "'''\n",
        "5- Qual é a saída do trecho de código a seguir?\n",
        "\n",
        "'''\n",
        "lst = [1, [2, 3], 4]\n",
        "print(lst[1])\n",
        "print(len(lst))"
      ],
      "metadata": {
        "colab": {
          "base_uri": "https://localhost:8080/"
        },
        "id": "0WgTWe1dbu7p",
        "outputId": "e7fda930-7d77-4876-ddbf-14b6ed9aa368"
      },
      "execution_count": null,
      "outputs": [
        {
          "output_type": "stream",
          "name": "stdout",
          "text": [
            "[2, 3]\n",
            "3\n"
          ]
        }
      ]
    },
    {
      "cell_type": "code",
      "source": [
        "'''\n",
        "6- Qual é a saída do trecho de código a seguir?\n",
        "\n",
        "'''\n",
        "list_1 = ['A','B','C']\n",
        "list_2 = list_1\n",
        "list_3 = list_2\n",
        "\n",
        "del list_1[0]\n",
        "del list_2[0]\n",
        "\n",
        "print(list_3)"
      ],
      "metadata": {
        "colab": {
          "base_uri": "https://localhost:8080/"
        },
        "id": "H_m9mmPhcSMZ",
        "outputId": "9ab9bab8-d993-45d3-f8d5-ff6ccb17b782"
      },
      "execution_count": null,
      "outputs": [
        {
          "output_type": "stream",
          "name": "stdout",
          "text": [
            "['C']\n"
          ]
        }
      ]
    },
    {
      "cell_type": "code",
      "source": [
        "'''\n",
        "7- Qual é a saída do trecho de código a seguir?\n",
        "\n",
        "'''\n",
        "list_1 = ['A','B','C']\n",
        "list_2 = list_1\n",
        "list_3 = list_2\n",
        "\n",
        "del list_1[0]\n",
        "del list_2\n",
        "\n",
        "\n",
        "print(list_3)\n"
      ],
      "metadata": {
        "colab": {
          "base_uri": "https://localhost:8080/"
        },
        "id": "snCtFHOvcqji",
        "outputId": "674e823c-1fa8-416d-fada-88dc9af97dfc"
      },
      "execution_count": null,
      "outputs": [
        {
          "output_type": "stream",
          "name": "stdout",
          "text": [
            "['B', 'C']\n"
          ]
        }
      ]
    },
    {
      "cell_type": "code",
      "source": [
        "'''\n",
        "8- Insira in ou not in ao invés de ??? para que o código produz o resultado\n",
        "esperado.\n",
        "\n",
        "my_list = [1, 2, \"in\", True, \"ABC\"]\n",
        "\n",
        "print(1 ??? my_list)\n",
        "print(\"A\" ??? my_list)\n",
        "print(3 not ??? my_list)\n",
        "print(False ??? my_list)\n",
        "\n",
        "'''\n",
        "\n",
        "my_list = [1, 2, \"in\", True, \"ABC\"]\n",
        "\n",
        "print(1 in my_list)\n",
        "print(\"A\" in my_list)\n",
        "print(3 not in my_list)\n",
        "print(False in my_list)\n"
      ],
      "metadata": {
        "colab": {
          "base_uri": "https://localhost:8080/"
        },
        "id": "NYcgwm_OkckX",
        "outputId": "29f78d91-9daa-4f0f-9639-ddabad54a01a"
      },
      "execution_count": null,
      "outputs": [
        {
          "output_type": "stream",
          "name": "stdout",
          "text": [
            "True\n",
            "False\n",
            "True\n",
            "False\n"
          ]
        }
      ]
    },
    {
      "cell_type": "code",
      "source": [
        "'''\n",
        "9- Qual é a saída do trecho de código a seguir?\n",
        "\n",
        "'''\n",
        "my_tup = (1, 2, 3)\n",
        "print(my_tup[2])"
      ],
      "metadata": {
        "colab": {
          "base_uri": "https://localhost:8080/"
        },
        "id": "G0kXdk8ysRYD",
        "outputId": "395927a9-ca73-4f2e-f531-bc5e9da6aeff"
      },
      "execution_count": null,
      "outputs": [
        {
          "output_type": "stream",
          "name": "stdout",
          "text": [
            "3\n"
          ]
        }
      ]
    },
    {
      "cell_type": "code",
      "source": [
        "'''\n",
        "10- Qual é a saída do trecho de código a seguir?\n",
        "\n",
        "'''\n",
        "\n",
        "tup = 1, 2, 3\n",
        "a, b, c = tup\n",
        "\n",
        "print(a * b * c)"
      ],
      "metadata": {
        "colab": {
          "base_uri": "https://localhost:8080/"
        },
        "id": "Kx6q0fS9sRLL",
        "outputId": "9c212802-01df-4ea2-94ac-2c25f97dcad4"
      },
      "execution_count": null,
      "outputs": [
        {
          "output_type": "stream",
          "name": "stdout",
          "text": [
            "6\n"
          ]
        }
      ]
    }
  ]
}