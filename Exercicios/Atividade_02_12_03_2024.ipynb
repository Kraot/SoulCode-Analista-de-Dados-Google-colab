{
  "nbformat": 4,
  "nbformat_minor": 0,
  "metadata": {
    "colab": {
      "provenance": [],
      "authorship_tag": "ABX9TyN4Uc6dVoEdVQaXxprztMsW",
      "include_colab_link": true
    },
    "kernelspec": {
      "name": "python3",
      "display_name": "Python 3"
    },
    "language_info": {
      "name": "python"
    }
  },
  "cells": [
    {
      "cell_type": "markdown",
      "metadata": {
        "id": "view-in-github",
        "colab_type": "text"
      },
      "source": [
        "<a href=\"https://colab.research.google.com/github/Kraot/SoulCode-Analista-de-Dados-Google-colab/blob/main/Atividade_02_12_03_204.ipynb\" target=\"_parent\"><img src=\"https://colab.research.google.com/assets/colab-badge.svg\" alt=\"Open In Colab\"/></a>"
      ]
    },
    {
      "cell_type": "code",
      "execution_count": null,
      "metadata": {
        "colab": {
          "base_uri": "https://localhost:8080/"
        },
        "id": "9TtRInL9vh9q",
        "outputId": "fe249c0e-8961-4d10-e51d-8b8decc76fd2"
      },
      "outputs": [
        {
          "output_type": "stream",
          "name": "stdout",
          "text": [
            "Matheus Alves Ribeiro\n",
            "<class 'str'>\n"
          ]
        }
      ],
      "source": [
        "'''\n",
        " 1. Crie uma variável para armazenar seu nome e imprima seu tipo de dado.\n",
        "\n",
        "'''\n",
        "nome = 'Matheus Alves Ribeiro'\n",
        "print(nome)\n",
        "print(type(nome))\n"
      ]
    },
    {
      "cell_type": "code",
      "source": [
        "'''\n",
        "2. Declare duas variáveis, uma com um valor inteiro e outra com um valor\n",
        "float. Imprima o resultado da soma das duas variáveis.\n",
        "\n",
        "'''\n",
        "a = 5\n",
        "b = 2.5\n",
        "soma = a + b\n",
        "print(type(a))\n",
        "print(type(b))\n",
        "print(f'{a} + {b} = {soma}')\n"
      ],
      "metadata": {
        "colab": {
          "base_uri": "https://localhost:8080/"
        },
        "id": "gCIcxoY8vynT",
        "outputId": "b5aa020d-50e1-47d0-e8fa-c1fead92cc5e"
      },
      "execution_count": null,
      "outputs": [
        {
          "output_type": "stream",
          "name": "stdout",
          "text": [
            "<class 'int'>\n",
            "<class 'float'>\n",
            "5 + 2.5 = 7.5\n"
          ]
        }
      ]
    },
    {
      "cell_type": "code",
      "source": [
        "'''\n",
        "3. Verifique se o número 10 é maior que 5 e imprima o resultado da\n",
        "comparação.\n",
        "\n",
        "'''\n",
        "a = 10\n",
        "b = 5\n",
        "\n",
        "maior = a > b\n",
        "print(f'{a} > {b} = {maior}')\n"
      ],
      "metadata": {
        "colab": {
          "base_uri": "https://localhost:8080/"
        },
        "id": "wTANTVgTwK4Q",
        "outputId": "c87d6218-3033-4ae9-f603-38620c6d7eab"
      },
      "execution_count": null,
      "outputs": [
        {
          "output_type": "stream",
          "name": "stdout",
          "text": [
            "10 > 5 = True\n"
          ]
        }
      ]
    },
    {
      "cell_type": "code",
      "source": [
        "'''\n",
        "4. Utilize o operador in para verificar se a letra \"a\" está presente\n",
        "na string banana.\n",
        "\n",
        "'''\n",
        "fruta = 'banana'\n",
        "print ('a' in fruta)"
      ],
      "metadata": {
        "colab": {
          "base_uri": "https://localhost:8080/"
        },
        "id": "BhXPeGlrwN73",
        "outputId": "fc270241-103b-48e5-ada1-a6dab3785deb"
      },
      "execution_count": null,
      "outputs": [
        {
          "output_type": "stream",
          "name": "stdout",
          "text": [
            "True\n"
          ]
        }
      ]
    },
    {
      "cell_type": "code",
      "source": [
        "'''\n",
        "5. Escreva um programa que solicita ao usuário dois números e imprima a\n",
        "soma, a diferença, o produto e o quociente da divisão entre esses\n",
        "números.\n",
        "\n",
        "'''\n",
        "\n",
        "a = float(input('Informe o seu primeiro numero: '))\n",
        "b = float(input('Informe o seu segundo numero: '))\n",
        "\n",
        "soma = (a + b)\n",
        "diferenca = (a - b)\n",
        "produto = (a * b)\n",
        "quociente = (a / b)\n",
        "\n",
        "\n",
        "print(f'{a} + {b} = {soma}')\n",
        "print(f'{a} - {b} = {diferenca}')\n",
        "print(f'{a} * {b} = {produto}')\n",
        "print(f'{a} / {b} = {quociente}')"
      ],
      "metadata": {
        "colab": {
          "base_uri": "https://localhost:8080/"
        },
        "id": "2niwFGq3_OeA",
        "outputId": "3e989c90-6f64-4e99-ba96-35af23811bb9"
      },
      "execution_count": null,
      "outputs": [
        {
          "output_type": "stream",
          "name": "stdout",
          "text": [
            "Informe o seu primeiro numero: 5\n",
            "Informe o seu segundo numero: 2\n",
            "5.0 + 2.0 = 7.0\n",
            "5.0 - 2.0 = 3.0\n",
            "5.0 * 2.0 = 10.0\n",
            "5.0 / 2.0 = 2.5\n"
          ]
        }
      ]
    }
  ]
}
