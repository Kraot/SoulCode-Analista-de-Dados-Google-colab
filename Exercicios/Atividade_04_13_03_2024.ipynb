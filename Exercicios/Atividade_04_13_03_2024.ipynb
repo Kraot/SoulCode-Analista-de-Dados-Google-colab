{
  "nbformat": 4,
  "nbformat_minor": 0,
  "metadata": {
    "colab": {
      "provenance": [],
      "authorship_tag": "ABX9TyOBuqWlL/xZOZh6ZUMzhtis",
      "include_colab_link": true
    },
    "kernelspec": {
      "name": "python3",
      "display_name": "Python 3"
    },
    "language_info": {
      "name": "python"
    }
  },
  "cells": [
    {
      "cell_type": "markdown",
      "metadata": {
        "id": "view-in-github",
        "colab_type": "text"
      },
      "source": [
        "<a href=\"https://colab.research.google.com/github/Kraot/SoulCode-Analista-de-Dados-Google-colab/blob/main/Exercicios/Atividade_04_13_03_2024.ipynb\" target=\"_parent\"><img src=\"https://colab.research.google.com/assets/colab-badge.svg\" alt=\"Open In Colab\"/></a>"
      ]
    },
    {
      "cell_type": "code",
      "source": [
        "'''\n",
        " 1. Crie uma lista com 10 números e imprima os elementos do índice 3 ao 7.\n",
        "\n",
        "'''\n",
        "lista1 = [1 ,2 ,3 ,4 ,5 ,6 ,7 ,8 ,9 ,10]\n",
        "lista2= [0 ,1 ,2 ,3 ,4 ,5 ,6 ,7 ,8 ,9 ]\n",
        "print(f'lista1 de 1 a 10 = {lista1[3:8]}')\n",
        "print('-----------------------------------')\n",
        "print(f\"lista2 de 0 a 9 = {lista2[3:8]}\")"
      ],
      "metadata": {
        "colab": {
          "base_uri": "https://localhost:8080/"
        },
        "id": "cPsWa762GXaq",
        "outputId": "6936c3f1-e404-425d-9856-ca0f265a38b2"
      },
      "execution_count": null,
      "outputs": [
        {
          "output_type": "stream",
          "name": "stdout",
          "text": [
            "lista1 de 1 a 10 = [4, 5, 6, 7, 8]\n",
            "-----------------------------------\n",
            "lista2 de 0 a 9 = [3, 4, 5, 6, 7]\n"
          ]
        }
      ]
    },
    {
      "cell_type": "code",
      "source": [
        "'''\n",
        "2. Crie uma lista com 10 palavras e imprima a lista pulando de 2 em 2\n",
        "elementos.\n",
        "\n",
        "'''\n",
        "lista = ['pudim', 'bolo','peixe','passaro','carro','onibus','boca','nariz','caneca','copo']\n",
        "print(f'A lista possue: {len(lista)} palavras')\n",
        "print(f'Imprimindo elementos de 2 em 2 :{lista[::2]}')\n",
        "print(f'Imprimindo elementos de 2 em 2 par :{lista[1::2]}')"
      ],
      "metadata": {
        "colab": {
          "base_uri": "https://localhost:8080/"
        },
        "id": "AB8yeNAFGXPq",
        "outputId": "7c918290-795d-4d12-9752-c53c5dcffc14"
      },
      "execution_count": null,
      "outputs": [
        {
          "output_type": "stream",
          "name": "stdout",
          "text": [
            "A lista possue: 10 palavras\n",
            "Imprimindo elementos de 2 em 2 :['pudim', 'peixe', 'carro', 'boca', 'caneca']\n",
            "Imprimindo elementos de 2 em 2 par :['bolo', 'passaro', 'onibus', 'nariz', 'copo']\n"
          ]
        }
      ]
    },
    {
      "cell_type": "code",
      "source": [
        "'''\n",
        "3. Crie uma lista com 8 nomes de frutas e imprima uma nova lista com as\n",
        "frutas a partir da 5ª fruta da lista original.\n",
        "\n",
        "'''\n",
        "frutas = [\"maçã\", \"banana\", \"laranja\", \"uva\", \"abacaxi\", \"morango\", \"mamão\", \"melancia\"]\n",
        "print(f'A lista possue {len(frutas)} frutas')\n",
        "print(f'A lista tem as seguintes frutas: {frutas}')\n",
        "\n",
        "print('--------------------------------------------------------------------------------------')\n",
        "nova_lista_frutas = frutas[4:]\n",
        "print(f'A nova lista possue {len(nova_lista_frutas)} frutas')\n",
        "print(f'A nova lista tem as seguintes frutas: {nova_lista_frutas}')"
      ],
      "metadata": {
        "colab": {
          "base_uri": "https://localhost:8080/"
        },
        "id": "1BR_vhRMGWm6",
        "outputId": "fe714a37-1ff8-4cf5-bcda-7e02321c1e7b"
      },
      "execution_count": null,
      "outputs": [
        {
          "output_type": "stream",
          "name": "stdout",
          "text": [
            "A lista possue 8 frutas\n",
            "A lista tem as seguintes frutas: ['maçã', 'banana', 'laranja', 'uva', 'abacaxi', 'morango', 'mamão', 'melancia']\n",
            "--------------------------------------------------------------------------------------\n",
            "A nova lista possue 4 frutas\n",
            "A nova lista tem as seguintes frutas: ['abacaxi', 'morango', 'mamão', 'melancia']\n"
          ]
        }
      ]
    }
  ]
}