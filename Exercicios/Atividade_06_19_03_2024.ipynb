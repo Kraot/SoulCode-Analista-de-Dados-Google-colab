{
  "nbformat": 4,
  "nbformat_minor": 0,
  "metadata": {
    "colab": {
      "provenance": [],
      "authorship_tag": "ABX9TyNP/EcDIYNKIjSp6ydaN7kS",
      "include_colab_link": true
    },
    "kernelspec": {
      "name": "python3",
      "display_name": "Python 3"
    },
    "language_info": {
      "name": "python"
    }
  },
  "cells": [
    {
      "cell_type": "markdown",
      "metadata": {
        "id": "view-in-github",
        "colab_type": "text"
      },
      "source": [
        "<a href=\"https://colab.research.google.com/github/Kraot/SoulCode-Analista-de-Dados-Google-colab/blob/main/Exercicios/Atividade_06_19_03_2024.ipynb\" target=\"_parent\"><img src=\"https://colab.research.google.com/assets/colab-badge.svg\" alt=\"Open In Colab\"/></a>"
      ]
    },
    {
      "cell_type": "code",
      "execution_count": null,
      "metadata": {
        "colab": {
          "base_uri": "https://localhost:8080/"
        },
        "id": "f4zeLKdNjhLj",
        "outputId": "626c94ca-d9f2-450b-98dd-19e49f660549"
      },
      "outputs": [
        {
          "output_type": "stream",
          "name": "stdout",
          "text": [
            "Digite o comprimento do  lado x do triangulo: 5\n",
            "Digite o comprimento do  lado y do triangulo: 5\n",
            "Digite o comprimento do  lado z do triangulo: 5\n",
            "Todos os valores de ( x= 5.0, y= 5.0, z= 5.0 ) são Iguais então triângulo é equilátero.\n"
          ]
        }
      ],
      "source": [
        "'''\n",
        "1 - Escreva um programa que aceite os comprimentos de três lados de um\n",
        "triângulo como entradas. A saída do programa deve indicar se o triângulo é ou\n",
        "não um triângulo equilátero.\n",
        "\n",
        "'''\n",
        "x = float(input(\"Digite o comprimento do  lado x do triangulo: \"))\n",
        "y = float(input(\"Digite o comprimento do  lado y do triangulo: \"))\n",
        "z = float(input(\"Digite o comprimento do  lado z do triangulo: \"))\n",
        "\n",
        "\n",
        "if x == y == z:\n",
        "    print(f\"Todos os valores de ( x= {x}, y= {y}, z= {z} ) são Iguais então triângulo é equilátero.\")\n",
        "else:\n",
        "    print(\"O triângulo não é equilátero.\")"
      ]
    },
    {
      "cell_type": "code",
      "source": [
        "'''\n",
        "2 - Escreva um programa que aceite os comprimentos de três lados de um\n",
        "triângulo como entradas. A saída do programa deve indicar se o triângulo é ou\n",
        "não um triângulo retângulo. Lembre-se do teorema de Pitágoras que, em um\n",
        "triângulo retângulo, o quadrado de um lado é igual à soma dos quadrados dos\n",
        "outros dois lados.\n",
        "\n",
        "'''\n",
        "#obs: conforme fui fazendo  vi que tinha outras possibilidades então fiz aqui mais de uma para treino\n",
        "\n",
        "#modelo 1\n",
        "print('Moledo 1')\n",
        "\n",
        "a = float(input(\"Digite o comprimento do primeiro lado do triangulo: \"))\n",
        "b = float(input(\"Digite o comprimento do segundo lado do triangulo: \"))\n",
        "c = float(input(\"Digite o comprimento do terceiro lado do triangulo: \"))\n",
        "\n",
        "pitag1 = a**2 + b**2 # calculo de pitagoras\n",
        "pitag2 = a**2 + c**2\n",
        "pitag3 = b**2 + c**2\n",
        "\n",
        "#confirma se calulo e igual o quadrado de um lado é igual à soma dos quadrados dos outros dois lados.\n",
        "if pitag1 == c**2 or pitag2 == b**2 or pitag3 == a**2:\n",
        "    print(\"é um triangulo retangulo.\")\n",
        "else:\n",
        "    print(\"Não é um triangulo retangulo.\")\n",
        "\n",
        "\n",
        "print(\"---------------------------------------------------------------------------------------------------------------\")\n",
        "\n",
        "print('Moledo 2')\n",
        "#modelo2\n",
        "\n",
        "x = float(input(\"Digite o comprimento do primeiro lado do triangulo: \"))\n",
        "y = float(input(\"Digite o comprimento do segundo lado do triangulo: \"))\n",
        "z = float(input(\"Digite o comprimento do terceiro lado do triangulo: \"))\n",
        "\n",
        "if z**2 == x**2 + y**2:\n",
        "  print(\"é um triangulo retangulo\")\n",
        "elif y**2 == x**2 + z**2:\n",
        "  print(\"é um triangulo retangulo\")\n",
        "elif x**2 == z**2 + y**2:\n",
        "  print(\"é um triangulo retangulo\")\n",
        "else:\n",
        "  print(\"não é um triangulo retangulo\")\n",
        "\n",
        "\n",
        "print(\"----------------------------------------------------\")\n",
        "\n",
        "print('Moledo 3')\n",
        "\n",
        "# modelo 3 ultilizando apenas 1 imput\n",
        "\n",
        "lista = input('Escreve o escreva o comprimento  dos 3 lados do triangulo separado por espaços: ')\n",
        "\n",
        "\n",
        "lista = lista.split()\n",
        "print(f\"Lista tipo String: {lista}\")\n",
        "\n",
        "for i in range(len(lista)):\n",
        "  lista[i] = float(lista[i])\n",
        "\n",
        "print(f\"lista tipo Float: {lista}\")\n",
        "\n",
        "lista[0]= a\n",
        "lista[1]= b\n",
        "lista[2]= c\n",
        "\n",
        "if (c**2) == (a**2) + (b**2) or (a**2) == (c**2) + (b**2) or (b**2) == (a**2) + (c**2):\n",
        "    print(\"é um triangulo retangulo.\")\n",
        "else:\n",
        "  print(\"não  é um triangulo retangulo\")"
      ],
      "metadata": {
        "colab": {
          "base_uri": "https://localhost:8080/"
        },
        "id": "mRHZQBkquYbH",
        "outputId": "8d102a13-87e7-421d-94ef-96f29a9c5212"
      },
      "execution_count": null,
      "outputs": [
        {
          "output_type": "stream",
          "name": "stdout",
          "text": [
            "Moledo 1\n",
            "Digite o comprimento do primeiro lado do triangulo: 4\n",
            "Digite o comprimento do segundo lado do triangulo: 5\n",
            "Digite o comprimento do terceiro lado do triangulo: 3\n",
            "é um triangulo retangulo.\n",
            "---------------------------------------------------------------------------------------------------------------\n",
            "Moledo 2\n",
            "Digite o comprimento do primeiro lado do triangulo: 3\n",
            "Digite o comprimento do segundo lado do triangulo: 4\n",
            "Digite o comprimento do terceiro lado do triangulo: 5\n",
            "é um triangulo retangulo\n",
            "----------------------------------------------------\n",
            "Moledo 3\n",
            "Escreve o escreva o comprimento  dos 3 lados do triangulo separado por espaços: 5 4 3\n",
            "Lista tipo String: ['5', '4', '3']\n",
            "lista tipo Float: [5.0, 4.0, 3.0]\n",
            "é um triangulo retangulo.\n"
          ]
        }
      ]
    }
  ]
}