{
  "nbformat": 4,
  "nbformat_minor": 0,
  "metadata": {
    "colab": {
      "provenance": [],
      "authorship_tag": "ABX9TyMQnfUown7vQx+C9rvpUSZq",
      "include_colab_link": true
    },
    "kernelspec": {
      "name": "python3",
      "display_name": "Python 3"
    },
    "language_info": {
      "name": "python"
    }
  },
  "cells": [
    {
      "cell_type": "markdown",
      "metadata": {
        "id": "view-in-github",
        "colab_type": "text"
      },
      "source": [
        "<a href=\"https://colab.research.google.com/github/Kraot/SoulCode-Analista-de-Dados-Google-colab/blob/main/Exercicios/Atividade_Extra_26_03_2024.ipynb\" target=\"_parent\"><img src=\"https://colab.research.google.com/assets/colab-badge.svg\" alt=\"Open In Colab\"/></a>"
      ]
    },
    {
      "cell_type": "markdown",
      "source": [
        "# Qual é a saída do seguinte código?"
      ],
      "metadata": {
        "id": "Pyxw7UeXygAQ"
      }
    },
    {
      "cell_type": "code",
      "execution_count": 3,
      "metadata": {
        "colab": {
          "base_uri": "https://localhost:8080/"
        },
        "id": "HCGNEcaHt4FQ",
        "outputId": "df72e256-0d6b-4b9c-e6d7-97fe81bc8f96"
      },
      "outputs": [
        {
          "output_type": "stream",
          "name": "stdout",
          "text": [
            "12\n"
          ]
        }
      ],
      "source": [
        "'''\n",
        "def fun(x, y, z):\n",
        "    return x + 2 * y + 3 * z\n",
        "\n",
        "print(fun(0, z=1, y=3))\n",
        "'''\n",
        "\n",
        "\n",
        "def fun(x, y, z):\n",
        "    return x + 2 * y + 3 * z\n",
        "\n",
        "print(fun(0, z=1, y=3))"
      ]
    },
    {
      "cell_type": "markdown",
      "source": [
        "# Qual é a saída do seguinte código?"
      ],
      "metadata": {
        "id": "Nzqk-Jvhy4dn"
      }
    },
    {
      "cell_type": "code",
      "source": [
        "'''\n",
        "def fun(x):\n",
        "    x += 1\n",
        "    return x\n",
        "\n",
        "x = 2\n",
        "x = fun(x + 1)\n",
        "print(x)\n",
        "'''\n",
        "def fun(x):\n",
        "    x += 1\n",
        "    return x\n",
        "\n",
        "x = 2\n",
        "x = fun(x + 1)\n",
        "print(x)\n",
        "\n",
        "\n"
      ],
      "metadata": {
        "colab": {
          "base_uri": "https://localhost:8080/"
        },
        "id": "TkZaPNwpyi8Y",
        "outputId": "b9bfce03-8ab9-40bf-ee6d-0df2e697f87c"
      },
      "execution_count": 9,
      "outputs": [
        {
          "output_type": "stream",
          "name": "stdout",
          "text": [
            "4\n"
          ]
        }
      ]
    },
    {
      "cell_type": "markdown",
      "source": [
        "# Qual é a saída do seguinte código?"
      ],
      "metadata": {
        "id": "hYh9hliX8KBM"
      }
    },
    {
      "cell_type": "code",
      "source": [
        "'''\n",
        "def f(x):\n",
        "    if x == 0:\n",
        "        return 0\n",
        "    return x + f(x - 1)\n",
        "\n",
        "\n",
        "print(f(3))\n",
        "'''\n",
        "\n",
        "'''\n",
        "passo a passo do programa até da o resultado\n",
        "\n",
        "f(3) = 3 + f(2)\n",
        "     = 3 + (2 + f(1))\n",
        "     = 3 + (2 + (1 + f(0)))\n",
        "     = 3 + (2 + (1 + 0))\n",
        "     = 3 + (2 + 1)\n",
        "     = 3 + 3\n",
        "     = 6\n",
        "'''\n",
        "def f(x):\n",
        "    if x == 0:\n",
        "        return 0\n",
        "    return x + f(x - 1)\n",
        "\n",
        "\n",
        "print(f(3))"
      ],
      "metadata": {
        "colab": {
          "base_uri": "https://localhost:8080/"
        },
        "id": "DzJtd6Wnzn1Y",
        "outputId": "46291b1d-0392-46ac-909b-a2887da39374"
      },
      "execution_count": 8,
      "outputs": [
        {
          "output_type": "stream",
          "name": "stdout",
          "text": [
            "6\n"
          ]
        }
      ]
    }
  ]
}