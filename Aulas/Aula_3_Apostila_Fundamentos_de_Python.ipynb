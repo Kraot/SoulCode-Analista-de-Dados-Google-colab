{
  "nbformat": 4,
  "nbformat_minor": 0,
  "metadata": {
    "colab": {
      "provenance": [],
      "include_colab_link": true
    },
    "kernelspec": {
      "name": "python3",
      "display_name": "Python 3"
    },
    "language_info": {
      "name": "python"
    }
  },
  "cells": [
    {
      "cell_type": "markdown",
      "metadata": {
        "id": "view-in-github",
        "colab_type": "text"
      },
      "source": [
        "<a href=\"https://colab.research.google.com/github/Kraot/SoulCode-Analista-de-Dados-Google-colab/blob/main/Aulas/Aula_3_Apostila_Fundamentos_de_Python.ipynb\" target=\"_parent\"><img src=\"https://colab.research.google.com/assets/colab-badge.svg\" alt=\"Open In Colab\"/></a>"
      ]
    },
    {
      "cell_type": "markdown",
      "source": [
        "# 4 - Estruturas de dados"
      ],
      "metadata": {
        "id": "ap1KHQliCqWy"
      }
    },
    {
      "cell_type": "markdown",
      "source": [
        "## 4.1 - Listas"
      ],
      "metadata": {
        "id": "m-fNF-dMCtIi"
      }
    },
    {
      "cell_type": "code",
      "source": [
        "# Uma lista é um objeto que pode ser vazio, ou ter um ou mais itens\n",
        "lista = ['dado1', 'dado2','dado3','dado4', 'dado_n']\n",
        "#índices    0         1       2       3       4       ou:\n",
        "#          -5        -4      -3      -2      -1\n",
        "#           1º        2º      3º      4º      5º\n",
        "'''\n",
        "Qual é a informação presente na lista cuja posição é o\n",
        "índice 3?\n",
        "'''\n",
        "print(f'A informação presente na lista na posição de índice 3 é: \"{lista[3]}\"')\n",
        "\n",
        "'''\n",
        "Quais dados estão presentes no intervalo que vai do 1º ao 3º elementos da lista?\n",
        "'''\n",
        "print(f'Os valores no intervalo do 1º ao 3º elementos são: \"{lista[0:3]}\"')"
      ],
      "metadata": {
        "colab": {
          "base_uri": "https://localhost:8080/"
        },
        "id": "cGPzxsCZCxLj",
        "outputId": "bf9e1ca7-733c-43ce-ed6c-51192597d35a"
      },
      "execution_count": null,
      "outputs": [
        {
          "output_type": "stream",
          "name": "stdout",
          "text": [
            "A informação presente na lista na posição de índice 3 é: \"dado4\"\n",
            "Os valores no intervalo do 1º ao 3º elementos são: \"['dado1', 'dado2', 'dado3']\"\n"
          ]
        }
      ]
    },
    {
      "cell_type": "code",
      "source": [
        "produtos = ['monitor', 'celular', 'notebook', 'desktop', 'impressora', 'teclado']\n",
        "precos = [600, 2000, 5000, 3000, 1500, 200]\n",
        "vendas = [300, 500, 100, 700, 500, 1000]\n",
        "estoques = [5000] * 6 #  Este comando cria uma lista que tem 6 elementos com o mesmo valor (5000)"
      ],
      "metadata": {
        "id": "pIYp7jXXMirY"
      },
      "execution_count": null,
      "outputs": []
    },
    {
      "cell_type": "code",
      "source": [
        "print(f'a lista produtos tem {len(produtos)} elementos')\n",
        "print(f'a lista precos tem {len(precos)} elementos')\n",
        "print(f'a lista vendas tem {len(vendas)} elementos')\n",
        "print(f'a lista estoques tem {len(estoques)} elementos')"
      ],
      "metadata": {
        "colab": {
          "base_uri": "https://localhost:8080/"
        },
        "id": "fUVTWvq0QCtB",
        "outputId": "8f6d936e-04a2-4025-9dcb-9349fb850db8"
      },
      "execution_count": null,
      "outputs": [
        {
          "output_type": "stream",
          "name": "stdout",
          "text": [
            "a lista produtos tem 6 elementos\n",
            "a lista precos tem 6 elementos\n",
            "a lista vendas tem 6 elementos\n",
            "a lista estoques tem 6 elementos\n"
          ]
        }
      ]
    },
    {
      "cell_type": "code",
      "source": [
        "'''\n",
        "Elabore um programa que receba do usuário um número inteiro e positivo\n",
        "de no máximo 5, e automaticamente, exiba o nome do produto correspondente,\n",
        "seu preço, sua quantidade vendida, o valor faturado em R$, e quantas unidades\n",
        "ainda restam em estoque desse produto.\n",
        "'''\n",
        "produtos = ['monitor', 'celular', 'notebook', 'desktop', 'impressora', 'teclado']\n",
        "precos = [600, 2000, 5000, 3000, 1500, 200]\n",
        "vendas = [300, 500, 100, 700, 500, 1000]\n",
        "estoques = [5000] * 6 #  Este comando cria uma lista que tem 6 elementos com o mesmo valor (5000)"
      ],
      "metadata": {
        "id": "3yTKjkhFQ01x"
      },
      "execution_count": null,
      "outputs": []
    },
    {
      "cell_type": "code",
      "source": [
        "i = int(input('Informe um número inteiro e positivos de 0 a 5: ')) # recebe do usuário um número inteiro e positivo e o armazena na variável i\n",
        "print(f'O produto escolhido foi: {produtos[i]}') # Exibe o nome do produto referente ao número informado pelo usuário\n",
        "print(f'seu preço é de: R$ {precos[i]:,.2f}')\n",
        "print(f'sua quantidade vendida fou de {vendas[i]} unidades')\n",
        "print(f'o seu faturamento foi de R$ {(vendas[i]*precos[i]):,.2f} ')\n",
        "print(f'e ainda restam {estoques[i]-vendas[i]} unidades em estoque')"
      ],
      "metadata": {
        "colab": {
          "base_uri": "https://localhost:8080/"
        },
        "id": "Ly4CHZkJRQHe",
        "outputId": "7b755fed-9169-4026-c71f-fd567e6a744d"
      },
      "execution_count": null,
      "outputs": [
        {
          "output_type": "stream",
          "name": "stdout",
          "text": [
            "Informe um número inteiro e positivos de 0 a 5: 2\n",
            "O produto escolhido foi: notebook\n",
            "seu preço é de: R$ 5,000.00\n",
            "sua quantidade vendida fou de 100 unidades\n",
            "o seu faturamento foi de R$ 500,000.00 \n",
            "e ainda restam 4900 unidades em estoque\n"
          ]
        }
      ]
    },
    {
      "cell_type": "code",
      "source": [
        "i = int(input('Informe um número inteiro e positivos de 0 a 5: '))\n",
        "print(f'''\n",
        "O produto escolhido foi: {produtos[i]}, seu preço é de: R$ {precos[i]:,.2f},\n",
        "sua quantidade vendida fou de {vendas[i]} unidades,\n",
        "o seu faturamento foi de R$ {(vendas[i]*precos[i]):,.2f},\n",
        "e ainda restam {estoques[i]-vendas[i]} unidades em estoque''')"
      ],
      "metadata": {
        "colab": {
          "base_uri": "https://localhost:8080/"
        },
        "id": "Vn4ErBFRlhO9",
        "outputId": "769e962e-3d15-4378-de45-6aebf53036f3"
      },
      "execution_count": null,
      "outputs": [
        {
          "output_type": "stream",
          "name": "stdout",
          "text": [
            "Informe um número inteiro e positivos de 0 a 5: 2\n",
            "O produto escolhido foi: notebook, seu preço \n",
            "é de: R$ 5,000.00, sua quantidade vendida fou de 100 unidades,\n",
            " o seu faturamento foi de R$ 500,000.00, o seu faturamento \n",
            " foi de R$ 500,000.00\n"
          ]
        }
      ]
    },
    {
      "cell_type": "code",
      "source": [
        "'''\n",
        "Inserindo valores em uma lista\n",
        "'''\n",
        "produtos = ['monitor', 'celular', 'notebook', 'desktop', 'impressora', 'teclado']\n",
        "precos = [600, 2000, 5000, 3000, 1500, 200]\n",
        "vendas = [300, 500, 100, 700, 500, 1000]\n",
        "estoques = [5000] * 6 #  Este comando cria uma lista que tem 6 elementos com o mesmo valor (5000)\n",
        "\n",
        "'''\n",
        "Inserindo um novo produto na lista produtos\n",
        "'''\n",
        "produtos.append('mouse')\n",
        "print(produtos)\n",
        "precos.append(10)\n",
        "print(precos)\n",
        "vendas.append(1000)\n",
        "print(vendas)\n",
        "estoques.append(5000)\n",
        "print(estoques)"
      ],
      "metadata": {
        "colab": {
          "base_uri": "https://localhost:8080/"
        },
        "id": "W-pu3Z6aVIh0",
        "outputId": "a62ab3b5-97ff-4bef-8454-15c0720e7f0f"
      },
      "execution_count": null,
      "outputs": [
        {
          "output_type": "stream",
          "name": "stdout",
          "text": [
            "['monitor', 'celular', 'notebook', 'desktop', 'impressora', 'teclado', 'mouse']\n",
            "[600, 2000, 5000, 3000, 1500, 200, 10]\n",
            "[300, 500, 100, 700, 500, 1000, 1000]\n",
            "[5000, 5000, 5000, 5000, 5000, 5000, 5000]\n"
          ]
        }
      ]
    },
    {
      "cell_type": "code",
      "source": [
        "'''\n",
        "Inserindo valores em um índice específico de uma lista\n",
        "'''\n",
        "produtos = ['monitor', 'celular', 'notebook', 'desktop', 'impressora', 'teclado']\n",
        "precos = [600, 2000, 5000, 3000, 1500, 200]\n",
        "vendas = [300, 500, 100, 700, 500, 1000]\n",
        "estoques = [5000] * 6 #  Este comando cria uma lista que tem 6 elementos com o mesmo valor (5000)\n",
        "'''\n",
        "método insert\n",
        "Imagine que você deseja inserir o produto microfone na primeira posição da lista\n",
        "(índice 0), sem excluir nenhum produto previamente existente\n",
        "'''\n",
        "produtos.insert(0,'microfone')\n",
        "print(produtos)\n",
        "precos.insert(0,700)\n",
        "print(precos)\n",
        "vendas.insert(0,50)\n",
        "print(vendas)\n",
        "estoques.insert(0,5000)\n",
        "print(estoques)"
      ],
      "metadata": {
        "colab": {
          "base_uri": "https://localhost:8080/"
        },
        "id": "n35Xhaupie3N",
        "outputId": "f78f6614-4e1d-4952-d6a1-4e06e1bd689a"
      },
      "execution_count": null,
      "outputs": [
        {
          "output_type": "stream",
          "name": "stdout",
          "text": [
            "['microfone', 'monitor', 'celular', 'notebook', 'desktop', 'impressora', 'teclado']\n",
            "[700, 600, 2000, 5000, 3000, 1500, 200]\n",
            "[50, 300, 500, 100, 700, 500, 1000]\n",
            "[5000, 5000, 5000, 5000, 5000, 5000, 5000]\n"
          ]
        }
      ]
    },
    {
      "cell_type": "code",
      "source": [
        "'''\n",
        "A principal diferença entre append e insert é a posição que o elemento é\n",
        "inserido, no append por padrão o elemento é inserido na última posição e no\n",
        "insert é possível escolher a posição onde vamos inserir o novo elemento\n",
        "'''"
      ],
      "metadata": {
        "id": "f7R9NSzQpK1a"
      },
      "execution_count": null,
      "outputs": []
    },
    {
      "cell_type": "code",
      "source": [
        "'''\n",
        "Excluindo elementos de uma lista\n",
        "1º método: (pop) ele exclui com a referência do índice\n",
        "'''\n",
        "produtos = ['monitor', 'celular', 'notebook', 'desktop', 'impressora', 'teclado']\n",
        "precos = [600, 2000, 5000, 3000, 1500, 200]\n",
        "vendas = [300, 500, 100, 700, 500, 1000]\n",
        "estoques = [5000] * 6 #  Este comando cria uma lista que tem 6 elementos com o mesmo valor (5000)\n",
        "\n",
        "'''\n",
        "Suponha que você deseja excluir o produto teclado da lista de produtos\n",
        "'''\n",
        "produtos.pop()\n",
        "print(produtos)\n",
        "precos.pop()\n",
        "print(precos)\n",
        "vendas.pop()\n",
        "print(vendas)\n",
        "estoques.pop()\n",
        "print(estoques)\n"
      ],
      "metadata": {
        "colab": {
          "base_uri": "https://localhost:8080/"
        },
        "id": "8uAcBb6S78pD",
        "outputId": "e582e9a0-898d-4b7a-c3d8-aff85affc7d7"
      },
      "execution_count": null,
      "outputs": [
        {
          "output_type": "stream",
          "name": "stdout",
          "text": [
            "['monitor', 'celular', 'notebook', 'desktop', 'impressora']\n",
            "[600, 2000, 5000, 3000, 1500]\n",
            "[300, 500, 100, 700, 500]\n",
            "[5000, 5000, 5000, 5000, 5000]\n"
          ]
        }
      ]
    },
    {
      "cell_type": "code",
      "source": [
        "'''\n",
        "Utilizando o método remove para excluir um dado pelo seu valor\n",
        "'''\n",
        "produtos = ['monitor', 'celular', 'notebook', 'desktop', 'impressora', 'teclado']\n",
        "precos = [600, 2000, 5000, 3000, 1500, 200]\n",
        "vendas = [300, 500, 100, 700, 500, 1000]\n",
        "estoques = [5000] * 6 #  Este comando cria uma lista que tem 6 elementos com o mesmo valor (5000)\n",
        "\n",
        "'''\n",
        "Suponha que você deseja remover o teclado da lista produtos e não saiba qual é\n",
        "o seu índice\n",
        "'''\n",
        "produtos.remove('teclado')\n",
        "print(produtos)\n",
        "precos.remove(200)\n",
        "print(precos)"
      ],
      "metadata": {
        "colab": {
          "base_uri": "https://localhost:8080/"
        },
        "id": "_qYw8Irc9oYy",
        "outputId": "c800f513-bc27-4f0a-aed4-1dc025bf6ebb"
      },
      "execution_count": null,
      "outputs": [
        {
          "output_type": "stream",
          "name": "stdout",
          "text": [
            "['monitor', 'notebook', 'desktop', 'impressora', 'teclado']\n",
            "[600, 2000, 5000, 3000, 1500]\n"
          ]
        }
      ]
    },
    {
      "cell_type": "code",
      "source": [
        "\n",
        "'''\n",
        "Suponha que você deseja saber se na lista produtos existe o termo celular\n",
        "'''\n",
        "produtos = ['monitor', 'celular', 'notebook', 'desktop', 'impressora', 'teclado']\n",
        "precos = [600, 2000, 5000, 3000, 1500, 200]\n",
        "vendas = [300, 500, 100, 700, 500, 1000]\n",
        "estoques = [5000] * 6 #  Este comando cria uma lista que tem 6 elementos com o mesmo valor (5000)\n",
        "\n",
        "print('celular' in produtos)\n",
        "\n"
      ],
      "metadata": {
        "colab": {
          "base_uri": "https://localhost:8080/"
        },
        "id": "U92qjKCuBUd1",
        "outputId": "13a08303-3a94-4096-f487-cc1311ff241e"
      },
      "execution_count": null,
      "outputs": [
        {
          "output_type": "stream",
          "name": "stdout",
          "text": [
            "True\n"
          ]
        }
      ]
    },
    {
      "cell_type": "code",
      "source": [
        "produtos = ['monitor', 'celular', 'notebook', 'desktop', 'impressora', 'teclado']\n",
        "precos = [600, 2000, 5000, 3000, 1500, 200]\n",
        "vendas = [300, 500, 100, 700, 500, 1000]\n",
        "estoques = [5000] * 6 #  Este comando cria uma lista que tem 6 elementos com o mesmo valor (5000)\n",
        "\n",
        "\n",
        "'''\n",
        "Suponha que você deseja saber se na lista produtos existe o termo celular e caso\n",
        "exista qual é o seu índice - método index\n",
        "'''\n",
        "i = produtos.index('celular')\n",
        "\n",
        "\n",
        "print(f'''\n",
        "O produto escolhido foi: {produtos[i]}, seu preço é de: R$ {precos[i]:,.2f},\n",
        "sua quantidade vendida fou de {vendas[i]} unidades,\n",
        "o seu faturamento foi de R$ {(vendas[i]*precos[i]):,.2f}, o seu estoque\n",
        "é de {(estoques[i] - vendas[i])} unidades''')"
      ],
      "metadata": {
        "colab": {
          "base_uri": "https://localhost:8080/"
        },
        "id": "L91O2kSxCF6z",
        "outputId": "ff04bbf7-0b3e-4de5-a421-8cae008981ce"
      },
      "execution_count": null,
      "outputs": [
        {
          "output_type": "stream",
          "name": "stdout",
          "text": [
            "\n",
            "O produto escolhido foi: celular, seu preço é de: R$ 2,000.00,\n",
            "sua quantidade vendida fou de 500 unidades,\n",
            "o seu faturamento foi de R$ 1,000,000.00, o seu estoque\n",
            "é de 4500 unidades\n"
          ]
        }
      ]
    },
    {
      "cell_type": "code",
      "source": [
        "produtos = ['monitor', 'celular', 'notebook', 'desktop', 'impressora', 'teclado']\n",
        "precos = [600, 2000, 5000, 3000, 1500, 200]\n",
        "vendas = [300, 500, 100, 700, 500, 1000]\n",
        "estoques = [5000] * 6 #  Este comando cria uma lista que tem 6 elementos com o mesmo valor (5000)\n",
        "'''\n",
        "Imagine que você deseja permitir que o usuário consulte a existência de um\n",
        "produto pelo nome e caso esse produto exista, o programa retorna o nome do\n",
        "produto, seu preço unitário de venda, sua quantidade vendida, seu faturamento e\n",
        "quantas unidades ainda restam em estoique desse produto.\n",
        "'''\n",
        "\n",
        "i = produtos.index(input('Informe nome do produto que deseja consultar: ').lower())\n",
        "\n",
        "print(f'''\n",
        "O produto escolhido foi: {produtos[i]}, seu preço é de: R$ {precos[i]:,.2f},\n",
        "sua quantidade vendida fou de {vendas[i]} unidades,\n",
        "o seu faturamento foi de R$ {(vendas[i]*precos[i]):,.2f}, o seu estoque\n",
        "é de {(estoques[i] - vendas[i])} unidades''')"
      ],
      "metadata": {
        "colab": {
          "base_uri": "https://localhost:8080/"
        },
        "id": "gkwrU-6KCy3L",
        "outputId": "dc367e72-70fa-4767-aaa6-a27d008d57f1"
      },
      "execution_count": null,
      "outputs": [
        {
          "output_type": "stream",
          "name": "stdout",
          "text": [
            "Informe nome do produto que deseja consultar: TECLADO\n",
            "\n",
            "O produto escolhido foi: teclado, seu preço é de: R$ 200.00,\n",
            "sua quantidade vendida fou de 1000 unidades,\n",
            "o seu faturamento foi de R$ 200,000.00, o seu estoque\n",
            "é de 4000 unidades\n"
          ]
        }
      ]
    },
    {
      "cell_type": "markdown",
      "source": [
        "## 4.2 - Tuplas"
      ],
      "metadata": {
        "id": "ajcZnFfIVpwt"
      }
    },
    {
      "cell_type": "code",
      "source": [
        "'''\n",
        "Tuplas são estruturas de dados imutáveis\n",
        "'''\n",
        "# Criando tuplas\n",
        "nomes = ('Douglas', 'Daniela', 'Pedro', 'Maria')\n",
        "idades = (47, 8, 68, 67)\n",
        "alturas = (1.85, 1.32, 1.75, 1.69)\n",
        "tupla_vazia = ()\n",
        "print(type(nomes))\n",
        "print(nomes)"
      ],
      "metadata": {
        "colab": {
          "base_uri": "https://localhost:8080/"
        },
        "id": "BqUe6G74VmVX",
        "outputId": "fbbc77da-87e5-467a-8006-c5e290134198"
      },
      "execution_count": null,
      "outputs": [
        {
          "output_type": "stream",
          "name": "stdout",
          "text": [
            "<class 'tuple'>\n",
            "('Douglas', 'Daniela', 'Pedro', 'Maria')\n"
          ]
        }
      ]
    },
    {
      "cell_type": "code",
      "source": [
        "# Fatiando tuplas\n",
        "nomes = ('Douglas', 'Daniela', 'Pedro', 'Maria')\n",
        "idades = (47, 8, 68, 67)\n",
        "alturas = (1.85, 1.32, 1.75, 1.69)\n",
        "print(nomes[0])\n",
        "print(idades[1:3])\n",
        "print(alturas[-1])"
      ],
      "metadata": {
        "colab": {
          "base_uri": "https://localhost:8080/"
        },
        "id": "cupm1R0CWIWE",
        "outputId": "5c891ea6-a387-4d39-d28d-d761116e7d80"
      },
      "execution_count": null,
      "outputs": [
        {
          "output_type": "stream",
          "name": "stdout",
          "text": [
            "Douglas\n",
            "(8, 68)\n",
            "1.69\n"
          ]
        }
      ]
    },
    {
      "cell_type": "code",
      "source": [
        "# convertendo objetos em tuplas e vice-versa\n",
        "lista = [1,2,3]\n",
        "tupla = tuple(lista)\n",
        "nova_lista = list(tupla)\n",
        "print(lista)\n",
        "print(tupla)\n",
        "print(nova_lista)"
      ],
      "metadata": {
        "colab": {
          "base_uri": "https://localhost:8080/"
        },
        "id": "nrVsuE0oWbhP",
        "outputId": "8c3222a1-a07c-446b-8d0e-1fe1fe03509c"
      },
      "execution_count": null,
      "outputs": [
        {
          "output_type": "stream",
          "name": "stdout",
          "text": [
            "[1, 2, 3]\n",
            "(1, 2, 3)\n",
            "[1, 2, 3]\n"
          ]
        }
      ]
    },
    {
      "cell_type": "code",
      "source": [
        "# verificando a existência de um elemento em uma tupla\n",
        "lista = [1,2,3]\n",
        "tupla = tuple(lista)\n",
        "nova_lista = list(tupla)\n",
        "print(4 in tupla)\n",
        "print(4 not in tupla)"
      ],
      "metadata": {
        "colab": {
          "base_uri": "https://localhost:8080/"
        },
        "id": "WsCVxbiPWw2N",
        "outputId": "a3cd9b48-2e29-42ab-96b5-d65522c6def1"
      },
      "execution_count": null,
      "outputs": [
        {
          "output_type": "stream",
          "name": "stdout",
          "text": [
            "False\n",
            "True\n"
          ]
        }
      ]
    },
    {
      "cell_type": "markdown",
      "source": [
        "## 4.3 - Dicionários"
      ],
      "metadata": {
        "id": "8YfA1dXIXmjE"
      }
    },
    {
      "cell_type": "code",
      "source": [
        "carro = {'marca':'vw','modelo':'gol','ano':'2014','motor':'1.0'}\n",
        "type(carro)"
      ],
      "metadata": {
        "colab": {
          "base_uri": "https://localhost:8080/"
        },
        "id": "ftLPvY7qX3SG",
        "outputId": "1c442655-d3d7-46e5-cbae-5266bc65d92b"
      },
      "execution_count": null,
      "outputs": [
        {
          "output_type": "execute_result",
          "data": {
            "text/plain": [
              "dict"
            ]
          },
          "metadata": {},
          "execution_count": 21
        }
      ]
    },
    {
      "cell_type": "code",
      "source": [
        "# Inserindo uma chave um valor em um dicionário existente\n",
        "carro = {'marca':'vw','modelo':'gol','ano':'2014','motor':'1.0'}\n",
        "carro['cor'] = 'azul'\n",
        "print(carro)"
      ],
      "metadata": {
        "colab": {
          "base_uri": "https://localhost:8080/"
        },
        "id": "xKwaoFNJZn71",
        "outputId": "41331aa4-8c36-47bf-84bc-a0bfaf76464a"
      },
      "execution_count": null,
      "outputs": [
        {
          "output_type": "stream",
          "name": "stdout",
          "text": [
            "{'marca': 'vw', 'modelo': 'gol', 'ano': '2014', 'motor': '1.0', 'cor': 'azul'}\n"
          ]
        }
      ]
    },
    {
      "cell_type": "code",
      "source": [
        "carro['km'] = 280000\n",
        "print(carro)"
      ],
      "metadata": {
        "colab": {
          "base_uri": "https://localhost:8080/"
        },
        "id": "9CTEVr44ah8E",
        "outputId": "9dda946b-8b1b-43f6-f889-dcbae29004f3"
      },
      "execution_count": null,
      "outputs": [
        {
          "output_type": "stream",
          "name": "stdout",
          "text": [
            "{'marca': 'vw', 'modelo': 'gol', 'ano': '2014', 'motor': '1.0', 'cor': 'azul', 'km': 280000}\n"
          ]
        }
      ]
    },
    {
      "cell_type": "code",
      "source": [
        "carro = {'marca':'vw','modelo':'gol','ano':'2014','motor':'1.0'}\n",
        "'''\n",
        "buscar um valor em um dicionário diretamente pela sua chave pode ser\n",
        "um problema se por exemplo essa chave não existir no dicionário original\n",
        "'''\n",
        "carro['marca']"
      ],
      "metadata": {
        "colab": {
          "base_uri": "https://localhost:8080/",
          "height": 35
        },
        "id": "QHws0xjObEZM",
        "outputId": "d3865b03-dc52-40b2-b5a7-64f165bc228e"
      },
      "execution_count": null,
      "outputs": [
        {
          "output_type": "execute_result",
          "data": {
            "text/plain": [
              "'vw'"
            ],
            "application/vnd.google.colaboratory.intrinsic+json": {
              "type": "string"
            }
          },
          "metadata": {},
          "execution_count": 29
        }
      ]
    },
    {
      "cell_type": "code",
      "source": [
        "carro = {'marca':'vw','modelo':'gol','ano':'2014','motor':'1.0'}\n",
        "'''\n",
        "buscar um valor em um dicionário diretamente pela sua chave pode ser\n",
        "um problema se por exemplo essa chave não existir no dicionário original\n",
        "'''\n",
        "carro['doc']"
      ],
      "metadata": {
        "colab": {
          "base_uri": "https://localhost:8080/",
          "height": 176
        },
        "id": "3pvYX_HaZ1Jm",
        "outputId": "11170005-f62f-41cf-f809-3b30fda1c516"
      },
      "execution_count": null,
      "outputs": [
        {
          "output_type": "error",
          "ename": "KeyError",
          "evalue": "'doc'",
          "traceback": [
            "\u001b[0;31m---------------------------------------------------------------------------\u001b[0m",
            "\u001b[0;31mKeyError\u001b[0m                                  Traceback (most recent call last)",
            "\u001b[0;32m<ipython-input-30-7c0be97081e7>\u001b[0m in \u001b[0;36m<cell line: 6>\u001b[0;34m()\u001b[0m\n\u001b[1;32m      4\u001b[0m \u001b[0mum\u001b[0m \u001b[0mproblema\u001b[0m \u001b[0mse\u001b[0m \u001b[0mpor\u001b[0m \u001b[0mexemplo\u001b[0m \u001b[0messa\u001b[0m \u001b[0mchave\u001b[0m \u001b[0mnão\u001b[0m \u001b[0mexistir\u001b[0m \u001b[0mno\u001b[0m \u001b[0mdicionário\u001b[0m \u001b[0moriginal\u001b[0m\u001b[0;34m\u001b[0m\u001b[0;34m\u001b[0m\u001b[0m\n\u001b[1;32m      5\u001b[0m '''\n\u001b[0;32m----> 6\u001b[0;31m \u001b[0mcarro\u001b[0m\u001b[0;34m[\u001b[0m\u001b[0;34m'doc'\u001b[0m\u001b[0;34m]\u001b[0m\u001b[0;34m\u001b[0m\u001b[0;34m\u001b[0m\u001b[0m\n\u001b[0m",
            "\u001b[0;31mKeyError\u001b[0m: 'doc'"
          ]
        }
      ]
    },
    {
      "cell_type": "code",
      "source": [
        "carro = {'marca':'vw','modelo':'gol','ano':'2014','motor':'1.0'}\n",
        "'''\n",
        "Alternativa\n",
        "'''\n",
        "carro.get('marca')"
      ],
      "metadata": {
        "colab": {
          "base_uri": "https://localhost:8080/",
          "height": 35
        },
        "id": "_Tz19lhzbPAX",
        "outputId": "93fe8d64-c865-4867-e54d-0d0985a98933"
      },
      "execution_count": null,
      "outputs": [
        {
          "output_type": "execute_result",
          "data": {
            "text/plain": [
              "'vw'"
            ],
            "application/vnd.google.colaboratory.intrinsic+json": {
              "type": "string"
            }
          },
          "metadata": {},
          "execution_count": 31
        }
      ]
    },
    {
      "cell_type": "code",
      "source": [
        "carro = {'marca':'vw','modelo':'gol','ano':'2014','motor':'1.0'}\n",
        "'''\n",
        "Alternativa\n",
        "'''\n",
        "carro.get('doc')\n",
        "'''\n",
        "Resumindo: para os dicionários o método get é bem semelhante à busca\n",
        "diretamente pela chave, mas com uma importante diferença: pelo método\n",
        "get, caso a chave não exista no dicionário original, ao onvés de travar o\n",
        "programa, o método retorna vazio\n",
        "'''"
      ],
      "metadata": {
        "id": "VFWoNJ4Hb5Dc"
      },
      "execution_count": null,
      "outputs": []
    },
    {
      "cell_type": "code",
      "source": [
        "# Removendo o último para de chave e valor de um dicionário\n",
        "carro = {'marca':'vw','modelo':'gol','ano':'2014','motor':'1.0'}\n",
        "carro.popitem()"
      ],
      "metadata": {
        "colab": {
          "base_uri": "https://localhost:8080/"
        },
        "id": "hlrWw70ZccOr",
        "outputId": "cbfda5d3-cff4-4efe-95a0-dd7351baea9b"
      },
      "execution_count": null,
      "outputs": [
        {
          "output_type": "execute_result",
          "data": {
            "text/plain": [
              "('motor', '1.0')"
            ]
          },
          "metadata": {},
          "execution_count": 34
        }
      ]
    },
    {
      "cell_type": "code",
      "source": [
        "# Excluindo um item de um dicionário\n",
        "carro = {'marca':'vw','modelo':'gol','ano':'2014','motor':'1.0'}\n",
        "carro.pop('marca')\n",
        "print(carro)"
      ],
      "metadata": {
        "colab": {
          "base_uri": "https://localhost:8080/"
        },
        "id": "5b9ArKLLc57w",
        "outputId": "8f7fef61-a958-491e-e463-cc9969017206"
      },
      "execution_count": null,
      "outputs": [
        {
          "output_type": "stream",
          "name": "stdout",
          "text": [
            "{'modelo': 'gol', 'ano': '2014', 'motor': '1.0'}\n"
          ]
        }
      ]
    },
    {
      "cell_type": "code",
      "source": [
        "# deixando um dicionário sem elemento algum\n",
        "carro = {'marca':'vw','modelo':'gol','ano':'2014','motor':'1.0'}\n",
        "print(carro)\n",
        "carro.clear()\n",
        "print(carro)"
      ],
      "metadata": {
        "colab": {
          "base_uri": "https://localhost:8080/"
        },
        "id": "isL7C8nBdJib",
        "outputId": "5d097a74-10cf-4ef8-aa5c-6cf58f8a463f"
      },
      "execution_count": null,
      "outputs": [
        {
          "output_type": "stream",
          "name": "stdout",
          "text": [
            "{'marca': 'vw', 'modelo': 'gol', 'ano': '2014', 'motor': '1.0'}\n",
            "{}\n"
          ]
        }
      ]
    },
    {
      "cell_type": "markdown",
      "source": [
        "## 4.4 - Sets (conjuntos)"
      ],
      "metadata": {
        "id": "bcv_UOR_dabJ"
      }
    },
    {
      "cell_type": "code",
      "source": [
        "# Criando conjuntos\n",
        "nomes = {'Douglas', 'Daniela', 'Pedro', 'Maria'}\n",
        "pesos = {78, 32, 86, 74}\n",
        "print(nomes)\n",
        "print(pesos)\n",
        "print(type(nomes))"
      ],
      "metadata": {
        "colab": {
          "base_uri": "https://localhost:8080/"
        },
        "id": "jq8ee6oudZKH",
        "outputId": "37e85235-7f65-4a6d-c591-8aa8260e9a6a"
      },
      "execution_count": null,
      "outputs": [
        {
          "output_type": "stream",
          "name": "stdout",
          "text": [
            "{'Pedro', 'Douglas', 'Maria', 'Daniela'}\n",
            "{32, 78, 74, 86}\n",
            "<class 'set'>\n"
          ]
        }
      ]
    },
    {
      "cell_type": "code",
      "source": [
        "# impossibilidade de receber valores duplicados\n",
        "alturas = {1.85, 1.34, 1.78, 1.69, 1.34}\n",
        "print(alturas)"
      ],
      "metadata": {
        "colab": {
          "base_uri": "https://localhost:8080/"
        },
        "id": "9pK8GYoVdyX9",
        "outputId": "20bf706c-f41d-43aa-95bb-83b05b08305c"
      },
      "execution_count": null,
      "outputs": [
        {
          "output_type": "stream",
          "name": "stdout",
          "text": [
            "{1.69, 1.78, 1.85, 1.34}\n"
          ]
        }
      ]
    },
    {
      "cell_type": "code",
      "source": [
        "# Adição de elemento único em um conjunto\n",
        "loja_a = {'garfo', 'faca', 'caneca', 'copo'}\n",
        "loja_b = {'copo', 'caneca', 'taça', 'tigela'}\n",
        "print(loja_a)\n",
        "print(loja_b)\n",
        "loja_a.add('prato')\n",
        "loja_b.add('pote')\n",
        "print(loja_a)\n",
        "print(loja_b)\n",
        "# Adição de mais de um elemento em um conjunto\n",
        "loja_a.update(['bule', 'chaleira'])\n",
        "print(loja_a)\n",
        "# União de conjuntos\n",
        "loja_c = loja_a.union(loja_b)\n",
        "print(loja_c)"
      ],
      "metadata": {
        "colab": {
          "base_uri": "https://localhost:8080/"
        },
        "id": "P9M4AQ65eABm",
        "outputId": "98ab53c3-18e4-46c0-f0a1-68c6daa507d3"
      },
      "execution_count": null,
      "outputs": [
        {
          "output_type": "stream",
          "name": "stdout",
          "text": [
            "{'garfo', 'faca', 'copo', 'caneca'}\n",
            "{'copo', 'taça', 'tigela', 'caneca'}\n",
            "{'garfo', 'copo', 'caneca', 'faca', 'prato'}\n",
            "{'copo', 'tigela', 'taça', 'pote', 'caneca'}\n",
            "{'garfo', 'copo', 'bule', 'caneca', 'chaleira', 'faca', 'prato'}\n",
            "{'garfo', 'copo', 'tigela', 'bule', 'chaleira', 'caneca', 'taça', 'faca', 'pote', 'prato'}\n"
          ]
        }
      ]
    },
    {
      "cell_type": "code",
      "source": [
        "# Intersecção de conjuntos\n",
        "loja_a = {'garfo', 'faca', 'caneca', 'copo'}\n",
        "loja_b = {'copo', 'caneca', 'taça', 'tigela'}\n",
        "interseccao = loja_a.intersection(loja_b)\n",
        "print(interseccao)"
      ],
      "metadata": {
        "colab": {
          "base_uri": "https://localhost:8080/"
        },
        "id": "E4z5FWp7fy9f",
        "outputId": "10135c71-1091-4600-9ff8-779516f80527"
      },
      "execution_count": null,
      "outputs": [
        {
          "output_type": "stream",
          "name": "stdout",
          "text": [
            "{'copo', 'caneca'}\n"
          ]
        }
      ]
    },
    {
      "cell_type": "code",
      "source": [
        "# Verificando os elementos exclusivos na comparação de conjuntos\n",
        "loja_a = {'garfo', 'faca', 'caneca', 'copo'}\n",
        "loja_b = {'copo', 'caneca', 'taça', 'tigela'}\n",
        "only_a = loja_a.difference(loja_b)\n",
        "only_b = loja_b.difference(loja_a)\n",
        "print(only_a)\n",
        "print(only_b)"
      ],
      "metadata": {
        "colab": {
          "base_uri": "https://localhost:8080/"
        },
        "id": "E6qC2YBOgN4p",
        "outputId": "892962cf-7388-4297-fc87-f808f0691761"
      },
      "execution_count": null,
      "outputs": [
        {
          "output_type": "stream",
          "name": "stdout",
          "text": [
            "{'garfo', 'faca'}\n",
            "{'taça', 'tigela'}\n"
          ]
        }
      ]
    },
    {
      "cell_type": "code",
      "source": [
        "# Excluíndo elementos de um conjunto pelo método remove\n",
        "loja_a = {'garfo', 'faca', 'caneca', 'copo'}\n",
        "loja_b = {'copo', 'caneca', 'taça', 'tigela'}\n",
        "loja_a.remove('faca')\n",
        "print(loja_a)\n",
        "'''\n",
        "esse método remove o elemento caso ele exista, caso não existe ele 'crasha' o\n",
        "código\n",
        "'''"
      ],
      "metadata": {
        "colab": {
          "base_uri": "https://localhost:8080/",
          "height": 193
        },
        "id": "aa0GR0jaiWVC",
        "outputId": "8d0948f9-1f18-48ea-c5f8-249d815cf7fe"
      },
      "execution_count": null,
      "outputs": [
        {
          "output_type": "error",
          "ename": "KeyError",
          "evalue": "'carro'",
          "traceback": [
            "\u001b[0;31m---------------------------------------------------------------------------\u001b[0m",
            "\u001b[0;31mKeyError\u001b[0m                                  Traceback (most recent call last)",
            "\u001b[0;32m<ipython-input-50-695fa26e86da>\u001b[0m in \u001b[0;36m<cell line: 4>\u001b[0;34m()\u001b[0m\n\u001b[1;32m      2\u001b[0m \u001b[0mloja_a\u001b[0m \u001b[0;34m=\u001b[0m \u001b[0;34m{\u001b[0m\u001b[0;34m'garfo'\u001b[0m\u001b[0;34m,\u001b[0m \u001b[0;34m'faca'\u001b[0m\u001b[0;34m,\u001b[0m \u001b[0;34m'caneca'\u001b[0m\u001b[0;34m,\u001b[0m \u001b[0;34m'copo'\u001b[0m\u001b[0;34m}\u001b[0m\u001b[0;34m\u001b[0m\u001b[0;34m\u001b[0m\u001b[0m\n\u001b[1;32m      3\u001b[0m \u001b[0mloja_b\u001b[0m \u001b[0;34m=\u001b[0m \u001b[0;34m{\u001b[0m\u001b[0;34m'copo'\u001b[0m\u001b[0;34m,\u001b[0m \u001b[0;34m'caneca'\u001b[0m\u001b[0;34m,\u001b[0m \u001b[0;34m'taça'\u001b[0m\u001b[0;34m,\u001b[0m \u001b[0;34m'tigela'\u001b[0m\u001b[0;34m}\u001b[0m\u001b[0;34m\u001b[0m\u001b[0;34m\u001b[0m\u001b[0m\n\u001b[0;32m----> 4\u001b[0;31m \u001b[0mloja_a\u001b[0m\u001b[0;34m.\u001b[0m\u001b[0mremove\u001b[0m\u001b[0;34m(\u001b[0m\u001b[0;34m'carro'\u001b[0m\u001b[0;34m)\u001b[0m\u001b[0;34m\u001b[0m\u001b[0;34m\u001b[0m\u001b[0m\n\u001b[0m\u001b[1;32m      5\u001b[0m \u001b[0mprint\u001b[0m\u001b[0;34m(\u001b[0m\u001b[0mloja_a\u001b[0m\u001b[0;34m)\u001b[0m\u001b[0;34m\u001b[0m\u001b[0;34m\u001b[0m\u001b[0m\n",
            "\u001b[0;31mKeyError\u001b[0m: 'carro'"
          ]
        }
      ]
    },
    {
      "cell_type": "code",
      "source": [
        "# Excluíndo elementos de um conjunto pelo método dicard\n",
        "loja_a = {'garfo', 'faca', 'caneca', 'copo'}\n",
        "loja_b = {'copo', 'caneca', 'taça', 'tigela'}\n",
        "loja_a.discard('carro')\n",
        "print(loja_a)"
      ],
      "metadata": {
        "colab": {
          "base_uri": "https://localhost:8080/"
        },
        "id": "2-vFaF7-i0Il",
        "outputId": "f875058c-2eba-40f6-aab6-eb1465a5b5ee"
      },
      "execution_count": null,
      "outputs": [
        {
          "output_type": "stream",
          "name": "stdout",
          "text": [
            "{'garfo', 'faca', 'copo', 'caneca'}\n"
          ]
        }
      ]
    },
    {
      "cell_type": "code",
      "source": [
        "# Excluindo todos os elementos de um conjunto\n",
        "loja_a = {'garfo', 'faca', 'caneca', 'copo'}\n",
        "loja_a.clear()\n",
        "print(loja_a)"
      ],
      "metadata": {
        "colab": {
          "base_uri": "https://localhost:8080/"
        },
        "id": "M-BFAy7OjImT",
        "outputId": "6b32dc4f-035a-47de-d817-61f12cde4c9d"
      },
      "execution_count": null,
      "outputs": [
        {
          "output_type": "stream",
          "name": "stdout",
          "text": [
            "set()\n"
          ]
        }
      ]
    },
    {
      "cell_type": "markdown",
      "source": [
        "# 5 - Estruturas de controle de fluxo"
      ],
      "metadata": {
        "id": "bbPX2bh-mMPQ"
      }
    },
    {
      "cell_type": "markdown",
      "source": [
        "## 5.1 - IF ELIF ELSE"
      ],
      "metadata": {
        "id": "1tOYC_NumRfX"
      }
    },
    {
      "cell_type": "code",
      "source": [
        "'''\n",
        "Imagine que você deseja pedir ao usuário que digite uma nota de 0 a 10\n",
        "e caso a nota seja maior ou igual 6 seja exibida a mensagem: Parabéns você foi\n",
        "aprovado!, caso contrário exiba: Infelizmente você não foi aprovado dessa vez!\n",
        "continue tentando.\n",
        "'''\n",
        "nota = float(input('Informe uma nota de 0 a 10: '))\n",
        "if nota >= 6:\n",
        "  print('Parabéns você foi aprovado!')\n",
        "else:\n",
        "  print('Infelizmente você não foi aprovado dessa vez! continue tentando.')"
      ],
      "metadata": {
        "colab": {
          "base_uri": "https://localhost:8080/"
        },
        "id": "MjvY_ccvmX58",
        "outputId": "af3399cc-b7c4-410c-9caa-4ddcc457669c"
      },
      "execution_count": null,
      "outputs": [
        {
          "output_type": "stream",
          "name": "stdout",
          "text": [
            "Informe uma nota de 0 a 10: 5.99999\n",
            "Infelizmente você não foi aprovado dessa vez! continue tentando.\n"
          ]
        }
      ]
    },
    {
      "cell_type": "code",
      "source": [
        "'''\n",
        "Agora imagine que você tem três possibilidades:\n",
        "1ª Nota maior ou igual a 6: 'Parabéns você foi aprovado!'\n",
        "2ª Nota menor que 6, mas maior ou igual a 4: 'Você deverá fazer uma prova de recuperação'\n",
        "3ª Nota menor que 4:'Infelizmente você não foi aprovado dessa vez! continue tentando.'\n",
        "'''\n",
        "nota = float(input('Informe uma nota de 0 a 10: '))\n",
        "if nota >= 6:\n",
        "  print('Parabéns você foi aprovado!')\n",
        "elif nota >= 4:\n",
        "  print('Você deverá fazer uma prova de recuperação')\n",
        "else:\n",
        "  print('Infelizmente você não foi aprovado dessa vez! continue tentando.')"
      ],
      "metadata": {
        "colab": {
          "base_uri": "https://localhost:8080/"
        },
        "id": "ezSyN1wos0vf",
        "outputId": "61a84f3e-a089-4042-8159-2217b055d037"
      },
      "execution_count": null,
      "outputs": [
        {
          "output_type": "stream",
          "name": "stdout",
          "text": [
            "Informe uma nota de 0 a 10: 3.999\n",
            "Infelizmente você não foi aprovado dessa vez! continue tentando.\n"
          ]
        }
      ]
    },
    {
      "cell_type": "code",
      "source": [
        "'''\n",
        "Agora imagine que você tem quatro possibilidades:\n",
        "1ª Nota maior ou igual a 6: 'Parabéns você foi aprovado!'\n",
        "2ª Nota menor que 6, mas maior ou igual a 4: 'Você deverá fazer uma prova de recuperação online'\n",
        "3ª Nota menor 4, mas maio ou igual a 2: 'Você deverá fazer uma prova de recuperação presencial'\n",
        "4ª Nota menor que 2:'Infelizmente você não foi aprovado dessa vez! continue tentando.'\n",
        "'''\n",
        "nota = float(input('Informe uma nota de 0 a 10: '))\n",
        "if nota >= 6:\n",
        "  print('Parabéns você foi aprovado!')\n",
        "elif nota >= 4:\n",
        "  print('Você deverá fazer uma prova de recuperação online')\n",
        "elif nota >= 2:\n",
        "  print('Você deverá fazer uma prova de recuperação presencial')\n",
        "else:\n",
        "  print('Infelizmente você não foi aprovado dessa vez! continue tentando.')"
      ],
      "metadata": {
        "colab": {
          "base_uri": "https://localhost:8080/"
        },
        "id": "34yjARJcubGF",
        "outputId": "e30f73d1-ad6d-4373-d9c8-01b9ef85d1e7"
      },
      "execution_count": null,
      "outputs": [
        {
          "output_type": "stream",
          "name": "stdout",
          "text": [
            "Informe uma nota de 0 a 10: 1.99\n",
            "Infelizmente você não foi aprovado dessa vez! continue tentando.\n"
          ]
        }
      ]
    }
  ]
}