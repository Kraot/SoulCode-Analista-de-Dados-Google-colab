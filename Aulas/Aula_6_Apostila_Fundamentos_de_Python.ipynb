{
  "nbformat": 4,
  "nbformat_minor": 0,
  "metadata": {
    "colab": {
      "provenance": [],
      "include_colab_link": true
    },
    "kernelspec": {
      "name": "python3",
      "display_name": "Python 3"
    },
    "language_info": {
      "name": "python"
    }
  },
  "cells": [
    {
      "cell_type": "markdown",
      "metadata": {
        "id": "view-in-github",
        "colab_type": "text"
      },
      "source": [
        "<a href=\"https://colab.research.google.com/github/Kraot/SoulCode-Analista-de-Dados-Google-colab/blob/main/Aulas/Aula_6_Apostila_Fundamentos_de_Python.ipynb\" target=\"_parent\"><img src=\"https://colab.research.google.com/assets/colab-badge.svg\" alt=\"Open In Colab\"/></a>"
      ]
    },
    {
      "cell_type": "markdown",
      "source": [
        "# 6 - Compreensão de listas"
      ],
      "metadata": {
        "id": "SXiyXpM6pMqx"
      }
    },
    {
      "cell_type": "code",
      "source": [
        "'''\n",
        "Exemplo 01: suponha que você tem uma lista com idades em anos e esta lista está\n",
        "desatualizada em exatamente 1 ano, ou seja, para atualizá-la você precisa\n",
        "acrescentar 1 ano em cada idade presente na lista\n",
        "'''\n",
        "idades = [47, 8, 68, 67, 43, 37]\n",
        "\n",
        "'''\n",
        "Método 01 - Usando o for\n",
        "'''\n",
        "novas_idades = []\n",
        "for idade in idades:\n",
        "  novas_idades.append(idade+1)\n",
        "idades = novas_idades\n",
        "print(idades)"
      ],
      "metadata": {
        "colab": {
          "base_uri": "https://localhost:8080/"
        },
        "id": "bOIXwW3apS2V",
        "outputId": "1c9328ab-e960-4585-ae02-8d970fb47665"
      },
      "execution_count": null,
      "outputs": [
        {
          "output_type": "stream",
          "name": "stdout",
          "text": [
            "[48, 9, 69, 68, 44, 38]\n"
          ]
        }
      ]
    },
    {
      "cell_type": "code",
      "source": [
        "idades = [47, 8, 68, 67, 43, 37]\n",
        "for i in range(len(idades)):\n",
        "  idades[i] = idades[i] + 1\n",
        "print(idades)"
      ],
      "metadata": {
        "colab": {
          "base_uri": "https://localhost:8080/"
        },
        "id": "yidRG1vLsFU_",
        "outputId": "55c6a8a2-8a99-4dda-87e8-f0a55d2ad37b"
      },
      "execution_count": null,
      "outputs": [
        {
          "output_type": "stream",
          "name": "stdout",
          "text": [
            "[48, 9, 69, 68, 44, 38]\n"
          ]
        }
      ]
    },
    {
      "cell_type": "code",
      "source": [
        "# Método 2 (usando compreensão de listas)\n",
        "idades = [47, 8, 68, 67, 43, 37]\n",
        "\n",
        "idades = [idade + 1 for idade in idades]\n",
        "print(idades)"
      ],
      "metadata": {
        "colab": {
          "base_uri": "https://localhost:8080/"
        },
        "id": "oX0noyEBqrTk",
        "outputId": "3ffe8f45-a410-466d-cce7-00bbe2a7cb57"
      },
      "execution_count": null,
      "outputs": [
        {
          "output_type": "stream",
          "name": "stdout",
          "text": [
            "[48, 9, 69, 68, 44, 38]\n"
          ]
        }
      ]
    },
    {
      "cell_type": "code",
      "source": [
        "'''\n",
        "Exemplo 02: suponha que você tem duas lista de igual tamanho sendo uma com\n",
        "alturas em metros e a outra com pesos em Kg. Considerando que a posição de cada\n",
        "elemento em uma lista corresponde ao mesmo índice desse elemento na outra lista\n",
        "você deseja criar uma lista com imc para cada elemento.\n",
        "'''\n",
        "alturas = [1.85,1.23,1.75,1.67,1.82,1.73]\n",
        "pesos = [70,22,87,64,96,68]\n"
      ],
      "metadata": {
        "id": "vMnBvmaOtNL-"
      },
      "execution_count": null,
      "outputs": []
    },
    {
      "cell_type": "code",
      "source": [
        "alturas = [1.85,1.23,1.75,1.67,1.82,1.73]\n",
        "pesos = [70,22,87,64,96,68]\n",
        "imc = []\n",
        "for i in range(len(pesos)):\n",
        "  imc.append(round(pesos[i]/alturas[i]**2,2))\n",
        "print(imc)"
      ],
      "metadata": {
        "colab": {
          "base_uri": "https://localhost:8080/"
        },
        "id": "A3UhvB0LtYJn",
        "outputId": "1b18583a-1e78-4203-b74c-c630711ad598"
      },
      "execution_count": null,
      "outputs": [
        {
          "output_type": "stream",
          "name": "stdout",
          "text": [
            "[20.45, 14.54, 28.41, 22.95, 28.98, 22.72]\n"
          ]
        }
      ]
    },
    {
      "cell_type": "code",
      "source": [
        "alturas = [1.85,1.23,1.75,1.67,1.82,1.73]\n",
        "pesos = [70,22,87,64,96,68]\n",
        "imc = []\n",
        "for i,v in enumerate(pesos):\n",
        "  imc.append(round(v/alturas[i]**2,2))\n",
        "print(imc)"
      ],
      "metadata": {
        "colab": {
          "base_uri": "https://localhost:8080/"
        },
        "id": "k0XnmJcCtYfJ",
        "outputId": "c90de1b9-31de-4090-e187-7e6a7a3a7b47"
      },
      "execution_count": null,
      "outputs": [
        {
          "output_type": "stream",
          "name": "stdout",
          "text": [
            "[20.45, 14.54, 28.41, 22.95, 28.98, 22.72]\n"
          ]
        }
      ]
    },
    {
      "cell_type": "code",
      "source": [
        "alturas = [1.85,1.23,1.75,1.67,1.82,1.73]\n",
        "pesos = [70,22,87,64,96,68]\n",
        "imc = [pesos[i]/alturas[i]**2 for i in range(len(pesos))]\n",
        "print(imc)"
      ],
      "metadata": {
        "colab": {
          "base_uri": "https://localhost:8080/"
        },
        "id": "UflzP_Wo1C3h",
        "outputId": "eb131153-039c-4e82-e678-97d40d807146"
      },
      "execution_count": null,
      "outputs": [
        {
          "output_type": "stream",
          "name": "stdout",
          "text": [
            "[20.45288531775018, 14.541608830722454, 28.408163265306122, 22.948115744558788, 28.982007003985025, 22.720438370810918]\n"
          ]
        }
      ]
    },
    {
      "cell_type": "code",
      "source": [
        "'''\n",
        "Imagine que você tem uma lista chamada lista e dentro dela você tem outras duas\n",
        "listas, sendo comidas = ['Arroz', 'Feijão', 'Batata', 'Macarrão'] e a outra\n",
        "bebidas = ['Tubaína', 'Cajuína', 'Dolly', 'Baré']\n",
        "e você deseja guardar no objeto bebida_favorita o texto fatiado Dolly\n",
        "'''\n",
        "\n",
        "lista = [['Arroz','Feijão','Batata','Macarrão'],['Tubaína','Cajuína','Dolly','Baré']]\n",
        "bebida_favorita = lista[1][2]\n",
        "print(bebida_favorita)"
      ],
      "metadata": {
        "colab": {
          "base_uri": "https://localhost:8080/"
        },
        "id": "oI7iQkyjKJGp",
        "outputId": "f37c3f00-65b7-491d-9a95-27e1d983f52e"
      },
      "execution_count": null,
      "outputs": [
        {
          "output_type": "stream",
          "name": "stdout",
          "text": [
            "Dolly\n"
          ]
        }
      ]
    },
    {
      "cell_type": "code",
      "source": [
        "alturas = [1.85,1.23,1.75,1.67,1.82,1.73]\n",
        "pesos = [70,22,87,64,96,68]\n",
        "dados = list(zip(pesos, alturas))\n",
        "print(dados)\n",
        "imc = [i[0]/i[1]**2 for i in dados]\n",
        "print(imc)"
      ],
      "metadata": {
        "colab": {
          "base_uri": "https://localhost:8080/"
        },
        "id": "vAbGUbXQHLjI",
        "outputId": "363b73ab-1088-4782-dc86-5c5e4ba61c67"
      },
      "execution_count": null,
      "outputs": [
        {
          "output_type": "stream",
          "name": "stdout",
          "text": [
            "[(70, 1.85), (22, 1.23), (87, 1.75), (64, 1.67), (96, 1.82), (68, 1.73)]\n",
            "[20.45288531775018, 14.541608830722454, 28.408163265306122, 22.948115744558788, 28.982007003985025, 22.720438370810918]\n"
          ]
        }
      ]
    },
    {
      "cell_type": "code",
      "source": [
        "alturas = [1.85,1.23,1.75,1.67,1.82,1.73]\n",
        "pesos = [70,22,87,64,96,68]\n",
        "imc = [round(peso / altura**2,2) for peso, altura in zip(pesos, alturas)]\n",
        "print(imc)"
      ],
      "metadata": {
        "colab": {
          "base_uri": "https://localhost:8080/"
        },
        "id": "KxZ7qZj1Q5hb",
        "outputId": "fb24bf47-df5a-45af-9d61-49f443242b7b"
      },
      "execution_count": null,
      "outputs": [
        {
          "output_type": "stream",
          "name": "stdout",
          "text": [
            "[20.45, 14.54, 28.41, 22.95, 28.98, 22.72]\n"
          ]
        }
      ]
    },
    {
      "cell_type": "markdown",
      "source": [
        "# 7 - Funções definidas pelo usuário"
      ],
      "metadata": {
        "id": "qVSamviEWCSQ"
      }
    },
    {
      "cell_type": "code",
      "source": [
        "'''\n",
        "Imagine que você deseja criar uma função que imprima o \"Olá!\" todas as vezes\n",
        "que essa função for executada, sem ter a necessidade de usar o print, por\n",
        "exemplo\n",
        "'''\n",
        "def oi():\n",
        "  print('Olá!')\n",
        "'''\n",
        "O processo de criação de uma função é muito simples, devemos começar com a\n",
        "palavra reservada \"def\" seguido de um nome que vamos usar para chamar a função\n",
        "e dpois parenteses para especificar os argumentos da função, lembrando que os\n",
        "argumentos de uma função, são opcionais, observe que no caso de função do\n",
        "exemplo acima, não temos argumentos obrigatórios, e além disso, essa função não\n",
        "possui retorno\n",
        "'''\n",
        "\n",
        "'''\n",
        "Suponha agora que você deseja guardar o texto de saída da função acima em uma\n",
        "variável qualquer\n",
        "'''\n",
        "#oi()\n",
        "\n",
        "'''\n",
        "Observe que a função cumpre o seu papel, ou seja, quando executada, exibe no\n",
        "console o texto \"Olá!\"\n",
        "'''\n",
        "\n",
        "'''\n",
        "agora vamos tentar guardar esse texto em uma variável chamada texto\n",
        "'''\n",
        "\n",
        "texto = oi()\n",
        "print(texto)\n",
        "\n",
        "'''\n",
        "Nesse caso não temos nada guardado na variável texto pq essa função\n",
        "não tem retorno\n",
        "'''"
      ],
      "metadata": {
        "colab": {
          "base_uri": "https://localhost:8080/",
          "height": 70
        },
        "id": "qWFlIBBnWJfS",
        "outputId": "7b7f14cd-a6dd-4cd3-b73c-99e5c9aa6612"
      },
      "execution_count": null,
      "outputs": [
        {
          "output_type": "stream",
          "name": "stdout",
          "text": [
            "Olá!\n",
            "None\n"
          ]
        },
        {
          "output_type": "execute_result",
          "data": {
            "text/plain": [
              "'\\nNesse caso não temos nada guardado na variável texto pq essa função\\nnão tem retorno\\n'"
            ],
            "application/vnd.google.colaboratory.intrinsic+json": {
              "type": "string"
            }
          },
          "metadata": {},
          "execution_count": 76
        }
      ]
    },
    {
      "cell_type": "code",
      "source": [
        "def oi():\n",
        "  return 'Olá!'\n",
        "'''\n",
        "Agora a função oi possui como retorno o texto 'Olá!'\n",
        "e como ela tem retorno esse retorno pode ser armazenado\n",
        "em uma variável, por exemplo\n",
        "'''\n",
        "\n",
        "texto = oi()\n",
        "print(texto)"
      ],
      "metadata": {
        "colab": {
          "base_uri": "https://localhost:8080/"
        },
        "id": "wEyxkJvkZ4n7",
        "outputId": "4c67cc99-ac28-4c9d-badc-0b3c4609be7b"
      },
      "execution_count": null,
      "outputs": [
        {
          "output_type": "stream",
          "name": "stdout",
          "text": [
            "Olá!\n"
          ]
        }
      ]
    },
    {
      "cell_type": "markdown",
      "source": [
        "## 7.1 - Funções com argumentos nomeados e argumentos de posição"
      ],
      "metadata": {
        "id": "hIb1h3Ukcbco"
      }
    },
    {
      "cell_type": "code",
      "source": [
        "'''\n",
        "Imagine que você precisa fazer uma função que calcula automaticamente o valor\n",
        "total do desconto sobre o valor da compra de um cliente, e esse desconto total,\n",
        "depende de diferentes percentuais que podem ser aplicados sobre o valor total\n",
        "da compra do cliente, tais percentuais podem ser referentes a cupon de desconto,\n",
        "pagamento à vista em pix, clube de vantagens vip e desconto para professores.\n",
        "suponha que nossos clientes possuem todos os descontos e as taxas são fixas:\n",
        "cupon 1%\n",
        "pix 2%\n",
        "vip 3%\n",
        "prof 4%\n",
        "'''\n",
        "def desconto(valor):\n",
        "  cupon = valor * 0.01\n",
        "  pix = valor * 0.02\n",
        "  vip = valor * 0.03\n",
        "  prof = valor * 0.04\n",
        "  return cupon + pix + vip + prof"
      ],
      "metadata": {
        "id": "3Z-K46Unb-Hr"
      },
      "execution_count": null,
      "outputs": []
    },
    {
      "cell_type": "code",
      "source": [
        "print(f'O valor do desconto na sua compra foi de R$ {desconto(1000)}')"
      ],
      "metadata": {
        "colab": {
          "base_uri": "https://localhost:8080/"
        },
        "id": "1_rFXqF0eCRE",
        "outputId": "070fdd7b-68c7-4ce3-bbd5-c490932fad50"
      },
      "execution_count": null,
      "outputs": [
        {
          "output_type": "stream",
          "name": "stdout",
          "text": [
            "O valor do desconto na sua compra foi de R$ 100.0\n"
          ]
        }
      ]
    },
    {
      "cell_type": "code",
      "source": [
        "'''\n",
        "Agora imagine que cupon, pix, vip e prof são variáveis, ou seja\n",
        "cada vez que a função for executada podem receber valores diferentes,\n",
        "nesse caso devemos colocá-los também como argumentos na construção\n",
        "da função\n",
        "'''\n",
        "\n",
        "def desconto(valor, cupon, pix, vip, prof):\n",
        "  desconto = valor * cupon + valor * pix + valor * vip + valor * prof\n",
        "  return desconto"
      ],
      "metadata": {
        "id": "eX7dpAIdejsn"
      },
      "execution_count": null,
      "outputs": []
    },
    {
      "cell_type": "code",
      "source": [
        "desconto(1000,0.01,0.02,0.03,0.04)"
      ],
      "metadata": {
        "colab": {
          "base_uri": "https://localhost:8080/"
        },
        "id": "o_VqWK9JhZSY",
        "outputId": "c9e21683-a60e-45be-82af-ad33c08bccd4"
      },
      "execution_count": null,
      "outputs": [
        {
          "output_type": "execute_result",
          "data": {
            "text/plain": [
              "100.0"
            ]
          },
          "metadata": {},
          "execution_count": 87
        }
      ]
    },
    {
      "cell_type": "code",
      "source": [
        "desconto(vip=0.03,valor=1000,pix=0.02,cupon=0.01,prof=0.04)"
      ],
      "metadata": {
        "colab": {
          "base_uri": "https://localhost:8080/"
        },
        "id": "nQK7eWU-h3lM",
        "outputId": "f5909971-41dc-47e2-d8f4-6ffcc868aa08"
      },
      "execution_count": null,
      "outputs": [
        {
          "output_type": "execute_result",
          "data": {
            "text/plain": [
              "100.0"
            ]
          },
          "metadata": {},
          "execution_count": 90
        }
      ]
    }
  ]
}