{
  "nbformat": 4,
  "nbformat_minor": 0,
  "metadata": {
    "colab": {
      "provenance": [],
      "include_colab_link": true
    },
    "kernelspec": {
      "name": "python3",
      "display_name": "Python 3"
    },
    "language_info": {
      "name": "python"
    }
  },
  "cells": [
    {
      "cell_type": "markdown",
      "metadata": {
        "id": "view-in-github",
        "colab_type": "text"
      },
      "source": [
        "<a href=\"https://colab.research.google.com/github/Kraot/SoulCode-Analista-de-Dados-Google-colab/blob/main/Aulas/Aula_2_Apostila_Fundamentos_de_Python.ipynb\" target=\"_parent\"><img src=\"https://colab.research.google.com/assets/colab-badge.svg\" alt=\"Open In Colab\"/></a>"
      ]
    },
    {
      "cell_type": "markdown",
      "source": [
        "## 3.3 - Posições de caracteres nas strings"
      ],
      "metadata": {
        "id": "VxC9k6E64GY6"
      }
    },
    {
      "cell_type": "code",
      "source": [
        "'''\n",
        "Este bloco traz possível soluções para quando queremos saber qual caracter temos\n",
        "em uma posição (índice) ou sequência de caracteres em um intervalo\n",
        "'''\n",
        "# 0    1   2   3   4   5  6  7  8  9 10 11 12 13 (índice)\n",
        "# -14 -13 -12 -11 -10 -9 -8 -7 -6 -5 -4 -3 -2 -1 (índice reverso)\n",
        "# 1º 2º 3º 4º 5º 6º 7º 8º 9º 10º 11º 12º 13º 14º (ordinal)\n",
        "# d  o  u  g  @  g  m  a  i   l   .   c   o   m\n",
        "email = 'doug@gmail.com'\n",
        "print(email[4])\n",
        "print(email[:]) # imprimir um intervalo de todos os caracteres da string email\n",
        "print(email[0:4]) # selecionando o intervalo a partir do índice 0 até o índice 3\n",
        "print(email[2:]) # seleciona o intervalo a partir do índice 2 até o final\n",
        "print(email[:5]) # seleciona o intervalo de todos os caracteres até o de índice 4\n",
        "print(email[0:5:2]) # seleciona último caracter de uma sequência\n",
        "'''\n",
        "resumo do fatiamento de strings\n",
        "nome_variavel[indice de começo : índice de parada : de quanto em quanto]\n",
        "nome_variavel[início : fim : passo]\n",
        "'''"
      ],
      "metadata": {
        "colab": {
          "base_uri": "https://localhost:8080/"
        },
        "id": "Sfbd1k1O7QR1",
        "outputId": "0ba9e87c-588a-4e7b-b31b-2a4a7c5656da"
      },
      "execution_count": null,
      "outputs": [
        {
          "output_type": "stream",
          "name": "stdout",
          "text": [
            "@\n",
            "doug@gmail.com\n",
            "doug\n",
            "ug@gmail.com\n",
            "doug@\n",
            "du@\n"
          ]
        }
      ]
    },
    {
      "cell_type": "code",
      "source": [
        "# Contar a quantidade de carcteres em uma sequência\n",
        "email = 'doug@gmail.com'\n",
        "print(len(email))\n",
        "qtde = len(email)\n",
        "print(qtde)"
      ],
      "metadata": {
        "colab": {
          "base_uri": "https://localhost:8080/"
        },
        "id": "AiORW5TIMpaQ",
        "outputId": "cec16e7b-aaf7-437a-cb10-4b5084c9381f"
      },
      "execution_count": null,
      "outputs": [
        {
          "output_type": "stream",
          "name": "stdout",
          "text": [
            "14\n",
            "14\n"
          ]
        }
      ]
    },
    {
      "cell_type": "code",
      "source": [
        "cpf = 12345678910\n",
        "print(type(cpf))\n",
        "cpf = str(cpf)\n",
        "print(type(cpf))"
      ],
      "metadata": {
        "colab": {
          "base_uri": "https://localhost:8080/"
        },
        "id": "pkS6qnWoOK-B",
        "outputId": "b774549b-f52c-43c7-bf29-a21ec59383d3"
      },
      "execution_count": null,
      "outputs": [
        {
          "output_type": "stream",
          "name": "stdout",
          "text": [
            "<class 'int'>\n",
            "<class 'str'>\n"
          ]
        }
      ]
    },
    {
      "cell_type": "code",
      "source": [
        "# Operador IN\n",
        "\n",
        "email = 'doug@gmail.com'\n",
        "\n",
        "print('u' in email)"
      ],
      "metadata": {
        "colab": {
          "base_uri": "https://localhost:8080/"
        },
        "id": "F7h3tPDvPc3j",
        "outputId": "0cd98078-98c2-4152-8e04-f11b7ddec5b3"
      },
      "execution_count": null,
      "outputs": [
        {
          "output_type": "stream",
          "name": "stdout",
          "text": [
            "True\n"
          ]
        }
      ]
    },
    {
      "cell_type": "code",
      "source": [
        "# Operador NOT IN\n",
        "email = 'doug@gmail.com'\n",
        "\n",
        "print('u' not in email)"
      ],
      "metadata": {
        "colab": {
          "base_uri": "https://localhost:8080/"
        },
        "id": "-mAEYrB8Qaty",
        "outputId": "d7cbda52-4196-43d5-9eed-858fcac927c8"
      },
      "execution_count": null,
      "outputs": [
        {
          "output_type": "stream",
          "name": "stdout",
          "text": [
            "False\n"
          ]
        }
      ]
    },
    {
      "cell_type": "code",
      "source": [
        "# Método capitalize converte em maiúscula apenas a primeira letra de uma string\n",
        "nome = 'douglas'\n",
        "print(nome)\n",
        "nome = nome.capitalize()\n",
        "print(nome)"
      ],
      "metadata": {
        "colab": {
          "base_uri": "https://localhost:8080/"
        },
        "id": "xtJbgm3kQjme",
        "outputId": "b1325017-8759-431d-fd03-4a12cc0df5cd"
      },
      "execution_count": null,
      "outputs": [
        {
          "output_type": "stream",
          "name": "stdout",
          "text": [
            "douglas\n",
            "Douglas\n"
          ]
        }
      ]
    },
    {
      "cell_type": "code",
      "source": [
        "# Método Title, serve para deixar a primeira letra de cada palavra maiúscula\n",
        "nome = 'douglas almeida ribeiro'\n",
        "print(nome)\n",
        "nome = nome.capitalize()\n",
        "print(nome)\n",
        "nome = nome.title()\n",
        "print(nome)"
      ],
      "metadata": {
        "colab": {
          "base_uri": "https://localhost:8080/"
        },
        "id": "Rmr6_apVRnWb",
        "outputId": "9be50b45-fbcd-4b40-c84f-173ab44c3b0e"
      },
      "execution_count": null,
      "outputs": [
        {
          "output_type": "stream",
          "name": "stdout",
          "text": [
            "douglas almeida ribeiro\n",
            "Douglas almeida ribeiro\n",
            "Douglas Almeida Ribeiro\n"
          ]
        }
      ]
    },
    {
      "cell_type": "code",
      "source": [
        "# Método upper deixa todas as letras em maiúscula\n",
        "nome = 'Douglas de almeida ribeiro'\n",
        "print(nome)\n",
        "nome = nome.upper()\n",
        "print(nome)"
      ],
      "metadata": {
        "colab": {
          "base_uri": "https://localhost:8080/"
        },
        "id": "eAena3chSSb3",
        "outputId": "898e9dc2-f99e-4662-98d3-e334226fdc29"
      },
      "execution_count": null,
      "outputs": [
        {
          "output_type": "stream",
          "name": "stdout",
          "text": [
            "Douglas de almeida ribeiro\n",
            "DOUGLAS DE ALMEIDA RIBEIRO\n"
          ]
        }
      ]
    },
    {
      "cell_type": "code",
      "source": [
        "# Método para contar quantas vezes um determinado caracter aparece em uma string\n",
        "email = 'doug@gmail.com'\n",
        "email.count('@')"
      ],
      "metadata": {
        "colab": {
          "base_uri": "https://localhost:8080/"
        },
        "id": "-TC7UsNwTT5x",
        "outputId": "2730074a-94f4-4114-dd47-d5e06b242600"
      },
      "execution_count": null,
      "outputs": [
        {
          "output_type": "execute_result",
          "data": {
            "text/plain": [
              "1"
            ]
          },
          "metadata": {},
          "execution_count": 57
        }
      ]
    },
    {
      "cell_type": "code",
      "source": [
        "# Método que mostra a posição de um determinado caracter (caso apareça mais de uma vez, ele por padrão mostrará a 1ª)\n",
        "email = 'doug@gmail.com'\n",
        "email.find('o')"
      ],
      "metadata": {
        "colab": {
          "base_uri": "https://localhost:8080/"
        },
        "id": "MXV2rtowmTzZ",
        "outputId": "876fd1ae-f2c9-40c5-df48-e55bc9bd3826"
      },
      "execution_count": null,
      "outputs": [
        {
          "output_type": "execute_result",
          "data": {
            "text/plain": [
              "1"
            ]
          },
          "metadata": {},
          "execution_count": 59
        }
      ]
    },
    {
      "cell_type": "code",
      "source": [
        "# Método startswith verifica se uma string começa com um determinado caracter ou sequência de caracteres\n",
        "email = 'doug@gmail.com'\n",
        "email.startswith('doug')"
      ],
      "metadata": {
        "colab": {
          "base_uri": "https://localhost:8080/"
        },
        "id": "xhrLpQNanD-g",
        "outputId": "d4cb4e10-d006-4751-b718-704075a7d3d3"
      },
      "execution_count": null,
      "outputs": [
        {
          "output_type": "execute_result",
          "data": {
            "text/plain": [
              "True"
            ]
          },
          "metadata": {},
          "execution_count": 77
        }
      ]
    },
    {
      "cell_type": "code",
      "source": [
        "# Método endswith verifica se uma string termina com um determinado caracter ou sequência de caracteres\n",
        "email = 'doug@gmail.com'\n",
        "email.endswith('.com')"
      ],
      "metadata": {
        "colab": {
          "base_uri": "https://localhost:8080/"
        },
        "id": "TvGS1b_LodV1",
        "outputId": "3e7f1e67-bc94-4fd5-8a34-a722d9895273"
      },
      "execution_count": null,
      "outputs": [
        {
          "output_type": "execute_result",
          "data": {
            "text/plain": [
              "True"
            ]
          },
          "metadata": {},
          "execution_count": 80
        }
      ]
    },
    {
      "cell_type": "code",
      "source": [
        "# Método isnumeric() verifica se o conteúdo de uma string é ou não numérico\n",
        "cpf = '12345678910'\n",
        "cpf.isnumeric()"
      ],
      "metadata": {
        "colab": {
          "base_uri": "https://localhost:8080/"
        },
        "id": "0RhT7jgGp5xS",
        "outputId": "8e3f64f5-20b2-45b9-fbf5-8f811ed6a801"
      },
      "execution_count": null,
      "outputs": [
        {
          "output_type": "execute_result",
          "data": {
            "text/plain": [
              "False"
            ]
          },
          "metadata": {},
          "execution_count": 90
        }
      ]
    },
    {
      "cell_type": "code",
      "source": [
        "# Método isalpha() verifica se o conteúdo de uma string é ou não letra\n",
        "nome = 'Douglas Ribeiro'\n",
        "nome.isalpha()"
      ],
      "metadata": {
        "colab": {
          "base_uri": "https://localhost:8080/"
        },
        "id": "KxvnKo_5ts8P",
        "outputId": "be7daa60-d824-428f-aa95-2defa68c95e6"
      },
      "execution_count": null,
      "outputs": [
        {
          "output_type": "execute_result",
          "data": {
            "text/plain": [
              "False"
            ]
          },
          "metadata": {},
          "execution_count": 97
        }
      ]
    },
    {
      "cell_type": "code",
      "source": [
        "# Método isalnum verifica se o conteúdo de uma string é ou não combinação de letra e número\n",
        "nome = 'Dougla5'\n",
        "nome.isalnum()"
      ],
      "metadata": {
        "colab": {
          "base_uri": "https://localhost:8080/"
        },
        "id": "5dupXCpEuiVe",
        "outputId": "00ee8475-acea-4786-e6ee-59c7849794aa"
      },
      "execution_count": null,
      "outputs": [
        {
          "output_type": "execute_result",
          "data": {
            "text/plain": [
              "True"
            ]
          },
          "metadata": {},
          "execution_count": 100
        }
      ]
    },
    {
      "cell_type": "code",
      "source": [
        "# Método strip remove espaços indesejados no começo e/ou final da string\n",
        "nome = ' Douglas '\n",
        "print(len(nome))\n",
        "nome = nome.strip()\n",
        "print(len(nome))"
      ],
      "metadata": {
        "colab": {
          "base_uri": "https://localhost:8080/"
        },
        "id": "usbaggrDz_zC",
        "outputId": "296ed7a8-161f-4378-fee0-d91c892b4667"
      },
      "execution_count": null,
      "outputs": [
        {
          "output_type": "stream",
          "name": "stdout",
          "text": [
            "9\n",
            "7\n"
          ]
        }
      ]
    },
    {
      "cell_type": "code",
      "source": [
        "# Método replace substitui um caracter por outro\n",
        "# nome_da_string.replace('caracter_indesejado', 'caeacter_desejado')\n",
        "preco = 'R$ 10.50'\n",
        "preco = preco.replace('.',',')\n",
        "print(preco)"
      ],
      "metadata": {
        "colab": {
          "base_uri": "https://localhost:8080/"
        },
        "id": "UTjeAPmN0xjY",
        "outputId": "89d400d2-61b2-4bba-e1bb-b1c9304a7be8"
      },
      "execution_count": null,
      "outputs": [
        {
          "output_type": "stream",
          "name": "stdout",
          "text": [
            "R$ 10,50\n"
          ]
        }
      ]
    },
    {
      "cell_type": "code",
      "source": [
        "# Método split (divide uma string em duas ou mais partes por meio de um separador)\n",
        "nome = 'Douglas Almeida Ribeiro'\n",
        "nomes = nome.split()\n",
        "print(nomes)"
      ],
      "metadata": {
        "colab": {
          "base_uri": "https://localhost:8080/"
        },
        "id": "gjAlgWB31R6R",
        "outputId": "add11a14-d883-475d-a809-4a33a89218ac"
      },
      "execution_count": null,
      "outputs": [
        {
          "output_type": "stream",
          "name": "stdout",
          "text": [
            "['Douglas', 'Almeida', 'Ribeiro']\n"
          ]
        }
      ]
    },
    {
      "cell_type": "code",
      "source": [
        "# Método split (divide uma string em duas ou mais partes por meio de um separador)\n",
        "date = '12/05/2023'\n",
        "dia_mes_ano = date.split('/')\n",
        "print(dia_mes_ano)"
      ],
      "metadata": {
        "colab": {
          "base_uri": "https://localhost:8080/"
        },
        "id": "Ubp655sJ3RqR",
        "outputId": "d56a02ab-8c2d-4d45-c165-ea4165d29f68"
      },
      "execution_count": null,
      "outputs": [
        {
          "output_type": "stream",
          "name": "stdout",
          "text": [
            "['12', '05', '2023']\n"
          ]
        }
      ]
    },
    {
      "cell_type": "code",
      "source": [
        "'''\n",
        "Crie um programa que receba do usuário dois ou mais nomes separados\n",
        "por espaços e no mesmo input e os armazene em uma variável chamada nomes\n",
        "'''"
      ],
      "metadata": {
        "id": "ccHkLpmA3Nx5"
      },
      "execution_count": null,
      "outputs": []
    },
    {
      "cell_type": "code",
      "source": [
        "nomes = input('Informe dois ou mais nomes separados por espaços: ')\n",
        "print(nomes)\n",
        "'''\n",
        "Imagine que você deseja guardar os nomes informados em um estrutura única\n",
        "porém separando os nomes\n",
        "'''\n",
        "nomes = nomes.split()\n",
        "print(nomes)"
      ],
      "metadata": {
        "colab": {
          "base_uri": "https://localhost:8080/"
        },
        "id": "sWNuny0h6BZ4",
        "outputId": "8eec6a23-2da9-4c49-cd6e-755f5179f503"
      },
      "execution_count": null,
      "outputs": [
        {
          "output_type": "stream",
          "name": "stdout",
          "text": [
            "Informe dois ou mais nomes separados por espaços: Douglas Daniela Pedro Maria\n",
            "Douglas Daniela Pedro Maria\n",
            "['Douglas', 'Daniela', 'Pedro', 'Maria']\n"
          ]
        }
      ]
    },
    {
      "cell_type": "code",
      "source": [
        "nomes = input('Informe dois ou mais nomes separados por espaços: ')\n",
        "print(nomes)\n",
        "'''\n",
        "Imagine que você deseja guardar os nomes informados em um estrutura única\n",
        "porém separando os nomes\n",
        "'''\n",
        "nomes = nomes.split()\n",
        "print(nomes)\n",
        "print(type(nomes))"
      ],
      "metadata": {
        "colab": {
          "base_uri": "https://localhost:8080/"
        },
        "id": "9LmUn_XoA1hU",
        "outputId": "57672d18-411b-490a-e060-c5015557dadb"
      },
      "execution_count": null,
      "outputs": [
        {
          "output_type": "stream",
          "name": "stdout",
          "text": [
            "Informe dois ou mais nomes separados por espaços: Douglas Pedro\n",
            "Douglas Pedro\n",
            "['Douglas', 'Pedro']\n",
            "<class 'list'>\n"
          ]
        }
      ]
    },
    {
      "cell_type": "markdown",
      "source": [
        "# 4 - Estruturas de dados"
      ],
      "metadata": {
        "id": "ap1KHQliCqWy"
      }
    },
    {
      "cell_type": "markdown",
      "source": [
        "## 4.1 - Listas"
      ],
      "metadata": {
        "id": "m-fNF-dMCtIi"
      }
    },
    {
      "cell_type": "code",
      "source": [
        "# Uma lista é um objeto que pode ser vazio, ou ter um ou mais itens\n",
        "lista = ['dado1', 'dado2','dado3','dado4', 'dado_n']\n",
        "#índices    0         1       2       3       4       ou:\n",
        "#          -5        -4      -3      -2      -1\n",
        "#           1º        2º      3º      4º      5º\n",
        "'''\n",
        "Qual é a informação presente na lista cuja posição é o\n",
        "índice 3?\n",
        "'''\n",
        "print(f'A informação presente na lista na posição de índice 3 é: \"{lista[3]}\"')\n",
        "\n",
        "'''\n",
        "Quais dados estão presentes no intervalo que vai do 1º ao 3º elementos da lista?\n",
        "'''\n",
        "print(f'Os valores no intervalo do 1º ao 3º elementos são: \"{lista[0:3]}\"')"
      ],
      "metadata": {
        "colab": {
          "base_uri": "https://localhost:8080/"
        },
        "id": "cGPzxsCZCxLj",
        "outputId": "bf9e1ca7-733c-43ce-ed6c-51192597d35a"
      },
      "execution_count": null,
      "outputs": [
        {
          "output_type": "stream",
          "name": "stdout",
          "text": [
            "A informação presente na lista na posição de índice 3 é: \"dado4\"\n",
            "Os valores no intervalo do 1º ao 3º elementos são: \"['dado1', 'dado2', 'dado3']\"\n"
          ]
        }
      ]
    },
    {
      "cell_type": "code",
      "source": [
        "produtos = ['monitor', 'celular', 'notebook', 'desktop', 'impressora', 'teclado']\n",
        "precos = [600, 2000, 5000, 3000, 1500, 200]\n",
        "vendas = [300, 500, 100, 700, 500, 1000]\n",
        "estoques = [5000] * 6 #  Este comando cria uma lista que tem 6 elementos com o mesmo valor (5000)"
      ],
      "metadata": {
        "id": "pIYp7jXXMirY"
      },
      "execution_count": null,
      "outputs": []
    },
    {
      "cell_type": "code",
      "source": [
        "print(f'a lista produtos tem {len(produtos)} elementos')\n",
        "print(f'a lista precos tem {len(precos)} elementos')\n",
        "print(f'a lista vendas tem {len(vendas)} elementos')\n",
        "print(f'a lista estoques tem {len(estoques)} elementos')"
      ],
      "metadata": {
        "colab": {
          "base_uri": "https://localhost:8080/"
        },
        "id": "fUVTWvq0QCtB",
        "outputId": "8f6d936e-04a2-4025-9dcb-9349fb850db8"
      },
      "execution_count": null,
      "outputs": [
        {
          "output_type": "stream",
          "name": "stdout",
          "text": [
            "a lista produtos tem 6 elementos\n",
            "a lista precos tem 6 elementos\n",
            "a lista vendas tem 6 elementos\n",
            "a lista estoques tem 6 elementos\n"
          ]
        }
      ]
    },
    {
      "cell_type": "code",
      "source": [
        "'''\n",
        "Elabore um programa que receba do usuário um número inteiro e positivo\n",
        "de no máximo 5, e automaticamente, exiba o nome do produto correspondente,\n",
        "seu preço, sua quantidade vendida, o valor faturado em R$, e quantas unidades\n",
        "ainda restam em estoque desse produto.\n",
        "'''\n",
        "produtos = ['monitor', 'celular', 'notebook', 'desktop', 'impressora', 'teclado']\n",
        "precos = [600, 2000, 5000, 3000, 1500, 200]\n",
        "vendas = [300, 500, 100, 700, 500, 1000]\n",
        "estoques = [5000] * 6 #  Este comando cria uma lista que tem 6 elementos com o mesmo valor (5000)"
      ],
      "metadata": {
        "id": "3yTKjkhFQ01x"
      },
      "execution_count": null,
      "outputs": []
    },
    {
      "cell_type": "code",
      "source": [
        "i = int(input('Informe um número inteiro e positivos de 0 a 5: ')) # recebe do usuário um número inteiro e positivo e o armazena na variável i\n",
        "print(f'O produto escolhido foi: {produtos[i]}') # Exibe o nome do produto referente ao número informado pelo usuário\n",
        "print(f'seu preço é de: R$ {precos[i]:,.2f}')\n",
        "print(f'sua quantidade vendida fou de {vendas[i]} unidades')\n",
        "print(f'o seu faturamento foi de R$ {(vendas[i]*precos[i]):,.2f} ')\n",
        "print(f'e ainda restam {estoques[i]-vendas[i]} unidades em estoque')"
      ],
      "metadata": {
        "colab": {
          "base_uri": "https://localhost:8080/"
        },
        "id": "Ly4CHZkJRQHe",
        "outputId": "7b755fed-9169-4026-c71f-fd567e6a744d"
      },
      "execution_count": null,
      "outputs": [
        {
          "output_type": "stream",
          "name": "stdout",
          "text": [
            "Informe um número inteiro e positivos de 0 a 5: 2\n",
            "O produto escolhido foi: notebook\n",
            "seu preço é de: R$ 5,000.00\n",
            "sua quantidade vendida fou de 100 unidades\n",
            "o seu faturamento foi de R$ 500,000.00 \n",
            "e ainda restam 4900 unidades em estoque\n"
          ]
        }
      ]
    },
    {
      "cell_type": "code",
      "source": [
        "i = int(input('Informe um número inteiro e positivos de 0 a 5: '))\n",
        "print(f'''\n",
        "O produto escolhido foi: {produtos[i]}, seu preço é de: R$ {precos[i]:,.2f},\n",
        "sua quantidade vendida fou de {vendas[i]} unidades,\n",
        "o seu faturamento foi de R$ {(vendas[i]*precos[i]):,.2f}, o seu faturamento\n",
        "foi de R$ {(vendas[i]*precos[i]):,.2f}''')"
      ],
      "metadata": {
        "colab": {
          "base_uri": "https://localhost:8080/"
        },
        "id": "Vn4ErBFRlhO9",
        "outputId": "769e962e-3d15-4378-de45-6aebf53036f3"
      },
      "execution_count": null,
      "outputs": [
        {
          "output_type": "stream",
          "name": "stdout",
          "text": [
            "Informe um número inteiro e positivos de 0 a 5: 2\n",
            "O produto escolhido foi: notebook, seu preço \n",
            "é de: R$ 5,000.00, sua quantidade vendida fou de 100 unidades,\n",
            " o seu faturamento foi de R$ 500,000.00, o seu faturamento \n",
            " foi de R$ 500,000.00\n"
          ]
        }
      ]
    }
  ]
}