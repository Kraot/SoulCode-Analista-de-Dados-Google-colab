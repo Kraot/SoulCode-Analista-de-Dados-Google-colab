{
  "nbformat": 4,
  "nbformat_minor": 0,
  "metadata": {
    "colab": {
      "provenance": [],
      "include_colab_link": true
    },
    "kernelspec": {
      "name": "python3",
      "display_name": "Python 3"
    },
    "language_info": {
      "name": "python"
    }
  },
  "cells": [
    {
      "cell_type": "markdown",
      "metadata": {
        "id": "view-in-github",
        "colab_type": "text"
      },
      "source": [
        "<a href=\"https://colab.research.google.com/github/Kraot/SoulCode-Analista-de-Dados-Google-colab/blob/main/Aulas/Aula_5_Apostila_Fundamentos_de_Python.ipynb\" target=\"_parent\"><img src=\"https://colab.research.google.com/assets/colab-badge.svg\" alt=\"Open In Colab\"/></a>"
      ]
    },
    {
      "cell_type": "markdown",
      "source": [
        "## 5.4 - Instrução Break"
      ],
      "metadata": {
        "id": "lT3jCpSPwXx4"
      }
    },
    {
      "cell_type": "code",
      "source": [
        "'''\n",
        "Imagine que você deseja utilizar uma estrutura for combinada com a função range\n",
        "para percorrer e imprimir uma sequência de tamanho 10, ou seja, que como saída\n",
        "tenhamos 10 prints de 10 números diferentes\n",
        "'''\n",
        "for i in range(10):\n",
        "  print(f'O {i+1}º valor é {i}')"
      ],
      "metadata": {
        "colab": {
          "base_uri": "https://localhost:8080/"
        },
        "id": "rIp0RYhbwerr",
        "outputId": "e3d50b18-c638-4931-b361-06e764c4efab"
      },
      "execution_count": null,
      "outputs": [
        {
          "output_type": "stream",
          "name": "stdout",
          "text": [
            "O 1º valor é 0\n",
            "O 2º valor é 1\n",
            "O 3º valor é 2\n",
            "O 4º valor é 3\n",
            "O 5º valor é 4\n",
            "O 6º valor é 5\n",
            "O 7º valor é 6\n",
            "O 8º valor é 7\n",
            "O 9º valor é 8\n",
            "O 10º valor é 9\n"
          ]
        }
      ]
    },
    {
      "cell_type": "code",
      "source": [
        "'''\n",
        "Imagine que na mesma situação do exercício anterior você\n",
        "deseja interromper o ciclo de impressões após o programa ter\n",
        "impresso 5 valores diferentes\n",
        "'''\n",
        "for i in range(10):\n",
        "  if i == 5:\n",
        "    break\n",
        "  print(f'O {i+1}º valor é {i}')"
      ],
      "metadata": {
        "colab": {
          "base_uri": "https://localhost:8080/"
        },
        "id": "-DB5d_EYESlS",
        "outputId": "9edc660e-31e0-46b0-e18c-0a3f21266f6b"
      },
      "execution_count": null,
      "outputs": [
        {
          "output_type": "stream",
          "name": "stdout",
          "text": [
            "O 1º valor é 0\n",
            "O 2º valor é 1\n",
            "O 3º valor é 2\n",
            "O 4º valor é 3\n",
            "O 5º valor é 4\n"
          ]
        }
      ]
    },
    {
      "cell_type": "markdown",
      "source": [
        "## 5.5 - Instrução continue"
      ],
      "metadata": {
        "id": "L38ATSCiMDv-"
      }
    },
    {
      "cell_type": "code",
      "source": [
        "'''\n",
        "Ainda imaginando a situação original, suponha que você deseja imprimir\n",
        "toda a sequencia exceto um determinado valor, por exemplo o 5\n",
        "'''\n",
        "for i in range(10):\n",
        "  if i == 5:\n",
        "    continue\n",
        "  print(f'O {i+1}º valor é {i}')"
      ],
      "metadata": {
        "colab": {
          "base_uri": "https://localhost:8080/"
        },
        "id": "RxiMWVTbGxf5",
        "outputId": "644b5e64-b5e1-46e3-f269-64e1654c187b"
      },
      "execution_count": null,
      "outputs": [
        {
          "output_type": "stream",
          "name": "stdout",
          "text": [
            "O 1º valor é 0\n",
            "O 2º valor é 1\n",
            "O 3º valor é 2\n",
            "O 4º valor é 3\n",
            "O 5º valor é 4\n",
            "O 7º valor é 6\n",
            "O 8º valor é 7\n",
            "O 9º valor é 8\n",
            "O 10º valor é 9\n"
          ]
        }
      ]
    },
    {
      "cell_type": "markdown",
      "source": [
        "## 5.6 - Declaração pass"
      ],
      "metadata": {
        "id": "JyqROEOFMKYc"
      }
    },
    {
      "cell_type": "code",
      "source": [
        "'''\n",
        "Imagine que você deseja que o programa ignore a parada estabelecida pelo if\n",
        "'''\n",
        "for i in range(10):\n",
        "  if i == 5:\n",
        "    pass\n",
        "  print(f'O {i+1}º valor é {i}')"
      ],
      "metadata": {
        "colab": {
          "base_uri": "https://localhost:8080/"
        },
        "id": "vbwF7D8HHug6",
        "outputId": "753c147a-10c1-440e-ea99-53668db00496"
      },
      "execution_count": null,
      "outputs": [
        {
          "output_type": "stream",
          "name": "stdout",
          "text": [
            "O 1º valor é 0\n",
            "O 2º valor é 1\n",
            "O 3º valor é 2\n",
            "O 4º valor é 3\n",
            "O 5º valor é 4\n",
            "O 6º valor é 5\n",
            "O 7º valor é 6\n",
            "O 8º valor é 7\n",
            "O 9º valor é 8\n",
            "O 10º valor é 9\n"
          ]
        }
      ]
    },
    {
      "cell_type": "markdown",
      "source": [
        "## 5.7 - while True"
      ],
      "metadata": {
        "id": "uO4kp191MA56"
      }
    },
    {
      "cell_type": "code",
      "source": [
        "'''\n",
        "Imagine que você deseja criar um programa que receba do usuário um número\n",
        "inteiro que defina quantas vezes será impressa a expressão \"olá mundo!\" e depois\n",
        "imprima essa expressão exatamente na quantidade informada pelo usuário\n",
        "'''"
      ],
      "metadata": {
        "id": "0-0OV1BTNHfX"
      },
      "execution_count": null,
      "outputs": []
    },
    {
      "cell_type": "code",
      "source": [
        "# Solução 01\n",
        "n = int(input('Informe quantas vezes você deseja ver a mensagem olá mundo: '))\n",
        "c = 0\n",
        "while c < n:\n",
        "  print('Olá Mundo!')\n",
        "  c += 1"
      ],
      "metadata": {
        "colab": {
          "base_uri": "https://localhost:8080/"
        },
        "id": "n2-_M0TVNmyo",
        "outputId": "a52fe0e9-8759-438f-8a27-dbca435d76b4"
      },
      "execution_count": null,
      "outputs": [
        {
          "output_type": "stream",
          "name": "stdout",
          "text": [
            "Informe quantas vezes você deseja ver a mensagem olá mundo: 4\n",
            "Olá Mundo!\n",
            "Olá Mundo!\n",
            "Olá Mundo!\n",
            "Olá Mundo!\n"
          ]
        }
      ]
    },
    {
      "cell_type": "code",
      "source": [
        "# Solução 02 usando while True\n",
        "n = int(input('Informe quantas vezes você deseja ver a mensagem olá mundo: '))\n",
        "c = 0\n",
        "while True:\n",
        "  if c < n:\n",
        "    print('Olá Mundo!')\n",
        "    c += 1\n",
        "  else:\n",
        "    break"
      ],
      "metadata": {
        "colab": {
          "base_uri": "https://localhost:8080/"
        },
        "id": "lFZl9eAsRWLV",
        "outputId": "943f24f7-172a-49e4-a9ca-d551f27d8b1a"
      },
      "execution_count": null,
      "outputs": [
        {
          "output_type": "stream",
          "name": "stdout",
          "text": [
            "Informe quantas vezes você deseja ver a mensagem olá mundo: 3\n",
            "Olá Mundo!\n",
            "Olá Mundo!\n",
            "Olá Mundo!\n"
          ]
        }
      ]
    },
    {
      "cell_type": "code",
      "source": [
        "'''\n",
        "O while True é uma estrutura mais flexível que o while pois não traz a condição\n",
        "na própria lina de declaração while, permitindo assim, que você faça várias\n",
        "outras condições aninhadas logo abaixo da declaração while True.\n",
        "'''"
      ],
      "metadata": {
        "id": "LQ6htQGdVVCt"
      },
      "execution_count": null,
      "outputs": []
    },
    {
      "cell_type": "code",
      "source": [
        "# Exercício\n",
        "'''\n",
        "Elabore um programa que que receba um número inteiro e positivo do usuário e\n",
        "verifique se o número informado é par ou ímpar, se for par imprima uma mensagem\n",
        "dizendo que o número é par e encerre o loop, caso seja ímpar exiba uma mensagem\n",
        "informando que o número não é par e peça para o usuário digitar outro número,\n",
        "até que o número digitado pelo usuário seja par.\n",
        "'''\n",
        "\n",
        "while True:\n",
        "  n = int(input('Informe um número par inteiro e positivo: '))\n",
        "  if n % 2 == 0:\n",
        "    print(f'O número {n} é um número par! Parabéns!')\n",
        "    break\n",
        "  else:\n",
        "    print(f'O número {n} não é um número par, favor informe um número par')"
      ],
      "metadata": {
        "colab": {
          "base_uri": "https://localhost:8080/"
        },
        "id": "SnuFcgz0V_BF",
        "outputId": "0b79e8bd-b8cd-4258-f1a9-80aa48eae2b2"
      },
      "execution_count": null,
      "outputs": [
        {
          "output_type": "stream",
          "name": "stdout",
          "text": [
            "Informe um número par inteiro e positivo: 3\n",
            "O número 3 não é um número par, favor informe um número par\n",
            "Informe um número par inteiro e positivo: 7\n",
            "O número 7 não é um número par, favor informe um número par\n",
            "Informe um número par inteiro e positivo: 4\n",
            "O número 4 é um número par! Parabéns!\n"
          ]
        }
      ]
    },
    {
      "cell_type": "markdown",
      "source": [
        "## 5.8 - Tratamento de erros (TRY e EXCEPT)"
      ],
      "metadata": {
        "id": "Ttjt-n9C485S"
      }
    },
    {
      "cell_type": "code",
      "source": [
        "'''\n",
        "Elabore um programa que receba do usuário um número qualquer e exiba a mensagem:\n",
        "Parabéns você digitou um número!\n",
        "'''"
      ],
      "metadata": {
        "id": "1TqYRcA76U6S"
      },
      "execution_count": null,
      "outputs": []
    },
    {
      "cell_type": "code",
      "source": [
        "while True:\n",
        "  try:\n",
        "    n = float(input('Informe um número qualquer: '))\n",
        "    print('Parabéns você digitou um número!')\n",
        "    break\n",
        "  except:\n",
        "    print('o valor informado não é um número')"
      ],
      "metadata": {
        "colab": {
          "base_uri": "https://localhost:8080/"
        },
        "id": "j1YaLEkb6nQM",
        "outputId": "713efc7f-5f11-43fe-f4d9-50f6d96ab53d"
      },
      "execution_count": null,
      "outputs": [
        {
          "output_type": "stream",
          "name": "stdout",
          "text": [
            "Informe um número qualquer: 7,3\n",
            "o valor informado não é um número\n",
            "Informe um número qualquer: 4\n",
            "Parabéns você digitou um número!\n"
          ]
        }
      ]
    },
    {
      "cell_type": "code",
      "source": [
        "'''\n",
        "Imagine que você tem uma lista com seis nomes de pessoas e outra com seis idades\n",
        "Suponha que a posição de cada nome em sua lista corresponde a mesma posição\n",
        "da sua idade na lista idades. Elabore um código que percorra as duas listas,\n",
        "verifique se a pessoa é maior ou menor de idade (18 anos) e exiba uma mensagem\n",
        "com cada nome, sua idade e um texto informando se essa pessoa é maior ou menor\n",
        "de idade.\n",
        "'''\n",
        "nomes = ['Douglas','Daniela','Pedro','Maria','Eduardo','Ester']\n",
        "idades = [48, 9, 70, 70, 44, 37]\n",
        "for i in range(len(nomes)):\n",
        "  if idades[i] >= 18:\n",
        "    print('*'*50)\n",
        "    print(f'{nomes[i]} tem {idades[i]} anos e é maior de idade')\n",
        "    print('*'*50)\n",
        "  else:\n",
        "    print('*'*50)\n",
        "    print(f'{nomes[i]} tem {idades[i]} anos e é menor de idade')\n",
        "    print('*'*50)"
      ],
      "metadata": {
        "colab": {
          "base_uri": "https://localhost:8080/"
        },
        "id": "V_-3idsp-oNW",
        "outputId": "20536c5a-ab20-4009-f2fc-167f156fc40c"
      },
      "execution_count": null,
      "outputs": [
        {
          "output_type": "stream",
          "name": "stdout",
          "text": [
            "**************************************************\n",
            "Douglas tem 48 anos e é maior de idade\n",
            "**************************************************\n",
            "**************************************************\n",
            "Daniela tem 9 anos e é menor de idade\n",
            "**************************************************\n",
            "**************************************************\n",
            "Pedro tem 70 anos e é maior de idade\n",
            "**************************************************\n",
            "**************************************************\n",
            "Maria tem 70 anos e é maior de idade\n",
            "**************************************************\n",
            "**************************************************\n",
            "Eduardo tem 44 anos e é maior de idade\n",
            "**************************************************\n",
            "**************************************************\n",
            "Ester tem 37 anos e é maior de idade\n",
            "**************************************************\n"
          ]
        }
      ]
    },
    {
      "cell_type": "code",
      "source": [
        "'''\n",
        "Imagine que você tem uma lista com seis nomes de pessoas e outra com seis idades\n",
        "Suponha que a posição de cada nome em sua lista corresponde a mesma posição\n",
        "da sua idade na lista idades. Elabore um código que percorra as duas listas,\n",
        "verifique se a pessoa é maior ou menor de idade (18 anos) e exiba uma mensagem\n",
        "com cada nome, sua idade e um texto informando se essa pessoa é maior ou menor\n",
        "de idade.\n",
        "'''\n",
        "nomes = ['Douglas','Daniela','Pedro','Maria','Eduardo','Ester']\n",
        "idades = [48, 9, 70, 70, 44, 37]\n",
        "for i,v in enumerate(idades):\n",
        "  if idades[i] >= 18:\n",
        "    print('*'*50)\n",
        "    print(f'{nomes[i]} tem {v} anos e é maior de idade')\n",
        "    print('*'*50)\n",
        "  else:\n",
        "    print('*'*50)\n",
        "    print(f'{nomes[i]} tem {v} anos e é menor de idade')\n",
        "    print('*'*50)"
      ],
      "metadata": {
        "colab": {
          "base_uri": "https://localhost:8080/"
        },
        "id": "trM_yWI2EwKJ",
        "outputId": "2e24021b-54cf-4ee3-a07c-131f4425c6e4"
      },
      "execution_count": null,
      "outputs": [
        {
          "output_type": "stream",
          "name": "stdout",
          "text": [
            "**************************************************\n",
            "Douglas tem 48 anos e é maior de idade\n",
            "**************************************************\n",
            "**************************************************\n",
            "Daniela tem 9 anos e é menor de idade\n",
            "**************************************************\n",
            "**************************************************\n",
            "Pedro tem 70 anos e é maior de idade\n",
            "**************************************************\n",
            "**************************************************\n",
            "Maria tem 70 anos e é maior de idade\n",
            "**************************************************\n",
            "**************************************************\n",
            "Eduardo tem 44 anos e é maior de idade\n",
            "**************************************************\n",
            "**************************************************\n",
            "Ester tem 37 anos e é maior de idade\n",
            "**************************************************\n"
          ]
        }
      ]
    },
    {
      "cell_type": "code",
      "source": [
        "'''\n",
        "Imagine que você deseja criar um programa que receba do usuário o valor de um\n",
        "determinado produto e a informação se esse produto é nacional ou importado e\n",
        "retorne para o usuário o valor do imposto a pagar. Considere que se o produto\n",
        "for nacional a alíquota de imposto é de 18% para valores até R$ 200,00 e 25%\n",
        "para valores acima de R$ 200,00. Agora se o produto for importado é isento para\n",
        "valores até R$ 200,00 e pagará 35% para valores acima de R$ 200,00.\n",
        "'''"
      ],
      "metadata": {
        "id": "0ltU0PAAFgx2"
      },
      "execution_count": null,
      "outputs": []
    },
    {
      "cell_type": "code",
      "source": [
        "while True:\n",
        "  try:\n",
        "    valor = float(input('Informe o valor do produto em R$ '))\n",
        "    break\n",
        "  except:\n",
        "    print('valor inválido')\n",
        "nac = input('O produto é nacional? 1 para sim ou 2 para não: ')\n",
        "if nac == '1':\n",
        "  if valor <= 200:\n",
        "    imposto = valor * 0.18\n",
        "  else:\n",
        "    imposto = valor * 0.25\n",
        "else:\n",
        "  if valor > 200:\n",
        "    imposto = valor * 0.35\n",
        "  else:\n",
        "    imposto = 0\n",
        "print(f'O valor do imposto é R$ {imposto:.2f}')"
      ],
      "metadata": {
        "colab": {
          "base_uri": "https://localhost:8080/"
        },
        "id": "moVreERNF2Bl",
        "outputId": "120d6b26-5fb2-462b-809a-8c32896471de"
      },
      "execution_count": null,
      "outputs": [
        {
          "output_type": "stream",
          "name": "stdout",
          "text": [
            "Informe o valor do produto em R$ a\n",
            "valor inválido\n",
            "Informe o valor do produto em R$ 5\n",
            "O produto é nacional? 1 para sim ou 2 para não: 1\n",
            "O valor do imposto é R$ 0.90\n"
          ]
        }
      ]
    },
    {
      "cell_type": "code",
      "source": [
        "'''\n",
        "Elabore um programa que receba do usuários duas sequencias de números separados\n",
        "por espaços com igual quantidade sendo uma sequência em um único input e outra\n",
        "sequência em outro input único\n",
        "'''\n",
        "dadosx = input('Informe uma sequência de números separados por espaços: ')\n",
        "dadosy = input('''Informe outra sequência de números separados por espaços com a\n",
        "mesma quantidade informada na primeira: ''')\n",
        "\n",
        "'''\n",
        "Agora separe cada sequência em uma lista, exemplo: dadosx separado em uma lista\n",
        "camada x e dadosy em uma lista chamada y\n",
        "'''\n",
        "x = dadosx.split()\n",
        "y = dadosy.split()\n",
        "\n",
        "'''\n",
        "percorra cada uma das listas criadas e para cada valor encontrado converta-o em\n",
        "um tipo float\n",
        "'''\n",
        "for i in range(len(x)):\n",
        "  x[i] = float(x[i])\n",
        "for i in range(len(y)):\n",
        "  y[i] = float(y[i])\n",
        "\n",
        "'''\n",
        "Agora crie três listas vazias, sendo xq, yq e xy e as preencha da sequinte forma:\n",
        "\n",
        "1 - xq: percorra a lista de x e para cada valor encontrado o eleve ao\n",
        "quadrado e guarde-o na lista xq\n",
        "\n",
        "2 - yq: percorra a lista de y e para cada valor encontrado o eleve ao\n",
        "quadrado e guarde-o na lista yq\n",
        "\n",
        "3 - xy:  percorra a lista de x e a de y e multiplique cada valor de x pelo\n",
        "seu valor de y correspondente e guarde os resultados na lista xy\n",
        "'''\n",
        "xq = []\n",
        "yq = []\n",
        "xy = []\n",
        "for i in range(len(x)):\n",
        "  xq.append(x[i]**2)\n",
        "for i in range(len(y)):\n",
        "  yq.append(y[i]**2)\n",
        "for i in range(len(x)):\n",
        "  xy.append(x[i]*y[i])\n",
        "'''\n",
        "Agora vamos criar uma variável que armazena o resultado da lista, sendo:\n",
        "sx = soma dos valores da lista x\n",
        "sy = soma dos valores da lista y\n",
        "sxq = soma dos valores da lista xq\n",
        "syq = soma dos valores da lista yq\n",
        "sxy = soma dos valores da lista xy\n",
        "n = a quantidade de elementos de um das listas\n",
        "mediax = a média da lista x\n",
        "mediay = a média da lista y\n",
        "'''\n",
        "sx = sum(x)\n",
        "sy = sum(y)\n",
        "sxq = sum(xq)\n",
        "syq = sum(yq)\n",
        "sxy = sum(xy)\n",
        "n = len(x)\n",
        "mediax = sx/n\n",
        "mediay = sy/n\n",
        "\n",
        "beta = (sxy - (sx * sy /n)) / (sxq - sx**2 / n)\n",
        "a = mediay - beta * mediax\n",
        "print(f'A equação da reta de regressão linear simples é Y = {a:.1f} + {beta:.1f} * x')"
      ],
      "metadata": {
        "colab": {
          "base_uri": "https://localhost:8080/"
        },
        "id": "_dWylkqkWFTJ",
        "outputId": "08105675-19d0-4a29-e9f7-599347688558"
      },
      "execution_count": null,
      "outputs": [
        {
          "output_type": "stream",
          "name": "stdout",
          "text": [
            "Informe uma sequência de números separados por espaços: 1 2 3 4 5\n",
            "Informe outra sequência de números separados por espaços com a \n",
            "mesma quantidade informada na primeira: 1 2 4 5 8\n",
            "A equação da reta de regressão linear simples é Y = -1.1 + 1.7 * x\n"
          ]
        }
      ]
    }
  ]
}