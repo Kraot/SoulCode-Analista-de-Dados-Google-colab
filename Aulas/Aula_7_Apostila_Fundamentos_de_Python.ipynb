{
  "nbformat": 4,
  "nbformat_minor": 0,
  "metadata": {
    "colab": {
      "provenance": [],
      "include_colab_link": true
    },
    "kernelspec": {
      "name": "python3",
      "display_name": "Python 3"
    },
    "language_info": {
      "name": "python"
    }
  },
  "cells": [
    {
      "cell_type": "markdown",
      "metadata": {
        "id": "view-in-github",
        "colab_type": "text"
      },
      "source": [
        "<a href=\"https://colab.research.google.com/github/Kraot/SoulCode-Analista-de-Dados-Google-colab/blob/main/Aulas/Aula_7_Apostila_Fundamentos_de_Python.ipynb\" target=\"_parent\"><img src=\"https://colab.research.google.com/assets/colab-badge.svg\" alt=\"Open In Colab\"/></a>"
      ]
    },
    {
      "cell_type": "markdown",
      "source": [
        "# 7 - Funções definidas pelo usuário"
      ],
      "metadata": {
        "id": "qVSamviEWCSQ"
      }
    },
    {
      "cell_type": "code",
      "source": [
        "'''\n",
        "Imagine que você deseja criar uma função que imprima o \"Olá!\" todas as vezes\n",
        "que essa função for executada, sem ter a necessidade de usar o print, por\n",
        "exemplo\n",
        "'''\n",
        "def oi():\n",
        "  print('Olá!')\n",
        "'''\n",
        "O processo de criação de uma função é muito simples, devemos começar com a\n",
        "palavra reservada \"def\" seguido de um nome que vamos usar para chamar a função\n",
        "e dpois parenteses para especificar os argumentos da função, lembrando que os\n",
        "argumentos de uma função, são opcionais, observe que no caso de função do\n",
        "exemplo acima, não temos argumentos obrigatórios, e além disso, essa função não\n",
        "possui retorno\n",
        "'''\n",
        "\n",
        "'''\n",
        "Suponha agora que você deseja guardar o texto de saída da função acima em uma\n",
        "variável qualquer\n",
        "'''\n",
        "#oi()\n",
        "\n",
        "'''\n",
        "Observe que a função cumpre o seu papel, ou seja, quando executada, exibe no\n",
        "console o texto \"Olá!\"\n",
        "'''\n",
        "\n",
        "'''\n",
        "agora vamos tentar guardar esse texto em uma variável chamada texto\n",
        "'''\n",
        "\n",
        "texto = oi()\n",
        "print(texto)\n",
        "\n",
        "'''\n",
        "Nesse caso não temos nada guardado na variável texto pq essa função\n",
        "não tem retorno\n",
        "'''"
      ],
      "metadata": {
        "colab": {
          "base_uri": "https://localhost:8080/",
          "height": 70
        },
        "id": "qWFlIBBnWJfS",
        "outputId": "7b7f14cd-a6dd-4cd3-b73c-99e5c9aa6612"
      },
      "execution_count": null,
      "outputs": [
        {
          "output_type": "stream",
          "name": "stdout",
          "text": [
            "Olá!\n",
            "None\n"
          ]
        },
        {
          "output_type": "execute_result",
          "data": {
            "text/plain": [
              "'\\nNesse caso não temos nada guardado na variável texto pq essa função\\nnão tem retorno\\n'"
            ],
            "application/vnd.google.colaboratory.intrinsic+json": {
              "type": "string"
            }
          },
          "metadata": {},
          "execution_count": 76
        }
      ]
    },
    {
      "cell_type": "code",
      "source": [
        "def oi():\n",
        "  return 'Olá!'\n",
        "'''\n",
        "Agora a função oi possui como retorno o texto 'Olá!'\n",
        "e como ela tem retorno esse retorno pode ser armazenado\n",
        "em uma variável, por exemplo\n",
        "'''\n",
        "\n",
        "texto = oi()\n",
        "print(texto)"
      ],
      "metadata": {
        "colab": {
          "base_uri": "https://localhost:8080/"
        },
        "id": "wEyxkJvkZ4n7",
        "outputId": "4c67cc99-ac28-4c9d-badc-0b3c4609be7b"
      },
      "execution_count": null,
      "outputs": [
        {
          "output_type": "stream",
          "name": "stdout",
          "text": [
            "Olá!\n"
          ]
        }
      ]
    },
    {
      "cell_type": "markdown",
      "source": [
        "## 7.1 - Funções com argumentos nomeados e argumentos de posição (Argumentos obrigatórios)"
      ],
      "metadata": {
        "id": "hIb1h3Ukcbco"
      }
    },
    {
      "cell_type": "code",
      "source": [
        "'''\n",
        "Imagine que você precisa fazer uma função que calcula automaticamente o valor\n",
        "total do desconto sobre o valor da compra de um cliente, e esse desconto total,\n",
        "depende de diferentes percentuais que podem ser aplicados sobre o valor total\n",
        "da compra do cliente, tais percentuais podem ser referentes a cupon de desconto,\n",
        "pagamento à vista em pix, clube de vantagens vip e desconto para professores.\n",
        "suponha que nossos clientes possuem todos os descontos e as taxas são fixas:\n",
        "cupon 1%\n",
        "pix 2%\n",
        "vip 3%\n",
        "prof 4%\n",
        "'''\n",
        "def desconto(valor):\n",
        "  cupon = valor * 0.01\n",
        "  pix = valor * 0.02\n",
        "  vip = valor * 0.03\n",
        "  prof = valor * 0.04\n",
        "  return cupon + pix + vip + prof"
      ],
      "metadata": {
        "id": "3Z-K46Unb-Hr"
      },
      "execution_count": null,
      "outputs": []
    },
    {
      "cell_type": "code",
      "source": [
        "print(f'O valor do desconto na sua compra foi de R$ {desconto(1000)}')"
      ],
      "metadata": {
        "colab": {
          "base_uri": "https://localhost:8080/"
        },
        "id": "1_rFXqF0eCRE",
        "outputId": "070fdd7b-68c7-4ce3-bbd5-c490932fad50"
      },
      "execution_count": null,
      "outputs": [
        {
          "output_type": "stream",
          "name": "stdout",
          "text": [
            "O valor do desconto na sua compra foi de R$ 100.0\n"
          ]
        }
      ]
    },
    {
      "cell_type": "code",
      "source": [
        "'''\n",
        "Agora imagine que cupon, pix, vip e prof são variáveis, ou seja\n",
        "cada vez que a função for executada podem receber valores diferentes,\n",
        "nesse caso devemos colocá-los também como argumentos na construção\n",
        "da função\n",
        "'''\n",
        "\n",
        "def desconto(valor, cupon, pix, vip, prof):\n",
        "  desconto = valor * cupon + valor * pix + valor * vip + valor * prof\n",
        "  return desconto"
      ],
      "metadata": {
        "id": "eX7dpAIdejsn"
      },
      "execution_count": null,
      "outputs": []
    },
    {
      "cell_type": "code",
      "source": [
        "desconto(1000,0.01,0.02,0.03,0.04)"
      ],
      "metadata": {
        "colab": {
          "base_uri": "https://localhost:8080/"
        },
        "id": "o_VqWK9JhZSY",
        "outputId": "c9e21683-a60e-45be-82af-ad33c08bccd4"
      },
      "execution_count": null,
      "outputs": [
        {
          "output_type": "execute_result",
          "data": {
            "text/plain": [
              "100.0"
            ]
          },
          "metadata": {},
          "execution_count": 87
        }
      ]
    },
    {
      "cell_type": "code",
      "source": [
        "desconto(vip=0.03,valor=1000,pix=0.02,cupon=0.01,prof=0.04)"
      ],
      "metadata": {
        "colab": {
          "base_uri": "https://localhost:8080/"
        },
        "id": "nQK7eWU-h3lM",
        "outputId": "0b33c6c4-a4ab-4c05-9f6a-bfc4d47c87a4"
      },
      "execution_count": null,
      "outputs": [
        {
          "output_type": "execute_result",
          "data": {
            "text/plain": [
              "100.0"
            ]
          },
          "metadata": {},
          "execution_count": 6
        }
      ]
    },
    {
      "cell_type": "code",
      "source": [
        "'''\n",
        "Imagine que você deseja criar uma função que some três números\n",
        "informados nos argumentos da função quando ela for chamada\n",
        "'''\n",
        "def soma1(n1, n2, n3):\n",
        "  resultado = n1 + n2 + n3\n",
        "  return resultado"
      ],
      "metadata": {
        "id": "RPOi5kIsh6kg"
      },
      "execution_count": null,
      "outputs": []
    },
    {
      "cell_type": "code",
      "source": [
        "'''\n",
        "Imagine que você deseja criar uma função sem argumentos que some três números\n",
        "informados pelo usuário via inputs e retorne o resultado\n",
        "'''\n",
        "def soma():\n",
        "  n1 = int(input('N1: '))\n",
        "  n2 = int(input('N3: '))\n",
        "  n3 = int(input('N3: '))\n",
        "  resultado = n1 + n2 + n3\n",
        "  return resultado"
      ],
      "metadata": {
        "id": "MdMmOwCjkEAn"
      },
      "execution_count": null,
      "outputs": []
    },
    {
      "cell_type": "code",
      "source": [
        "soma()"
      ],
      "metadata": {
        "colab": {
          "base_uri": "https://localhost:8080/"
        },
        "id": "vETHALsrkXre",
        "outputId": "8ec1690c-17e8-462f-91e6-203f7133784d"
      },
      "execution_count": null,
      "outputs": [
        {
          "name": "stdout",
          "output_type": "stream",
          "text": [
            "N1: 3\n",
            "N3: 4\n",
            "N3: 5\n"
          ]
        },
        {
          "output_type": "execute_result",
          "data": {
            "text/plain": [
              "12"
            ]
          },
          "metadata": {},
          "execution_count": 12
        }
      ]
    },
    {
      "cell_type": "markdown",
      "source": [
        "## 7.2 - Quantidade variável de argumentos na função (ARGS e KWARGS)"
      ],
      "metadata": {
        "id": "q8QhTMW6oA_N"
      }
    },
    {
      "cell_type": "code",
      "source": [
        "def desconto2(valor, *args): # cria a função desconto2 com apenas um argumento obrigatório (valor) e os demais argumentos posicionais são opcionais\n",
        "  desconto = 0 # cria a variável desconto com o valor zero, pois a princípio a função foi criada para permitir que o desconto tenha de 0 a n opções (*args)\n",
        "  for arg in args:# percorre cada argumento opcional informado na chamada da função e armazenado na lista args\n",
        "    desconto += arg * valor # multiplica cada valor da lista args pelo valor da compra e adiciona à variável desconto\n",
        "  return desconto # retorna o desconto total"
      ],
      "metadata": {
        "id": "iA2tS3VenveI"
      },
      "execution_count": null,
      "outputs": []
    },
    {
      "cell_type": "code",
      "source": [
        "desconto2(1000,0.01,0.02,0.03,0.04)"
      ],
      "metadata": {
        "colab": {
          "base_uri": "https://localhost:8080/"
        },
        "id": "UPQjjum5pC5e",
        "outputId": "d86a1552-3259-4e1e-8fd0-51e5188223cc"
      },
      "execution_count": null,
      "outputs": [
        {
          "output_type": "execute_result",
          "data": {
            "text/plain": [
              "100.0"
            ]
          },
          "metadata": {},
          "execution_count": 43
        }
      ]
    },
    {
      "cell_type": "code",
      "source": [
        "def desconto3(valor, **kwargs):\n",
        "  desconto = 0\n",
        "  if 'cupon' in kwargs:\n",
        "    desconto += kwargs['cupon'] * valor\n",
        "  if 'pix' in kwargs:\n",
        "    desconto += kwargs['pix'] * valor\n",
        "  if 'vip' in kwargs:\n",
        "     desconto += kwargs['vip'] * valor\n",
        "  if 'prof' in kwargs:\n",
        "    desconto += kwargs['prof'] * valor\n",
        "  return desconto"
      ],
      "metadata": {
        "id": "6PCcSLOVzOvg"
      },
      "execution_count": null,
      "outputs": []
    },
    {
      "cell_type": "code",
      "source": [
        "desconto3(1000, vip=0.03)"
      ],
      "metadata": {
        "colab": {
          "base_uri": "https://localhost:8080/"
        },
        "id": "dYAstla20tNS",
        "outputId": "7bb34905-7a42-4064-c6d4-e4748f0f80a6"
      },
      "execution_count": null,
      "outputs": [
        {
          "output_type": "execute_result",
          "data": {
            "text/plain": [
              "30.0"
            ]
          },
          "metadata": {},
          "execution_count": 48
        }
      ]
    },
    {
      "cell_type": "markdown",
      "source": [
        "# 8 - Módulos"
      ],
      "metadata": {
        "id": "JuVnqgsC_p5m"
      }
    },
    {
      "cell_type": "code",
      "source": [
        "'''\n",
        "Módulos são scripts que podem ser salvos com a extensão .py e importados\n",
        "por outros arquivos python\n",
        "\n",
        "vamos abrir um novo colab e criar um módulo\n",
        "'''"
      ],
      "metadata": {
        "id": "cY5WNmwT_t9z"
      },
      "execution_count": null,
      "outputs": []
    },
    {
      "cell_type": "markdown",
      "source": [
        "## 8.1 - Importando outros módulos já previamente instalados"
      ],
      "metadata": {
        "id": "hew0Hd-tbf6I"
      }
    },
    {
      "cell_type": "code",
      "source": [
        "# Módulo Numpy\n",
        "import numpy as np"
      ],
      "metadata": {
        "id": "NYYv6ySBcak3"
      },
      "execution_count": null,
      "outputs": []
    },
    {
      "cell_type": "code",
      "source": [
        "# Módulo Pandas\n",
        "import pandas as pd"
      ],
      "metadata": {
        "id": "EjLcoMlhcopE"
      },
      "execution_count": null,
      "outputs": []
    },
    {
      "cell_type": "code",
      "source": [
        "# Módulo Seaborn\n",
        "import seaborn as sns"
      ],
      "metadata": {
        "id": "kNf4kjozcucY"
      },
      "execution_count": null,
      "outputs": []
    },
    {
      "cell_type": "code",
      "source": [
        "# Módulo Matplotlib\n",
        "import matplotlib as plt"
      ],
      "metadata": {
        "id": "N6kj-2KKczkO"
      },
      "execution_count": null,
      "outputs": []
    },
    {
      "cell_type": "markdown",
      "source": [
        "## 8.2 Instalando módulos"
      ],
      "metadata": {
        "id": "b_lhXuexc94z"
      }
    },
    {
      "cell_type": "code",
      "source": [
        "pip install pymysql"
      ],
      "metadata": {
        "colab": {
          "base_uri": "https://localhost:8080/"
        },
        "id": "6OpHAGRcdT83",
        "outputId": "8278d096-a2cb-46df-d016-12489b23eeab"
      },
      "execution_count": null,
      "outputs": [
        {
          "output_type": "stream",
          "name": "stdout",
          "text": [
            "Collecting pymysql\n",
            "  Downloading PyMySQL-1.1.0-py3-none-any.whl (44 kB)\n",
            "\u001b[?25l     \u001b[90m━━━━━━━━━━━━━━━━━━━━━━━━━━━━━━━━━━━━━━━━\u001b[0m \u001b[32m0.0/44.8 kB\u001b[0m \u001b[31m?\u001b[0m eta \u001b[36m-:--:--\u001b[0m\r\u001b[2K     \u001b[90m━━━━━━━━━━━━━━━━━━━━━━━━━━━━━━━━━━━━━━━━\u001b[0m \u001b[32m44.8/44.8 kB\u001b[0m \u001b[31m1.5 MB/s\u001b[0m eta \u001b[36m0:00:00\u001b[0m\n",
            "\u001b[?25hInstalling collected packages: pymysql\n",
            "Successfully installed pymysql-1.1.0\n"
          ]
        }
      ]
    },
    {
      "cell_type": "code",
      "source": [
        "import pymysql"
      ],
      "metadata": {
        "id": "NpLQvrc6dEmf"
      },
      "execution_count": null,
      "outputs": []
    },
    {
      "cell_type": "code",
      "source": [
        "'''\n",
        "Elabore um programa que receba do usuário em um único input\n",
        "uma sequência de números e calcule e exiba:\n",
        "a) a média aritmética\n",
        "b) a variância\n",
        "c) o desvio padrão\n",
        "'''\n",
        "dados = input('Informe os valores numéricos separados por espaços: ') # recebe uma string com todos os valores desejados\n",
        "lista = dados.split() # converte a string em uma lista contendo strings numérica separadas\n",
        "n = len(lista)\n",
        "for i in range(n):\n",
        "  lista[i] = float(lista[i])\n",
        "media = sum(lista)/n\n",
        "quad = []\n",
        "for i in range(n):\n",
        "  quad.append((lista[i] - media)**2)\n",
        "var = sum(quad)/(n-1)\n",
        "desvio = var**(1/2)\n",
        "print(f'A média é {media:.2f}')\n",
        "print(f'A variância é {var:.2f}')\n",
        "print(f'O desvio padrão é {desvio:.2f}')"
      ],
      "metadata": {
        "colab": {
          "base_uri": "https://localhost:8080/"
        },
        "id": "ORrOc3hguyzG",
        "outputId": "db8f520c-1cc5-44cc-bd7c-9986389b6240"
      },
      "execution_count": null,
      "outputs": [
        {
          "output_type": "stream",
          "name": "stdout",
          "text": [
            "Informe os valores numéricos separados por espaços: 5 9 7 6 8\n",
            "A média é 7.00\n",
            "A variância é 2.50\n",
            "O desvio padrão é 1.58\n"
          ]
        }
      ]
    },
    {
      "cell_type": "code",
      "source": [
        "'''\n",
        "Elabore um programa que receba do usuário em um único input\n",
        "uma sequência de números e calcule e exiba:\n",
        "a) a média aritmética\n",
        "b) a variância\n",
        "c) o desvio padrão\n",
        "'''\n",
        "dados = input('Informe os valores numéricos separados por espaços: ') # recebe uma string com todos os valores desejados\n",
        "lista = dados.split() # converte a string em uma lista contendo strings numérica separadas\n",
        "n = len(lista)\n",
        "for i,v in enumerate(lista):\n",
        "  lista[i] = float(lista[i])\n",
        "media = sum(lista)/n\n",
        "quad = []\n",
        "for i,v in enumerate(lista):\n",
        "  quad.append((lista[i] - media)**2)\n",
        "var = sum(quad)/(n-1)\n",
        "desvio = var**(1/2)\n",
        "print(f'A média é {media:.2f}')\n",
        "print(f'A variância é {var:.2f}')\n",
        "print(f'O desvio padrão é {desvio:.2f}')"
      ],
      "metadata": {
        "colab": {
          "base_uri": "https://localhost:8080/"
        },
        "id": "r56wyKvU68nu",
        "outputId": "1686a34c-92a0-44cc-d4b5-7442f1e72a3c"
      },
      "execution_count": null,
      "outputs": [
        {
          "output_type": "stream",
          "name": "stdout",
          "text": [
            "Informe os valores numéricos separados por espaços: 5 9 7 6 8\n",
            "A média é 7.00\n",
            "A variância é 2.50\n",
            "O desvio padrão é 1.58\n"
          ]
        }
      ]
    },
    {
      "cell_type": "code",
      "source": [
        "# alternativa usando função com args\n",
        "def media(*args):\n",
        "  soma = 0\n",
        "  quad = []\n",
        "  n = len(args)\n",
        "  for arg in args:\n",
        "    soma += arg\n",
        "  media = soma / n\n",
        "  for arg in args:\n",
        "    quad.append((arg-media)**2)\n",
        "  var = sum(quad)/(n-1)\n",
        "  desvio = var**(1/2)\n",
        "  return media, var, desvio"
      ],
      "metadata": {
        "id": "nhrUIdKT8uyG"
      },
      "execution_count": null,
      "outputs": []
    },
    {
      "cell_type": "code",
      "source": [
        "# Como ordenar de forma crescente os valores de uma lista:\n",
        "\n",
        "lista = [10, 5, 6, 9, 8, 7]\n",
        "lista = sorted(lista)\n",
        "print(lista)"
      ],
      "metadata": {
        "colab": {
          "base_uri": "https://localhost:8080/"
        },
        "id": "0MJlbXHmIX_K",
        "outputId": "632b397e-c1ca-4cc4-a2ef-a1dc3782efba"
      },
      "execution_count": null,
      "outputs": [
        {
          "output_type": "stream",
          "name": "stdout",
          "text": [
            "[5, 6, 7, 8, 9, 10]\n"
          ]
        }
      ]
    },
    {
      "cell_type": "code",
      "source": [
        "# para n ímpar\n",
        "nomes = ['Douglas', 'Daniela', 'Maria', 'Pedro', 'Eduardo']\n",
        "n = len(nomes)\n",
        "print(n)\n",
        "print(f'O nome que separa a lista em duas partes é {nomes[(int((n+1)/2))-1]}')"
      ],
      "metadata": {
        "colab": {
          "base_uri": "https://localhost:8080/"
        },
        "id": "ESOSlC19L2e2",
        "outputId": "d5837320-5b7a-46c1-8156-d779d585185a"
      },
      "execution_count": null,
      "outputs": [
        {
          "output_type": "stream",
          "name": "stdout",
          "text": [
            "5\n",
            "O nome que separa a lista em duas partes é Maria\n"
          ]
        }
      ]
    },
    {
      "cell_type": "code",
      "source": [
        "# para n par\n",
        "nomes2 = ['Douglas', 'Daniela', 'Maria', 'Pedro', 'Eduardo','Ester']\n",
        "n = len(nomes2)\n",
        "print(n)\n",
        "print(f'Os nomes centrais {nomes2[int(n/2)-1]} e {nomes2[int(n/2)]}')"
      ],
      "metadata": {
        "colab": {
          "base_uri": "https://localhost:8080/"
        },
        "id": "_sMt0gysNeUo",
        "outputId": "4e0ad637-8bfb-446b-ed9b-6b89afe1a327"
      },
      "execution_count": null,
      "outputs": [
        {
          "output_type": "stream",
          "name": "stdout",
          "text": [
            "6\n",
            "Os nomes centrais Maria e Pedro\n"
          ]
        }
      ]
    },
    {
      "cell_type": "code",
      "source": [
        "'''\n",
        "Implente a seguinte funcionalidade no programa:\n",
        "cálculo e exibição da mediana\n",
        "'''\n",
        "'''\n",
        "Elabore um programa que receba do usuário em um único input\n",
        "uma sequência de números e calcule e exiba:\n",
        "a) a média aritmética\n",
        "b) a variância\n",
        "c) o desvio padrão\n",
        "'''\n",
        "dados = input('Informe os valores numéricos separados por espaços: ') # recebe uma string com todos os valores desejados\n",
        "lista = dados.split() # converte a string em uma lista contendo strings numérica separadas\n",
        "n = len(lista)\n",
        "for i in range(n):\n",
        "  lista[i] = float(lista[i])\n",
        "media = sum(lista)/n\n",
        "quad = []\n",
        "for i in range(n):\n",
        "  quad.append((lista[i] - media)**2)\n",
        "var = sum(quad)/(n-1)\n",
        "desvio = var**(1/2)\n",
        "lista = sorted(lista)\n",
        "if n % 2 == 0:\n",
        "  mediana = (lista[int(n/2)-1] + lista[int(n/2)])/2\n",
        "else:\n",
        "  mediana = lista[int((n+1)/2)-1]\n",
        "print(f'A média é {media:.2f}')\n",
        "print(f'A variância é {var:.2f}')\n",
        "print(f'O desvio padrão é {desvio:.2f}')\n",
        "print(f'O Valor da mediana é {mediana:.2f}')"
      ],
      "metadata": {
        "colab": {
          "base_uri": "https://localhost:8080/"
        },
        "id": "drOXWM7pGf4U",
        "outputId": "7ede46d0-2120-4258-c39c-4c92c86fdce5"
      },
      "execution_count": null,
      "outputs": [
        {
          "output_type": "stream",
          "name": "stdout",
          "text": [
            "Informe os valores numéricos separados por espaços: 5 9 7 6 8 10\n",
            "A média é 7.50\n",
            "A variância é 3.50\n",
            "O desvio padrão é 1.87\n",
            "O Valor da mediana é 7.50\n"
          ]
        }
      ]
    }
  ]
}