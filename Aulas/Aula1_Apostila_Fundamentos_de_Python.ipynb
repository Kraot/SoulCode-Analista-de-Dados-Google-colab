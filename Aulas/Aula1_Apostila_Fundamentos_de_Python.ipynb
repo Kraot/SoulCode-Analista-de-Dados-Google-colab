{
  "nbformat": 4,
  "nbformat_minor": 0,
  "metadata": {
    "colab": {
      "provenance": [],
      "include_colab_link": true
    },
    "kernelspec": {
      "name": "python3",
      "display_name": "Python 3"
    },
    "language_info": {
      "name": "python"
    }
  },
  "cells": [
    {
      "cell_type": "markdown",
      "metadata": {
        "id": "view-in-github",
        "colab_type": "text"
      },
      "source": [
        "<a href=\"https://colab.research.google.com/github/Kraot/SoulCode-Analista-de-Dados-Google-colab/blob/main/Aula1_Apostila_Fundamentos_de_Python.ipynb\" target=\"_parent\"><img src=\"https://colab.research.google.com/assets/colab-badge.svg\" alt=\"Open In Colab\"/></a>"
      ]
    },
    {
      "cell_type": "markdown",
      "source": [
        "# 1 - Variáveis e tipos de dados em Python"
      ],
      "metadata": {
        "id": "QEgob3nUtMz3"
      }
    },
    {
      "cell_type": "markdown",
      "source": [
        "## 1.1 - Variáveis"
      ],
      "metadata": {
        "id": "N4yykEnRwpjE"
      }
    },
    {
      "cell_type": "code",
      "execution_count": null,
      "metadata": {
        "colab": {
          "base_uri": "https://localhost:8080/"
        },
        "id": "M5JD3IgVrRRO",
        "outputId": "3f805b1a-d92a-4d30-cce5-5dbee7e7ee5e"
      },
      "outputs": [
        {
          "output_type": "stream",
          "name": "stdout",
          "text": [
            "Douglas\n",
            "<class 'str'>\n",
            "48\n",
            "<class 'int'>\n",
            "1.85\n",
            "<class 'float'>\n"
          ]
        }
      ],
      "source": [
        "'''\n",
        "Em Python, variáveis são utilizadas para armazenar valores na memória do\n",
        "computador. Para criar uma variável, você precisa usar um nome e um valor.\n",
        "O nome da variável deve seguir as regras de nomenclatura do Python:\n",
        "\n",
        "Deve começar com uma letra ou sublinhado (_).\n",
        "Pode conter letras, números e sublinhados.\n",
        "Não pode ser uma palavra-chave reservada do Python.\n",
        "Para atribuir um valor a uma variável, utilize o operador de atribuição (=).\n",
        "Exemplo:\n",
        "'''\n",
        "nome = 'Douglas'\n",
        "print(nome)\n",
        "print(type(nome))\n",
        "idade = 48\n",
        "print(idade)\n",
        "print(type(idade))\n",
        "altura = 1.85\n",
        "print(altura)\n",
        "print(type(altura))"
      ]
    },
    {
      "cell_type": "markdown",
      "source": [
        "## 1.2 - Tipos de dados"
      ],
      "metadata": {
        "id": "eJWlRXpkwn_E"
      }
    },
    {
      "cell_type": "code",
      "source": [
        "'''\n",
        "Tipos de Dados:\n",
        "\n",
        "Cada variável em Python possui um tipo de dado, que define o tipo de valor que\n",
        "ela pode armazenar. Os tipos de dados mais comuns em Python são:\n",
        "\n",
        "Inteiro (int): Números inteiros, como 1, 2, 3, etc.\n",
        "Ponto flutuante (float): Números com casas decimais, como 1.5, 2.75, 3.14, etc.\n",
        "String (str): Textos, como \"Olá, mundo!\", \"Python é legal\", etc.\n",
        "Booleano (bool): Valores True ou False.\n",
        "Conversão de Tipos:\n",
        "\n",
        "É possível converter um tipo de dado para outro usando funções específicas.\n",
        "Exemplo:\n",
        "'''\n",
        "nome = 'Douglas'\n",
        "print(type(nome))\n",
        "numero_inteiro = 10\n",
        "print(type(numero_inteiro))\n",
        "numero_float = float(numero_inteiro)  # Converte um inteiro para um float\n",
        "print(type(numero_float))"
      ],
      "metadata": {
        "colab": {
          "base_uri": "https://localhost:8080/"
        },
        "id": "FucRWQAOwlwk",
        "outputId": "b00c85bf-7ce4-4aac-b66e-9089899fdc62"
      },
      "execution_count": null,
      "outputs": [
        {
          "output_type": "stream",
          "name": "stdout",
          "text": [
            "<class 'str'>\n",
            "<class 'int'>\n",
            "<class 'float'>\n"
          ]
        }
      ]
    },
    {
      "cell_type": "markdown",
      "source": [
        "# 2 - Operadores Python"
      ],
      "metadata": {
        "id": "n2h-kR0TzAky"
      }
    },
    {
      "cell_type": "markdown",
      "source": [
        "## 2.1 - Operadores Matemáticos"
      ],
      "metadata": {
        "id": "owbqbLcwzEsE"
      }
    },
    {
      "cell_type": "code",
      "source": [
        "'''\n",
        "Os operadores aritméticos em Python permitem realizar operações matemáticas\n",
        "básicas, como adição, subtração, multiplicação, divisão e exponenciação. São\n",
        "ferramentas essenciais para qualquer programador Python, desde iniciantes até\n",
        "experientes.\n",
        "'''"
      ],
      "metadata": {
        "id": "2XjavkXIzJoc"
      },
      "execution_count": null,
      "outputs": []
    },
    {
      "cell_type": "code",
      "source": [
        "# Soma (+)\n",
        "soma = 5 + 2\n",
        "print(soma)"
      ],
      "metadata": {
        "colab": {
          "base_uri": "https://localhost:8080/"
        },
        "id": "Ci4e2lRyzTSh",
        "outputId": "c2712f0a-b4cb-4a2d-d42a-1a280ccb7799"
      },
      "execution_count": null,
      "outputs": [
        {
          "output_type": "stream",
          "name": "stdout",
          "text": [
            "7\n"
          ]
        }
      ]
    },
    {
      "cell_type": "code",
      "source": [
        "# Subtração (-)\n",
        "menos = 5 - 2\n",
        "print(menos)"
      ],
      "metadata": {
        "colab": {
          "base_uri": "https://localhost:8080/"
        },
        "id": "8kbpYX7u0F2B",
        "outputId": "93ef91f7-4faa-4412-ad92-9193a2e5de42"
      },
      "execution_count": null,
      "outputs": [
        {
          "output_type": "stream",
          "name": "stdout",
          "text": [
            "3\n"
          ]
        }
      ]
    },
    {
      "cell_type": "code",
      "source": [
        "# Multiplicação (*)\n",
        "vezes = 5 * 2\n",
        "print(vezes)"
      ],
      "metadata": {
        "colab": {
          "base_uri": "https://localhost:8080/"
        },
        "id": "vrlA42V60PYx",
        "outputId": "c69c3843-9e81-455a-8f9c-82715f2cb76f"
      },
      "execution_count": null,
      "outputs": [
        {
          "output_type": "stream",
          "name": "stdout",
          "text": [
            "10\n"
          ]
        }
      ]
    },
    {
      "cell_type": "code",
      "source": [
        "# Divisão (/)\n",
        "dividir = 5 / 2\n",
        "print(dividir)"
      ],
      "metadata": {
        "colab": {
          "base_uri": "https://localhost:8080/"
        },
        "id": "0khcyddJ1_ld",
        "outputId": "188d9486-0da7-4772-fff0-7b15b3c0bd10"
      },
      "execution_count": null,
      "outputs": [
        {
          "output_type": "stream",
          "name": "stdout",
          "text": [
            "2.5\n"
          ]
        }
      ]
    },
    {
      "cell_type": "code",
      "source": [
        "# Parte Inteira da divisão (//)\n",
        "inteiro = 5 // 2\n",
        "print(inteiro)"
      ],
      "metadata": {
        "colab": {
          "base_uri": "https://localhost:8080/"
        },
        "id": "1jYy3XxC2Kl-",
        "outputId": "3f471e59-aaf1-4fc3-b3cf-5f91ee3b42cb"
      },
      "execution_count": null,
      "outputs": [
        {
          "output_type": "stream",
          "name": "stdout",
          "text": [
            "2\n"
          ]
        }
      ]
    },
    {
      "cell_type": "code",
      "source": [
        "# Resto da divisão (%)\n",
        "resto = 5 % 2\n",
        "print(resto)"
      ],
      "metadata": {
        "colab": {
          "base_uri": "https://localhost:8080/"
        },
        "id": "Gwj6h1lQ2Yu7",
        "outputId": "00100339-216a-46d0-da52-02dea0a03dfd"
      },
      "execution_count": null,
      "outputs": [
        {
          "output_type": "stream",
          "name": "stdout",
          "text": [
            "1\n"
          ]
        }
      ]
    },
    {
      "cell_type": "code",
      "source": [
        "# Exponenciação (**)\n",
        "elevado = 5 ** 2\n",
        "print(elevado)"
      ],
      "metadata": {
        "colab": {
          "base_uri": "https://localhost:8080/"
        },
        "id": "R7nz0ZIz2oSd",
        "outputId": "48f80c44-1e0b-4f7d-959d-d3042ec02ccc"
      },
      "execution_count": null,
      "outputs": [
        {
          "output_type": "stream",
          "name": "stdout",
          "text": [
            "25\n"
          ]
        }
      ]
    },
    {
      "cell_type": "markdown",
      "source": [
        "## 2.2 - Operadores de Comparação"
      ],
      "metadata": {
        "id": "OZYLxvaL6QMq"
      }
    },
    {
      "cell_type": "code",
      "source": [
        "'''\n",
        "Os operadores de comparação em Python permitem verificar se duas expressões são\n",
        "iguais, diferentes, maiores, menores, etc. São ferramentas essenciais para tomar\n",
        "decisões e realizar comparações em seus programas. Retornam com resultado\n",
        "verdadeiro (True) ou Falso (False) (tipo bool)\n",
        "'''"
      ],
      "metadata": {
        "id": "6AvFjdmS6aJt"
      },
      "execution_count": null,
      "outputs": []
    },
    {
      "cell_type": "code",
      "source": [
        "# Operador de Igualdade (==)\n",
        "igualdade = 3 == 4\n",
        "print(igualdade)"
      ],
      "metadata": {
        "colab": {
          "base_uri": "https://localhost:8080/"
        },
        "id": "hwyeD6YW6rjS",
        "outputId": "949595ec-cc32-4790-fb2e-de6d8c398fb6"
      },
      "execution_count": null,
      "outputs": [
        {
          "output_type": "stream",
          "name": "stdout",
          "text": [
            "False\n"
          ]
        }
      ]
    },
    {
      "cell_type": "code",
      "source": [
        "# Operador de Diferença (!=)\n",
        "diferente = 3 != 4\n",
        "print(diferente)"
      ],
      "metadata": {
        "colab": {
          "base_uri": "https://localhost:8080/"
        },
        "id": "M43inBmu7SBP",
        "outputId": "b77a42bb-c6be-498e-9646-c4a23b914bf9"
      },
      "execution_count": null,
      "outputs": [
        {
          "output_type": "stream",
          "name": "stdout",
          "text": [
            "True\n"
          ]
        }
      ]
    },
    {
      "cell_type": "code",
      "source": [
        "# Operador maior que (>)\n",
        "maior = 3 > 4\n",
        "print(maior)"
      ],
      "metadata": {
        "colab": {
          "base_uri": "https://localhost:8080/"
        },
        "id": "BLc1w4Bu72Pc",
        "outputId": "2e637340-daa3-43e0-ec4b-c4a086b67147"
      },
      "execution_count": null,
      "outputs": [
        {
          "output_type": "stream",
          "name": "stdout",
          "text": [
            "False\n"
          ]
        }
      ]
    },
    {
      "cell_type": "code",
      "source": [
        "# Operador menor que (<)\n",
        "menor = 3 < 4\n",
        "print(menor)"
      ],
      "metadata": {
        "colab": {
          "base_uri": "https://localhost:8080/"
        },
        "id": "LEAWxSOA8Jg3",
        "outputId": "2c1a2c8a-bdeb-4290-cbd6-652bfd677950"
      },
      "execution_count": null,
      "outputs": [
        {
          "output_type": "stream",
          "name": "stdout",
          "text": [
            "True\n"
          ]
        }
      ]
    },
    {
      "cell_type": "code",
      "source": [
        "# Operador maior ou igual a (>=)\n",
        "maior_igual = 3 >= 4\n",
        "print(maior_igual)"
      ],
      "metadata": {
        "colab": {
          "base_uri": "https://localhost:8080/"
        },
        "id": "J-0OjBrf8Xit",
        "outputId": "ff29b567-1900-42e7-c857-9d120bdb18db"
      },
      "execution_count": null,
      "outputs": [
        {
          "output_type": "stream",
          "name": "stdout",
          "text": [
            "False\n"
          ]
        }
      ]
    },
    {
      "cell_type": "code",
      "source": [
        "# Operador menor ou igual a (<=)\n",
        "menor_igual = 3 <= 4\n",
        "print(menor_igual)"
      ],
      "metadata": {
        "colab": {
          "base_uri": "https://localhost:8080/"
        },
        "id": "iCQtQldc9Lv4",
        "outputId": "913cd461-04f8-453f-db35-952263baaa67"
      },
      "execution_count": null,
      "outputs": [
        {
          "output_type": "stream",
          "name": "stdout",
          "text": [
            "True\n"
          ]
        }
      ]
    },
    {
      "cell_type": "code",
      "source": [
        "# Operador de identidade (is)\n",
        "a = 7\n",
        "b = 7.0\n",
        "print(a is b)\n",
        "print(a == b)"
      ],
      "metadata": {
        "colab": {
          "base_uri": "https://localhost:8080/"
        },
        "id": "E0pZkpnk-B-M",
        "outputId": "8df2fee9-302d-4f66-a429-b2391a03f128"
      },
      "execution_count": null,
      "outputs": [
        {
          "output_type": "stream",
          "name": "stdout",
          "text": [
            "False\n",
            "True\n"
          ]
        }
      ]
    },
    {
      "cell_type": "code",
      "source": [
        "# Operador de identidade (is not)\n",
        "a = 7\n",
        "b = 7.0\n",
        "print(a is not b)\n",
        "print(a != b)"
      ],
      "metadata": {
        "id": "wnDpQpiS-FeU"
      },
      "execution_count": null,
      "outputs": []
    },
    {
      "cell_type": "markdown",
      "source": [
        "## 2.3 Operadores de Associação"
      ],
      "metadata": {
        "id": "fJeh5qfd_5QS"
      }
    },
    {
      "cell_type": "code",
      "source": [
        "'''\n",
        "Os operadores de associação in e not in em Python permitem verificar se um\n",
        "elemento está presente ou não em uma coleção, como listas, tuplas, dicionários e\n",
        "strings. São ferramentas úteis para filtrar dados e realizar comparações em seus\n",
        "programas. Assim como os aoperadores de comparação eles retornam\n",
        "Verdadeiro (True) ou Falso (False)\n",
        "'''"
      ],
      "metadata": {
        "id": "wfWdqtjx__re"
      },
      "execution_count": null,
      "outputs": []
    },
    {
      "cell_type": "code",
      "source": [
        "# Operador in\n",
        "nome = 'Douglas'\n",
        "print('D' in nome)"
      ],
      "metadata": {
        "colab": {
          "base_uri": "https://localhost:8080/"
        },
        "id": "jkj9EzDuABm-",
        "outputId": "8886fea4-11a0-4325-a3f0-f16c871e5410"
      },
      "execution_count": null,
      "outputs": [
        {
          "output_type": "stream",
          "name": "stdout",
          "text": [
            "True\n"
          ]
        }
      ]
    },
    {
      "cell_type": "code",
      "source": [
        "# Operador not in\n",
        "nome = 'Douglas'\n",
        "print('D' not in nome)"
      ],
      "metadata": {
        "colab": {
          "base_uri": "https://localhost:8080/"
        },
        "id": "7tE402U8AC-7",
        "outputId": "f4a8f1de-9204-49a1-dcc4-e19c33b02c82"
      },
      "execution_count": null,
      "outputs": [
        {
          "output_type": "stream",
          "name": "stdout",
          "text": [
            "False\n"
          ]
        }
      ]
    },
    {
      "cell_type": "markdown",
      "source": [
        "## 2.4 - Operadores Lógicos (AND, OR e NOT)"
      ],
      "metadata": {
        "id": "pd11WFzrF1_k"
      }
    },
    {
      "cell_type": "code",
      "source": [
        "'''\n",
        "Os operadores lógicos em Python permitem combinar expressões booleanas\n",
        "(True ou False) para formar novas expressões booleanas. São ferramentas\n",
        "essenciais para tomar decisões e realizar comparações complexas em seus\n",
        "programas. São eles:\n",
        "\n",
        "E (and): Retorna True se ambas as expressões forem True.\n",
        "Exemplo: x > 0 and y < 10.\n",
        "\n",
        "Ou (or): Retorna True se pelo menos uma das expressões for True.\n",
        "Exemplo: x == 0 or y == 10.\n",
        "\n",
        "Não (not): Inverte o valor da expressão.\n",
        "Exemplo: not (x > 0).\n",
        "'''"
      ],
      "metadata": {
        "id": "waZeftCUF017"
      },
      "execution_count": null,
      "outputs": []
    },
    {
      "cell_type": "code",
      "source": [
        "# Operador AND retorna verdadeiro se todas as condições forem verdadeiras\n",
        "a = 3\n",
        "b = 4\n",
        "c = 5\n",
        "print(a < b and b < c)\n",
        "print(a < b and b > c)"
      ],
      "metadata": {
        "colab": {
          "base_uri": "https://localhost:8080/"
        },
        "id": "-gq8GSXVGPtW",
        "outputId": "0d1855b1-e457-48aa-9b4f-bd17838321f5"
      },
      "execution_count": null,
      "outputs": [
        {
          "output_type": "stream",
          "name": "stdout",
          "text": [
            "True\n",
            "False\n"
          ]
        }
      ]
    },
    {
      "cell_type": "code",
      "source": [
        "# Operador OR retorna verdadeiro se pelo menos uma das condições for verdadeira\n",
        "a = 3\n",
        "b = 4\n",
        "c = 5\n",
        "print(a < b or b < c) # verdadeiro\n",
        "print(a < b or b > c) # verdadiro\n",
        "print(a > b or a > c) # Falso"
      ],
      "metadata": {
        "colab": {
          "base_uri": "https://localhost:8080/"
        },
        "id": "g-e8fLwWJipr",
        "outputId": "09a1a856-3dfd-4a13-f993-09d5b9f03e9a"
      },
      "execution_count": null,
      "outputs": [
        {
          "output_type": "stream",
          "name": "stdout",
          "text": [
            "True\n",
            "True\n",
            "False\n"
          ]
        }
      ]
    },
    {
      "cell_type": "code",
      "source": [
        "# Operador not (inverte o resulta de verdadeiro para falso e de falso para verdadeiro)\n",
        "a = 3\n",
        "b = 4\n",
        "c = 5\n",
        "print(not(a > b))\n",
        "print(not(a < b))"
      ],
      "metadata": {
        "colab": {
          "base_uri": "https://localhost:8080/"
        },
        "id": "gwT5moD-KLO2",
        "outputId": "2728a94e-9fa2-4d47-ab32-73185a834eae"
      },
      "execution_count": null,
      "outputs": [
        {
          "output_type": "stream",
          "name": "stdout",
          "text": [
            "True\n",
            "False\n"
          ]
        }
      ]
    },
    {
      "cell_type": "markdown",
      "source": [
        "# 3 - Strings"
      ],
      "metadata": {
        "id": "OVcHgds0KpIQ"
      }
    },
    {
      "cell_type": "markdown",
      "source": [
        "## 3.1 - Formatação de Strings (f-strings)"
      ],
      "metadata": {
        "id": "JK03JEKkKsuk"
      }
    },
    {
      "cell_type": "code",
      "source": [
        "'''\n",
        "As f-strings em Python são uma maneira concisa e elegante de formatar strings.\n",
        "Elas permitem incorporar expressões Python diretamente dentro de strings,\n",
        "tornando o código mais legível e fácil de manter.\n",
        "\n",
        "Como usar f-strings:\n",
        "\n",
        "Para usar f-strings, basta prefixar uma string literal com a letra \"f\".\n",
        "Dentro da string, você pode usar expressões Python entre chaves \"{}\":\n",
        "'''"
      ],
      "metadata": {
        "id": "ek6nH8PQKz-E"
      },
      "execution_count": null,
      "outputs": []
    },
    {
      "cell_type": "code",
      "source": [
        "cliente = 'Douglas'\n",
        "idade = 48\n",
        "print(f'O nome do cliente é {cliente}, e ele tem {idade} anos de idade.')"
      ],
      "metadata": {
        "colab": {
          "base_uri": "https://localhost:8080/"
        },
        "id": "S1a9UW5vLEnT",
        "outputId": "516f3188-dfd5-4f57-f31f-1ba5149b8972"
      },
      "execution_count": null,
      "outputs": [
        {
          "output_type": "stream",
          "name": "stdout",
          "text": [
            "O nome do cliente é Douglas, e ele tem 48 anos de idade.\n"
          ]
        }
      ]
    },
    {
      "cell_type": "code",
      "source": [
        "taxa = 2/3\n",
        "print(taxa)\n",
        "print(f'O resultado da taxa é aproximadamente {taxa:.2f}')"
      ],
      "metadata": {
        "colab": {
          "base_uri": "https://localhost:8080/"
        },
        "id": "K-l_m3JGMcic",
        "outputId": "5a396d32-3d94-4745-acfe-f197539d9474"
      },
      "execution_count": null,
      "outputs": [
        {
          "output_type": "stream",
          "name": "stdout",
          "text": [
            "0.6666666666666666\n",
            "O resultado da taxa é aproximadamente 0.67\n"
          ]
        }
      ]
    },
    {
      "cell_type": "markdown",
      "source": [
        "## 3.2 - Entrada definida pelo usuário (função input)"
      ],
      "metadata": {
        "id": "D_sq_R_yNlKh"
      }
    },
    {
      "cell_type": "code",
      "source": [
        "'''\n",
        "A função input() em Python permite que você obtenha entrada do usuário durante a\n",
        "execução do programa. É uma ferramenta essencial para interagir com o usuário e\n",
        "coletar dados para processamento.\n",
        "\n",
        "Como usar a função input():\n",
        "\n",
        "A função input() é simples de usar. Basta fornecer uma mensagem entre parênteses\n",
        "para instruir o usuário sobre o que digitar:\n",
        "'''"
      ],
      "metadata": {
        "id": "0WgB33zeOO1U"
      },
      "execution_count": null,
      "outputs": []
    },
    {
      "cell_type": "code",
      "source": [
        "nome = input('Informe seu primeiro nome: ')\n",
        "print(f'Olá, {nome}!')"
      ],
      "metadata": {
        "colab": {
          "base_uri": "https://localhost:8080/"
        },
        "id": "Y7D5WjEGOaD2",
        "outputId": "9ddd566f-e574-47aa-cd91-8c2c44ec4916"
      },
      "execution_count": null,
      "outputs": [
        {
          "output_type": "stream",
          "name": "stdout",
          "text": [
            "Informe seu primeiro nome: Douglas\n",
            "Olá, Douglas!\n"
          ]
        }
      ]
    },
    {
      "cell_type": "code",
      "source": [
        "nome = input('Informe o seu primeiro nome: ')\n",
        "massa = float(input('Informe seu peso em kg: '))\n",
        "altura = float(input('Informe sua altura em metros na forma decimal: '))\n",
        "imc = massa / (altura ** 2)\n",
        "print(f'Olá {nome}! Seu IMC é {imc:.2f}')"
      ],
      "metadata": {
        "colab": {
          "base_uri": "https://localhost:8080/"
        },
        "id": "O1h7WfxuPChC",
        "outputId": "06ea77d8-b6e9-4a74-dfcc-23bae5c8449f"
      },
      "execution_count": null,
      "outputs": [
        {
          "output_type": "stream",
          "name": "stdout",
          "text": [
            "Informe o seu primeiro nome: Douglas\n",
            "Informe seu peso em kg: 80\n",
            "Informe sua altura em metros na forma decimal: 1.85\n",
            "Olá Douglas! Seu IMC é 23.37\n"
          ]
        }
      ]
    }
  ]
}